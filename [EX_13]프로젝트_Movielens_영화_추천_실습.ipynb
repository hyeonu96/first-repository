{
  "cells": [
    {
      "cell_type": "markdown",
      "metadata": {
        "id": "view-in-github",
        "colab_type": "text"
      },
      "source": [
        "<a href=\"https://colab.research.google.com/github/hyeonu96/first-repository/blob/main/%5BEX_13%5D%ED%94%84%EB%A1%9C%EC%A0%9D%ED%8A%B8_Movielens_%EC%98%81%ED%99%94_%EC%B6%94%EC%B2%9C_%EC%8B%A4%EC%8A%B5.ipynb\" target=\"_parent\"><img src=\"https://colab.research.google.com/assets/colab-badge.svg\" alt=\"Open In Colab\"/></a>"
      ]
    },
    {
      "cell_type": "markdown",
      "source": [
        "# 프로젝트 - Movielens 영화 추천 실습"
      ],
      "metadata": {
        "id": "i5rh0LMpc9oP"
      },
      "id": "i5rh0LMpc9oP"
    },
    {
      "cell_type": "markdown",
      "source": [
        "## 1) 데이터 준비와 전처리"
      ],
      "metadata": {
        "id": "KYgE-m1Ac_L7"
      },
      "id": "KYgE-m1Ac_L7"
    },
    {
      "cell_type": "code",
      "execution_count": null,
      "id": "5808bfef",
      "metadata": {
        "id": "5808bfef",
        "outputId": "d6768af6-b625-49d9-db76-ac8e83a5c0b3"
      },
      "outputs": [
        {
          "name": "stdout",
          "output_type": "stream",
          "text": [
            "1.21.4\n",
            "1.7.1\n",
            "0.4.8\n"
          ]
        }
      ],
      "source": [
        "import numpy as np\n",
        "import scipy\n",
        "import implicit\n",
        "import pandas as pd\n",
        "\n",
        "print(np.__version__)\n",
        "print(scipy.__version__)\n",
        "print(implicit.__version__)"
      ]
    },
    {
      "cell_type": "markdown",
      "source": [
        "## 2) 분석해 봅시다.\n",
        "ratings에 있는 유니크한 영화 개수\n",
        "ratings에 있는 유니크한 사용자 수\n",
        " 가장 인기 있는 영화 30개(인기순)"
      ],
      "metadata": {
        "id": "GEgpmL3WdA_a"
      },
      "id": "GEgpmL3WdA_a"
    },
    {
      "cell_type": "code",
      "execution_count": null,
      "id": "3e3ae7b5",
      "metadata": {
        "id": "3e3ae7b5",
        "outputId": "52bd5b61-2f47-4a98-ebe1-bccd89d6bc63"
      },
      "outputs": [
        {
          "data": {
            "text/html": [
              "<div>\n",
              "<style scoped>\n",
              "    .dataframe tbody tr th:only-of-type {\n",
              "        vertical-align: middle;\n",
              "    }\n",
              "\n",
              "    .dataframe tbody tr th {\n",
              "        vertical-align: top;\n",
              "    }\n",
              "\n",
              "    .dataframe thead th {\n",
              "        text-align: right;\n",
              "    }\n",
              "</style>\n",
              "<table border=\"1\" class=\"dataframe\">\n",
              "  <thead>\n",
              "    <tr style=\"text-align: right;\">\n",
              "      <th></th>\n",
              "      <th>user_id</th>\n",
              "      <th>movie_id</th>\n",
              "      <th>rating</th>\n",
              "      <th>timestamp</th>\n",
              "    </tr>\n",
              "  </thead>\n",
              "  <tbody>\n",
              "    <tr>\n",
              "      <th>0</th>\n",
              "      <td>1</td>\n",
              "      <td>1193</td>\n",
              "      <td>5</td>\n",
              "      <td>978300760</td>\n",
              "    </tr>\n",
              "    <tr>\n",
              "      <th>1</th>\n",
              "      <td>1</td>\n",
              "      <td>661</td>\n",
              "      <td>3</td>\n",
              "      <td>978302109</td>\n",
              "    </tr>\n",
              "    <tr>\n",
              "      <th>2</th>\n",
              "      <td>1</td>\n",
              "      <td>914</td>\n",
              "      <td>3</td>\n",
              "      <td>978301968</td>\n",
              "    </tr>\n",
              "    <tr>\n",
              "      <th>3</th>\n",
              "      <td>1</td>\n",
              "      <td>3408</td>\n",
              "      <td>4</td>\n",
              "      <td>978300275</td>\n",
              "    </tr>\n",
              "    <tr>\n",
              "      <th>4</th>\n",
              "      <td>1</td>\n",
              "      <td>2355</td>\n",
              "      <td>5</td>\n",
              "      <td>978824291</td>\n",
              "    </tr>\n",
              "  </tbody>\n",
              "</table>\n",
              "</div>"
            ],
            "text/plain": [
              "   user_id  movie_id  rating  timestamp\n",
              "0        1      1193       5  978300760\n",
              "1        1       661       3  978302109\n",
              "2        1       914       3  978301968\n",
              "3        1      3408       4  978300275\n",
              "4        1      2355       5  978824291"
            ]
          },
          "execution_count": 22,
          "metadata": {},
          "output_type": "execute_result"
        }
      ],
      "source": [
        "import os\n",
        "rating_file_path=os.getenv('HOME') + '/aiffel/recommendata_iu/data/ml-1m/ratings.dat'\n",
        "ratings_cols = ['user_id', 'movie_id', 'rating', 'timestamp']\n",
        "ratings = pd.read_csv(rating_file_path, sep='::', names=ratings_cols, engine='python')\n",
        "orginal_data_size = len(ratings)\n",
        "ratings.head()"
      ]
    },
    {
      "cell_type": "code",
      "execution_count": null,
      "id": "aa1232c1",
      "metadata": {
        "id": "aa1232c1",
        "outputId": "d24ff907-5e80-412b-91f6-91ec1e90bfd3"
      },
      "outputs": [
        {
          "name": "stdout",
          "output_type": "stream",
          "text": [
            "orginal_data_size: 1000209, filtered_data_size: 836478\n",
            "Ratio of Remaining Data is 83.63%\n"
          ]
        }
      ],
      "source": [
        "# 3점 이상만 남깁니다.\n",
        "ratings = ratings[ratings['rating']>=3]\n",
        "filtered_data_size = len(ratings)\n",
        "\n",
        "print(f'orginal_data_size: {orginal_data_size}, filtered_data_size: {filtered_data_size}')\n",
        "print(f'Ratio of Remaining Data is {filtered_data_size / orginal_data_size:.2%}')"
      ]
    },
    {
      "cell_type": "code",
      "execution_count": null,
      "id": "8e749227",
      "metadata": {
        "id": "8e749227",
        "outputId": "5c5a8787-3ee4-4c6b-8704-bf3175a95c91"
      },
      "outputs": [
        {
          "data": {
            "text/html": [
              "<div>\n",
              "<style scoped>\n",
              "    .dataframe tbody tr th:only-of-type {\n",
              "        vertical-align: middle;\n",
              "    }\n",
              "\n",
              "    .dataframe tbody tr th {\n",
              "        vertical-align: top;\n",
              "    }\n",
              "\n",
              "    .dataframe thead th {\n",
              "        text-align: right;\n",
              "    }\n",
              "</style>\n",
              "<table border=\"1\" class=\"dataframe\">\n",
              "  <thead>\n",
              "    <tr style=\"text-align: right;\">\n",
              "      <th></th>\n",
              "      <th>user_id</th>\n",
              "      <th>movie_id</th>\n",
              "      <th>rating</th>\n",
              "      <th>timestamp</th>\n",
              "    </tr>\n",
              "  </thead>\n",
              "  <tbody>\n",
              "    <tr>\n",
              "      <th>0</th>\n",
              "      <td>1</td>\n",
              "      <td>1193</td>\n",
              "      <td>5</td>\n",
              "      <td>978300760</td>\n",
              "    </tr>\n",
              "    <tr>\n",
              "      <th>1</th>\n",
              "      <td>1</td>\n",
              "      <td>661</td>\n",
              "      <td>3</td>\n",
              "      <td>978302109</td>\n",
              "    </tr>\n",
              "    <tr>\n",
              "      <th>2</th>\n",
              "      <td>1</td>\n",
              "      <td>914</td>\n",
              "      <td>3</td>\n",
              "      <td>978301968</td>\n",
              "    </tr>\n",
              "    <tr>\n",
              "      <th>3</th>\n",
              "      <td>1</td>\n",
              "      <td>3408</td>\n",
              "      <td>4</td>\n",
              "      <td>978300275</td>\n",
              "    </tr>\n",
              "    <tr>\n",
              "      <th>4</th>\n",
              "      <td>1</td>\n",
              "      <td>2355</td>\n",
              "      <td>5</td>\n",
              "      <td>978824291</td>\n",
              "    </tr>\n",
              "  </tbody>\n",
              "</table>\n",
              "</div>"
            ],
            "text/plain": [
              "   user_id  movie_id  rating  timestamp\n",
              "0        1      1193       5  978300760\n",
              "1        1       661       3  978302109\n",
              "2        1       914       3  978301968\n",
              "3        1      3408       4  978300275\n",
              "4        1      2355       5  978824291"
            ]
          },
          "execution_count": 24,
          "metadata": {},
          "output_type": "execute_result"
        }
      ],
      "source": [
        "ratings.head()"
      ]
    },
    {
      "cell_type": "code",
      "execution_count": null,
      "id": "270759f8",
      "metadata": {
        "id": "270759f8",
        "outputId": "b622bcea-fd0c-4819-b76b-70e8e794dbca"
      },
      "outputs": [
        {
          "ename": "UnicodeDecodeError",
          "evalue": "'utf-8' codec can't decode byte 0xe9 in position 3114: invalid continuation byte",
          "output_type": "error",
          "traceback": [
            "\u001b[0;31m---------------------------------------------------------------------------\u001b[0m",
            "\u001b[0;31mUnicodeDecodeError\u001b[0m                        Traceback (most recent call last)",
            "\u001b[0;32m/tmp/ipykernel_81/93045511.py\u001b[0m in \u001b[0;36m<module>\u001b[0;34m\u001b[0m\n\u001b[1;32m      2\u001b[0m \u001b[0mmovie_file_path\u001b[0m\u001b[0;34m=\u001b[0m\u001b[0mos\u001b[0m\u001b[0;34m.\u001b[0m\u001b[0mgetenv\u001b[0m\u001b[0;34m(\u001b[0m\u001b[0;34m'HOME'\u001b[0m\u001b[0;34m)\u001b[0m \u001b[0;34m+\u001b[0m \u001b[0;34m'/aiffel/recommendata_iu/data/ml-1m/movies.dat'\u001b[0m\u001b[0;34m\u001b[0m\u001b[0;34m\u001b[0m\u001b[0m\n\u001b[1;32m      3\u001b[0m \u001b[0mcols\u001b[0m \u001b[0;34m=\u001b[0m \u001b[0;34m[\u001b[0m\u001b[0;34m'movie_id'\u001b[0m\u001b[0;34m,\u001b[0m \u001b[0;34m'title'\u001b[0m\u001b[0;34m,\u001b[0m \u001b[0;34m'genre'\u001b[0m\u001b[0;34m]\u001b[0m\u001b[0;34m\u001b[0m\u001b[0;34m\u001b[0m\u001b[0m\n\u001b[0;32m----> 4\u001b[0;31m \u001b[0mmovies\u001b[0m \u001b[0;34m=\u001b[0m \u001b[0mpd\u001b[0m\u001b[0;34m.\u001b[0m\u001b[0mread_csv\u001b[0m\u001b[0;34m(\u001b[0m\u001b[0mmovie_file_path\u001b[0m\u001b[0;34m,\u001b[0m \u001b[0msep\u001b[0m\u001b[0;34m=\u001b[0m\u001b[0;34m'::'\u001b[0m\u001b[0;34m,\u001b[0m \u001b[0mnames\u001b[0m\u001b[0;34m=\u001b[0m\u001b[0mcols\u001b[0m\u001b[0;34m,\u001b[0m \u001b[0mengine\u001b[0m\u001b[0;34m=\u001b[0m\u001b[0;34m'python'\u001b[0m\u001b[0;34m)\u001b[0m\u001b[0;34m\u001b[0m\u001b[0;34m\u001b[0m\u001b[0m\n\u001b[0m\u001b[1;32m      5\u001b[0m \u001b[0mmovies\u001b[0m\u001b[0;34m.\u001b[0m\u001b[0mhead\u001b[0m\u001b[0;34m(\u001b[0m\u001b[0;36m15\u001b[0m\u001b[0;34m)\u001b[0m\u001b[0;34m\u001b[0m\u001b[0;34m\u001b[0m\u001b[0m\n",
            "\u001b[0;32m/opt/conda/lib/python3.9/site-packages/pandas/util/_decorators.py\u001b[0m in \u001b[0;36mwrapper\u001b[0;34m(*args, **kwargs)\u001b[0m\n\u001b[1;32m    309\u001b[0m                     \u001b[0mstacklevel\u001b[0m\u001b[0;34m=\u001b[0m\u001b[0mstacklevel\u001b[0m\u001b[0;34m,\u001b[0m\u001b[0;34m\u001b[0m\u001b[0;34m\u001b[0m\u001b[0m\n\u001b[1;32m    310\u001b[0m                 )\n\u001b[0;32m--> 311\u001b[0;31m             \u001b[0;32mreturn\u001b[0m \u001b[0mfunc\u001b[0m\u001b[0;34m(\u001b[0m\u001b[0;34m*\u001b[0m\u001b[0margs\u001b[0m\u001b[0;34m,\u001b[0m \u001b[0;34m**\u001b[0m\u001b[0mkwargs\u001b[0m\u001b[0;34m)\u001b[0m\u001b[0;34m\u001b[0m\u001b[0;34m\u001b[0m\u001b[0m\n\u001b[0m\u001b[1;32m    312\u001b[0m \u001b[0;34m\u001b[0m\u001b[0m\n\u001b[1;32m    313\u001b[0m         \u001b[0;32mreturn\u001b[0m \u001b[0mwrapper\u001b[0m\u001b[0;34m\u001b[0m\u001b[0;34m\u001b[0m\u001b[0m\n",
            "\u001b[0;32m/opt/conda/lib/python3.9/site-packages/pandas/io/parsers/readers.py\u001b[0m in \u001b[0;36mread_csv\u001b[0;34m(filepath_or_buffer, sep, delimiter, header, names, index_col, usecols, squeeze, prefix, mangle_dupe_cols, dtype, engine, converters, true_values, false_values, skipinitialspace, skiprows, skipfooter, nrows, na_values, keep_default_na, na_filter, verbose, skip_blank_lines, parse_dates, infer_datetime_format, keep_date_col, date_parser, dayfirst, cache_dates, iterator, chunksize, compression, thousands, decimal, lineterminator, quotechar, quoting, doublequote, escapechar, comment, encoding, encoding_errors, dialect, error_bad_lines, warn_bad_lines, on_bad_lines, delim_whitespace, low_memory, memory_map, float_precision, storage_options)\u001b[0m\n\u001b[1;32m    584\u001b[0m     \u001b[0mkwds\u001b[0m\u001b[0;34m.\u001b[0m\u001b[0mupdate\u001b[0m\u001b[0;34m(\u001b[0m\u001b[0mkwds_defaults\u001b[0m\u001b[0;34m)\u001b[0m\u001b[0;34m\u001b[0m\u001b[0;34m\u001b[0m\u001b[0m\n\u001b[1;32m    585\u001b[0m \u001b[0;34m\u001b[0m\u001b[0m\n\u001b[0;32m--> 586\u001b[0;31m     \u001b[0;32mreturn\u001b[0m \u001b[0m_read\u001b[0m\u001b[0;34m(\u001b[0m\u001b[0mfilepath_or_buffer\u001b[0m\u001b[0;34m,\u001b[0m \u001b[0mkwds\u001b[0m\u001b[0;34m)\u001b[0m\u001b[0;34m\u001b[0m\u001b[0;34m\u001b[0m\u001b[0m\n\u001b[0m\u001b[1;32m    587\u001b[0m \u001b[0;34m\u001b[0m\u001b[0m\n\u001b[1;32m    588\u001b[0m \u001b[0;34m\u001b[0m\u001b[0m\n",
            "\u001b[0;32m/opt/conda/lib/python3.9/site-packages/pandas/io/parsers/readers.py\u001b[0m in \u001b[0;36m_read\u001b[0;34m(filepath_or_buffer, kwds)\u001b[0m\n\u001b[1;32m    480\u001b[0m \u001b[0;34m\u001b[0m\u001b[0m\n\u001b[1;32m    481\u001b[0m     \u001b[0;31m# Create the parser.\u001b[0m\u001b[0;34m\u001b[0m\u001b[0;34m\u001b[0m\u001b[0m\n\u001b[0;32m--> 482\u001b[0;31m     \u001b[0mparser\u001b[0m \u001b[0;34m=\u001b[0m \u001b[0mTextFileReader\u001b[0m\u001b[0;34m(\u001b[0m\u001b[0mfilepath_or_buffer\u001b[0m\u001b[0;34m,\u001b[0m \u001b[0;34m**\u001b[0m\u001b[0mkwds\u001b[0m\u001b[0;34m)\u001b[0m\u001b[0;34m\u001b[0m\u001b[0;34m\u001b[0m\u001b[0m\n\u001b[0m\u001b[1;32m    483\u001b[0m \u001b[0;34m\u001b[0m\u001b[0m\n\u001b[1;32m    484\u001b[0m     \u001b[0;32mif\u001b[0m \u001b[0mchunksize\u001b[0m \u001b[0;32mor\u001b[0m \u001b[0miterator\u001b[0m\u001b[0;34m:\u001b[0m\u001b[0;34m\u001b[0m\u001b[0;34m\u001b[0m\u001b[0m\n",
            "\u001b[0;32m/opt/conda/lib/python3.9/site-packages/pandas/io/parsers/readers.py\u001b[0m in \u001b[0;36m__init__\u001b[0;34m(self, f, engine, **kwds)\u001b[0m\n\u001b[1;32m    809\u001b[0m             \u001b[0mself\u001b[0m\u001b[0;34m.\u001b[0m\u001b[0moptions\u001b[0m\u001b[0;34m[\u001b[0m\u001b[0;34m\"has_index_names\"\u001b[0m\u001b[0;34m]\u001b[0m \u001b[0;34m=\u001b[0m \u001b[0mkwds\u001b[0m\u001b[0;34m[\u001b[0m\u001b[0;34m\"has_index_names\"\u001b[0m\u001b[0;34m]\u001b[0m\u001b[0;34m\u001b[0m\u001b[0;34m\u001b[0m\u001b[0m\n\u001b[1;32m    810\u001b[0m \u001b[0;34m\u001b[0m\u001b[0m\n\u001b[0;32m--> 811\u001b[0;31m         \u001b[0mself\u001b[0m\u001b[0;34m.\u001b[0m\u001b[0m_engine\u001b[0m \u001b[0;34m=\u001b[0m \u001b[0mself\u001b[0m\u001b[0;34m.\u001b[0m\u001b[0m_make_engine\u001b[0m\u001b[0;34m(\u001b[0m\u001b[0mself\u001b[0m\u001b[0;34m.\u001b[0m\u001b[0mengine\u001b[0m\u001b[0;34m)\u001b[0m\u001b[0;34m\u001b[0m\u001b[0;34m\u001b[0m\u001b[0m\n\u001b[0m\u001b[1;32m    812\u001b[0m \u001b[0;34m\u001b[0m\u001b[0m\n\u001b[1;32m    813\u001b[0m     \u001b[0;32mdef\u001b[0m \u001b[0mclose\u001b[0m\u001b[0;34m(\u001b[0m\u001b[0mself\u001b[0m\u001b[0;34m)\u001b[0m\u001b[0;34m:\u001b[0m\u001b[0;34m\u001b[0m\u001b[0;34m\u001b[0m\u001b[0m\n",
            "\u001b[0;32m/opt/conda/lib/python3.9/site-packages/pandas/io/parsers/readers.py\u001b[0m in \u001b[0;36m_make_engine\u001b[0;34m(self, engine)\u001b[0m\n\u001b[1;32m   1038\u001b[0m             )\n\u001b[1;32m   1039\u001b[0m         \u001b[0;31m# error: Too many arguments for \"ParserBase\"\u001b[0m\u001b[0;34m\u001b[0m\u001b[0;34m\u001b[0m\u001b[0m\n\u001b[0;32m-> 1040\u001b[0;31m         \u001b[0;32mreturn\u001b[0m \u001b[0mmapping\u001b[0m\u001b[0;34m[\u001b[0m\u001b[0mengine\u001b[0m\u001b[0;34m]\u001b[0m\u001b[0;34m(\u001b[0m\u001b[0mself\u001b[0m\u001b[0;34m.\u001b[0m\u001b[0mf\u001b[0m\u001b[0;34m,\u001b[0m \u001b[0;34m**\u001b[0m\u001b[0mself\u001b[0m\u001b[0;34m.\u001b[0m\u001b[0moptions\u001b[0m\u001b[0;34m)\u001b[0m  \u001b[0;31m# type: ignore[call-arg]\u001b[0m\u001b[0;34m\u001b[0m\u001b[0;34m\u001b[0m\u001b[0m\n\u001b[0m\u001b[1;32m   1041\u001b[0m \u001b[0;34m\u001b[0m\u001b[0m\n\u001b[1;32m   1042\u001b[0m     \u001b[0;32mdef\u001b[0m \u001b[0m_failover_to_python\u001b[0m\u001b[0;34m(\u001b[0m\u001b[0mself\u001b[0m\u001b[0;34m)\u001b[0m\u001b[0;34m:\u001b[0m\u001b[0;34m\u001b[0m\u001b[0;34m\u001b[0m\u001b[0m\n",
            "\u001b[0;32m/opt/conda/lib/python3.9/site-packages/pandas/io/parsers/python_parser.py\u001b[0m in \u001b[0;36m__init__\u001b[0;34m(self, f, **kwds)\u001b[0m\n\u001b[1;32m    111\u001b[0m                 \u001b[0mself\u001b[0m\u001b[0;34m.\u001b[0m\u001b[0mnum_original_columns\u001b[0m\u001b[0;34m,\u001b[0m\u001b[0;34m\u001b[0m\u001b[0;34m\u001b[0m\u001b[0m\n\u001b[1;32m    112\u001b[0m                 \u001b[0mself\u001b[0m\u001b[0;34m.\u001b[0m\u001b[0munnamed_cols\u001b[0m\u001b[0;34m,\u001b[0m\u001b[0;34m\u001b[0m\u001b[0;34m\u001b[0m\u001b[0m\n\u001b[0;32m--> 113\u001b[0;31m             ) = self._infer_columns()\n\u001b[0m\u001b[1;32m    114\u001b[0m         \u001b[0;32mexcept\u001b[0m \u001b[0;34m(\u001b[0m\u001b[0mTypeError\u001b[0m\u001b[0;34m,\u001b[0m \u001b[0mValueError\u001b[0m\u001b[0;34m)\u001b[0m\u001b[0;34m:\u001b[0m\u001b[0;34m\u001b[0m\u001b[0;34m\u001b[0m\u001b[0m\n\u001b[1;32m    115\u001b[0m             \u001b[0mself\u001b[0m\u001b[0;34m.\u001b[0m\u001b[0mclose\u001b[0m\u001b[0;34m(\u001b[0m\u001b[0;34m)\u001b[0m\u001b[0;34m\u001b[0m\u001b[0;34m\u001b[0m\u001b[0m\n",
            "\u001b[0;32m/opt/conda/lib/python3.9/site-packages/pandas/io/parsers/python_parser.py\u001b[0m in \u001b[0;36m_infer_columns\u001b[0;34m(self)\u001b[0m\n\u001b[1;32m    490\u001b[0m         \u001b[0;32melse\u001b[0m\u001b[0;34m:\u001b[0m\u001b[0;34m\u001b[0m\u001b[0;34m\u001b[0m\u001b[0m\n\u001b[1;32m    491\u001b[0m             \u001b[0;32mtry\u001b[0m\u001b[0;34m:\u001b[0m\u001b[0;34m\u001b[0m\u001b[0;34m\u001b[0m\u001b[0m\n\u001b[0;32m--> 492\u001b[0;31m                 \u001b[0mline\u001b[0m \u001b[0;34m=\u001b[0m \u001b[0mself\u001b[0m\u001b[0;34m.\u001b[0m\u001b[0m_buffered_line\u001b[0m\u001b[0;34m(\u001b[0m\u001b[0;34m)\u001b[0m\u001b[0;34m\u001b[0m\u001b[0;34m\u001b[0m\u001b[0m\n\u001b[0m\u001b[1;32m    493\u001b[0m \u001b[0;34m\u001b[0m\u001b[0m\n\u001b[1;32m    494\u001b[0m             \u001b[0;32mexcept\u001b[0m \u001b[0mStopIteration\u001b[0m \u001b[0;32mas\u001b[0m \u001b[0merr\u001b[0m\u001b[0;34m:\u001b[0m\u001b[0;34m\u001b[0m\u001b[0;34m\u001b[0m\u001b[0m\n",
            "\u001b[0;32m/opt/conda/lib/python3.9/site-packages/pandas/io/parsers/python_parser.py\u001b[0m in \u001b[0;36m_buffered_line\u001b[0;34m(self)\u001b[0m\n\u001b[1;32m    582\u001b[0m             \u001b[0;32mreturn\u001b[0m \u001b[0mself\u001b[0m\u001b[0;34m.\u001b[0m\u001b[0mbuf\u001b[0m\u001b[0;34m[\u001b[0m\u001b[0;36m0\u001b[0m\u001b[0;34m]\u001b[0m\u001b[0;34m\u001b[0m\u001b[0;34m\u001b[0m\u001b[0m\n\u001b[1;32m    583\u001b[0m         \u001b[0;32melse\u001b[0m\u001b[0;34m:\u001b[0m\u001b[0;34m\u001b[0m\u001b[0;34m\u001b[0m\u001b[0m\n\u001b[0;32m--> 584\u001b[0;31m             \u001b[0;32mreturn\u001b[0m \u001b[0mself\u001b[0m\u001b[0;34m.\u001b[0m\u001b[0m_next_line\u001b[0m\u001b[0;34m(\u001b[0m\u001b[0;34m)\u001b[0m\u001b[0;34m\u001b[0m\u001b[0;34m\u001b[0m\u001b[0m\n\u001b[0m\u001b[1;32m    585\u001b[0m \u001b[0;34m\u001b[0m\u001b[0m\n\u001b[1;32m    586\u001b[0m     \u001b[0;32mdef\u001b[0m \u001b[0m_check_for_bom\u001b[0m\u001b[0;34m(\u001b[0m\u001b[0mself\u001b[0m\u001b[0;34m,\u001b[0m \u001b[0mfirst_row\u001b[0m\u001b[0;34m)\u001b[0m\u001b[0;34m:\u001b[0m\u001b[0;34m\u001b[0m\u001b[0;34m\u001b[0m\u001b[0m\n",
            "\u001b[0;32m/opt/conda/lib/python3.9/site-packages/pandas/io/parsers/python_parser.py\u001b[0m in \u001b[0;36m_next_line\u001b[0;34m(self)\u001b[0m\n\u001b[1;32m    679\u001b[0m \u001b[0;34m\u001b[0m\u001b[0m\n\u001b[1;32m    680\u001b[0m             \u001b[0;32mwhile\u001b[0m \u001b[0;32mTrue\u001b[0m\u001b[0;34m:\u001b[0m\u001b[0;34m\u001b[0m\u001b[0;34m\u001b[0m\u001b[0m\n\u001b[0;32m--> 681\u001b[0;31m                 \u001b[0morig_line\u001b[0m \u001b[0;34m=\u001b[0m \u001b[0mself\u001b[0m\u001b[0;34m.\u001b[0m\u001b[0m_next_iter_line\u001b[0m\u001b[0;34m(\u001b[0m\u001b[0mrow_num\u001b[0m\u001b[0;34m=\u001b[0m\u001b[0mself\u001b[0m\u001b[0;34m.\u001b[0m\u001b[0mpos\u001b[0m \u001b[0;34m+\u001b[0m \u001b[0;36m1\u001b[0m\u001b[0;34m)\u001b[0m\u001b[0;34m\u001b[0m\u001b[0;34m\u001b[0m\u001b[0m\n\u001b[0m\u001b[1;32m    682\u001b[0m                 \u001b[0mself\u001b[0m\u001b[0;34m.\u001b[0m\u001b[0mpos\u001b[0m \u001b[0;34m+=\u001b[0m \u001b[0;36m1\u001b[0m\u001b[0;34m\u001b[0m\u001b[0;34m\u001b[0m\u001b[0m\n\u001b[1;32m    683\u001b[0m \u001b[0;34m\u001b[0m\u001b[0m\n",
            "\u001b[0;32m/opt/conda/lib/python3.9/site-packages/pandas/io/parsers/python_parser.py\u001b[0m in \u001b[0;36m_next_iter_line\u001b[0;34m(self, row_num)\u001b[0m\n\u001b[1;32m    740\u001b[0m             \u001b[0;31m# assert for mypy, data is Iterator[str] or None, would error in next\u001b[0m\u001b[0;34m\u001b[0m\u001b[0;34m\u001b[0m\u001b[0m\n\u001b[1;32m    741\u001b[0m             \u001b[0;32massert\u001b[0m \u001b[0mself\u001b[0m\u001b[0;34m.\u001b[0m\u001b[0mdata\u001b[0m \u001b[0;32mis\u001b[0m \u001b[0;32mnot\u001b[0m \u001b[0;32mNone\u001b[0m\u001b[0;34m\u001b[0m\u001b[0;34m\u001b[0m\u001b[0m\n\u001b[0;32m--> 742\u001b[0;31m             \u001b[0;32mreturn\u001b[0m \u001b[0mnext\u001b[0m\u001b[0;34m(\u001b[0m\u001b[0mself\u001b[0m\u001b[0;34m.\u001b[0m\u001b[0mdata\u001b[0m\u001b[0;34m)\u001b[0m\u001b[0;34m\u001b[0m\u001b[0;34m\u001b[0m\u001b[0m\n\u001b[0m\u001b[1;32m    743\u001b[0m         \u001b[0;32mexcept\u001b[0m \u001b[0mcsv\u001b[0m\u001b[0;34m.\u001b[0m\u001b[0mError\u001b[0m \u001b[0;32mas\u001b[0m \u001b[0me\u001b[0m\u001b[0;34m:\u001b[0m\u001b[0;34m\u001b[0m\u001b[0;34m\u001b[0m\u001b[0m\n\u001b[1;32m    744\u001b[0m             if (\n",
            "\u001b[0;32m/opt/conda/lib/python3.9/site-packages/pandas/io/parsers/python_parser.py\u001b[0m in \u001b[0;36m_read\u001b[0;34m()\u001b[0m\n\u001b[1;32m    227\u001b[0m \u001b[0;34m\u001b[0m\u001b[0m\n\u001b[1;32m    228\u001b[0m             \u001b[0;32mdef\u001b[0m \u001b[0m_read\u001b[0m\u001b[0;34m(\u001b[0m\u001b[0;34m)\u001b[0m\u001b[0;34m:\u001b[0m\u001b[0;34m\u001b[0m\u001b[0;34m\u001b[0m\u001b[0m\n\u001b[0;32m--> 229\u001b[0;31m                 \u001b[0mline\u001b[0m \u001b[0;34m=\u001b[0m \u001b[0mf\u001b[0m\u001b[0;34m.\u001b[0m\u001b[0mreadline\u001b[0m\u001b[0;34m(\u001b[0m\u001b[0;34m)\u001b[0m\u001b[0;34m\u001b[0m\u001b[0;34m\u001b[0m\u001b[0m\n\u001b[0m\u001b[1;32m    230\u001b[0m                 \u001b[0mpat\u001b[0m \u001b[0;34m=\u001b[0m \u001b[0mre\u001b[0m\u001b[0;34m.\u001b[0m\u001b[0mcompile\u001b[0m\u001b[0;34m(\u001b[0m\u001b[0msep\u001b[0m\u001b[0;34m)\u001b[0m\u001b[0;34m\u001b[0m\u001b[0;34m\u001b[0m\u001b[0m\n\u001b[1;32m    231\u001b[0m \u001b[0;34m\u001b[0m\u001b[0m\n",
            "\u001b[0;32m/opt/conda/lib/python3.9/codecs.py\u001b[0m in \u001b[0;36mdecode\u001b[0;34m(self, input, final)\u001b[0m\n\u001b[1;32m    320\u001b[0m         \u001b[0;31m# decode input (taking the buffer into account)\u001b[0m\u001b[0;34m\u001b[0m\u001b[0;34m\u001b[0m\u001b[0m\n\u001b[1;32m    321\u001b[0m         \u001b[0mdata\u001b[0m \u001b[0;34m=\u001b[0m \u001b[0mself\u001b[0m\u001b[0;34m.\u001b[0m\u001b[0mbuffer\u001b[0m \u001b[0;34m+\u001b[0m \u001b[0minput\u001b[0m\u001b[0;34m\u001b[0m\u001b[0;34m\u001b[0m\u001b[0m\n\u001b[0;32m--> 322\u001b[0;31m         \u001b[0;34m(\u001b[0m\u001b[0mresult\u001b[0m\u001b[0;34m,\u001b[0m \u001b[0mconsumed\u001b[0m\u001b[0;34m)\u001b[0m \u001b[0;34m=\u001b[0m \u001b[0mself\u001b[0m\u001b[0;34m.\u001b[0m\u001b[0m_buffer_decode\u001b[0m\u001b[0;34m(\u001b[0m\u001b[0mdata\u001b[0m\u001b[0;34m,\u001b[0m \u001b[0mself\u001b[0m\u001b[0;34m.\u001b[0m\u001b[0merrors\u001b[0m\u001b[0;34m,\u001b[0m \u001b[0mfinal\u001b[0m\u001b[0;34m)\u001b[0m\u001b[0;34m\u001b[0m\u001b[0;34m\u001b[0m\u001b[0m\n\u001b[0m\u001b[1;32m    323\u001b[0m         \u001b[0;31m# keep undecoded input until the next call\u001b[0m\u001b[0;34m\u001b[0m\u001b[0;34m\u001b[0m\u001b[0m\n\u001b[1;32m    324\u001b[0m         \u001b[0mself\u001b[0m\u001b[0;34m.\u001b[0m\u001b[0mbuffer\u001b[0m \u001b[0;34m=\u001b[0m \u001b[0mdata\u001b[0m\u001b[0;34m[\u001b[0m\u001b[0mconsumed\u001b[0m\u001b[0;34m:\u001b[0m\u001b[0;34m]\u001b[0m\u001b[0;34m\u001b[0m\u001b[0;34m\u001b[0m\u001b[0m\n",
            "\u001b[0;31mUnicodeDecodeError\u001b[0m: 'utf-8' codec can't decode byte 0xe9 in position 3114: invalid continuation byte"
          ]
        }
      ],
      "source": [
        "# 영화 제목을 보기 위해 메타 데이터를 읽어옵니다.\n",
        "movie_file_path=os.getenv('HOME') + '/aiffel/recommendata_iu/data/ml-1m/movies.dat'\n",
        "cols = ['movie_id', 'title', 'genre'] \n",
        "movies = pd.read_csv(movie_file_path, sep='::', names=cols, engine='python')\n",
        "movies.head(15)"
      ]
    },
    {
      "cell_type": "code",
      "execution_count": null,
      "id": "52f786ca",
      "metadata": {
        "id": "52f786ca",
        "outputId": "51269407-1c3d-484b-b1b0-1f3efd579131"
      },
      "outputs": [
        {
          "data": {
            "text/plain": [
              "3628"
            ]
          },
          "execution_count": 28,
          "metadata": {},
          "output_type": "execute_result"
        }
      ],
      "source": [
        "# ratings에 있는 유니크한 영화 개수\n",
        "ratings['movie_id'].nunique()"
      ]
    },
    {
      "cell_type": "code",
      "execution_count": null,
      "id": "f8618f2e",
      "metadata": {
        "id": "f8618f2e",
        "outputId": "ac015353-b67c-4283-9e81-bcba90171041"
      },
      "outputs": [
        {
          "data": {
            "text/plain": [
              "6039"
            ]
          },
          "execution_count": 29,
          "metadata": {},
          "output_type": "execute_result"
        }
      ],
      "source": [
        "#rating에 있는 유니크한 사용자 수\n",
        "ratings['user_id'].nunique()"
      ]
    },
    {
      "cell_type": "code",
      "execution_count": null,
      "id": "3caaac33",
      "metadata": {
        "id": "3caaac33"
      },
      "outputs": [],
      "source": [
        "# movies와 ratings를 합쳐준다.\n",
        "data= pd.merge(movies, ratings)"
      ]
    },
    {
      "cell_type": "code",
      "execution_count": null,
      "id": "dff3bea6",
      "metadata": {
        "id": "dff3bea6",
        "outputId": "c9d0cc45-6cc8-4e09-eee8-5016d6d2fe26"
      },
      "outputs": [
        {
          "data": {
            "text/html": [
              "<div>\n",
              "<style scoped>\n",
              "    .dataframe tbody tr th:only-of-type {\n",
              "        vertical-align: middle;\n",
              "    }\n",
              "\n",
              "    .dataframe tbody tr th {\n",
              "        vertical-align: top;\n",
              "    }\n",
              "\n",
              "    .dataframe thead th {\n",
              "        text-align: right;\n",
              "    }\n",
              "</style>\n",
              "<table border=\"1\" class=\"dataframe\">\n",
              "  <thead>\n",
              "    <tr style=\"text-align: right;\">\n",
              "      <th></th>\n",
              "      <th>user_id</th>\n",
              "      <th>title</th>\n",
              "      <th>rating</th>\n",
              "    </tr>\n",
              "  </thead>\n",
              "  <tbody>\n",
              "    <tr>\n",
              "      <th>0</th>\n",
              "      <td>1</td>\n",
              "      <td>Toy Story (1995)</td>\n",
              "      <td>5</td>\n",
              "    </tr>\n",
              "    <tr>\n",
              "      <th>1</th>\n",
              "      <td>6</td>\n",
              "      <td>Toy Story (1995)</td>\n",
              "      <td>4</td>\n",
              "    </tr>\n",
              "    <tr>\n",
              "      <th>2</th>\n",
              "      <td>8</td>\n",
              "      <td>Toy Story (1995)</td>\n",
              "      <td>4</td>\n",
              "    </tr>\n",
              "    <tr>\n",
              "      <th>3</th>\n",
              "      <td>9</td>\n",
              "      <td>Toy Story (1995)</td>\n",
              "      <td>5</td>\n",
              "    </tr>\n",
              "    <tr>\n",
              "      <th>4</th>\n",
              "      <td>10</td>\n",
              "      <td>Toy Story (1995)</td>\n",
              "      <td>5</td>\n",
              "    </tr>\n",
              "    <tr>\n",
              "      <th>5</th>\n",
              "      <td>18</td>\n",
              "      <td>Toy Story (1995)</td>\n",
              "      <td>4</td>\n",
              "    </tr>\n",
              "    <tr>\n",
              "      <th>6</th>\n",
              "      <td>19</td>\n",
              "      <td>Toy Story (1995)</td>\n",
              "      <td>5</td>\n",
              "    </tr>\n",
              "    <tr>\n",
              "      <th>7</th>\n",
              "      <td>21</td>\n",
              "      <td>Toy Story (1995)</td>\n",
              "      <td>3</td>\n",
              "    </tr>\n",
              "    <tr>\n",
              "      <th>8</th>\n",
              "      <td>23</td>\n",
              "      <td>Toy Story (1995)</td>\n",
              "      <td>4</td>\n",
              "    </tr>\n",
              "    <tr>\n",
              "      <th>9</th>\n",
              "      <td>26</td>\n",
              "      <td>Toy Story (1995)</td>\n",
              "      <td>3</td>\n",
              "    </tr>\n",
              "  </tbody>\n",
              "</table>\n",
              "</div>"
            ],
            "text/plain": [
              "   user_id             title  rating\n",
              "0        1  Toy Story (1995)       5\n",
              "1        6  Toy Story (1995)       4\n",
              "2        8  Toy Story (1995)       4\n",
              "3        9  Toy Story (1995)       5\n",
              "4       10  Toy Story (1995)       5\n",
              "5       18  Toy Story (1995)       4\n",
              "6       19  Toy Story (1995)       5\n",
              "7       21  Toy Story (1995)       3\n",
              "8       23  Toy Story (1995)       4\n",
              "9       26  Toy Story (1995)       3"
            ]
          },
          "execution_count": 31,
          "metadata": {},
          "output_type": "execute_result"
        }
      ],
      "source": [
        "# 사용하는 컬럼만 남겨줍니다.\n",
        "using_cols = [ 'user_id','title', 'rating']\n",
        "data = data[using_cols]\n",
        "data.head(10)"
      ]
    },
    {
      "cell_type": "code",
      "execution_count": null,
      "id": "da45d6e4",
      "metadata": {
        "id": "da45d6e4"
      },
      "outputs": [],
      "source": [
        "data['title'] = data['title'].str.lower() "
      ]
    },
    {
      "cell_type": "code",
      "execution_count": null,
      "id": "96fd7660",
      "metadata": {
        "id": "96fd7660",
        "outputId": "f8f43b41-fca8-43d5-89a8-b6424a08c876"
      },
      "outputs": [
        {
          "data": {
            "text/plain": [
              "title\n",
              "american beauty (1999)                                   3211\n",
              "star wars: episode iv - a new hope (1977)                2910\n",
              "star wars: episode v - the empire strikes back (1980)    2885\n",
              "star wars: episode vi - return of the jedi (1983)        2716\n",
              "saving private ryan (1998)                               2561\n",
              "terminator 2: judgment day (1991)                        2509\n",
              "silence of the lambs, the (1991)                         2498\n",
              "raiders of the lost ark (1981)                           2473\n",
              "back to the future (1985)                                2460\n",
              "matrix, the (1999)                                       2434\n",
              "jurassic park (1993)                                     2413\n",
              "sixth sense, the (1999)                                  2385\n",
              "fargo (1996)                                             2371\n",
              "braveheart (1995)                                        2314\n",
              "men in black (1997)                                      2297\n",
              "schindler's list (1993)                                  2257\n",
              "princess bride, the (1987)                               2252\n",
              "shakespeare in love (1998)                               2213\n",
              "l.a. confidential (1997)                                 2210\n",
              "shawshank redemption, the (1994)                         2194\n",
              "godfather, the (1972)                                    2167\n",
              "groundhog day (1993)                                     2121\n",
              "e.t. the extra-terrestrial (1982)                        2102\n",
              "being john malkovich (1999)                              2066\n",
              "ghostbusters (1984)                                      2051\n",
              "pulp fiction (1994)                                      2030\n",
              "forrest gump (1994)                                      2022\n",
              "terminator, the (1984)                                   2019\n",
              "toy story (1995)                                         2000\n",
              "fugitive, the (1993)                                     1941\n",
              "Name: user_id, dtype: int64"
            ]
          },
          "execution_count": 34,
          "metadata": {},
          "output_type": "execute_result"
        }
      ],
      "source": [
        "#가장 인기있는 영화 30개(인기순)\n",
        "movies_count = data.groupby('title')['user_id'].count()\n",
        "movies_count.sort_values(ascending=False).head(30)"
      ]
    },
    {
      "cell_type": "code",
      "execution_count": null,
      "id": "f7cfb1a6",
      "metadata": {
        "id": "f7cfb1a6",
        "outputId": "6f7f6eea-34a9-4c18-f3d0-f8bb80122386"
      },
      "outputs": [
        {
          "data": {
            "text/plain": [
              "count    6039.000000\n",
              "mean      138.512668\n",
              "std       156.241599\n",
              "min         1.000000\n",
              "25%        38.000000\n",
              "50%        81.000000\n",
              "75%       177.000000\n",
              "max      1968.000000\n",
              "Name: title, dtype: float64"
            ]
          },
          "execution_count": 35,
          "metadata": {},
          "output_type": "execute_result"
        }
      ],
      "source": [
        "# 유저별 몇 편의 영화를 보고 있는지에 대한 통계\n",
        "user_count = data.groupby('user_id')['title'].count()\n",
        "user_count.describe()"
      ]
    },
    {
      "cell_type": "markdown",
      "source": [
        "## 3) 내가 선호하는 영화를 5가지 골라서 ratings에 추가해 줍시다."
      ],
      "metadata": {
        "id": "sHr99CqOdH-_"
      },
      "id": "sHr99CqOdH-_"
    },
    {
      "cell_type": "code",
      "execution_count": null,
      "id": "4ddd25c2",
      "metadata": {
        "id": "4ddd25c2",
        "outputId": "54ef7ced-3346-4e81-af9d-75439ffa3385"
      },
      "outputs": [
        {
          "data": {
            "text/html": [
              "<div>\n",
              "<style scoped>\n",
              "    .dataframe tbody tr th:only-of-type {\n",
              "        vertical-align: middle;\n",
              "    }\n",
              "\n",
              "    .dataframe tbody tr th {\n",
              "        vertical-align: top;\n",
              "    }\n",
              "\n",
              "    .dataframe thead th {\n",
              "        text-align: right;\n",
              "    }\n",
              "</style>\n",
              "<table border=\"1\" class=\"dataframe\">\n",
              "  <thead>\n",
              "    <tr style=\"text-align: right;\">\n",
              "      <th></th>\n",
              "      <th>user_id</th>\n",
              "      <th>title</th>\n",
              "      <th>rating</th>\n",
              "    </tr>\n",
              "  </thead>\n",
              "  <tbody>\n",
              "    <tr>\n",
              "      <th>836463</th>\n",
              "      <td>5074</td>\n",
              "      <td>contender, the (2000)</td>\n",
              "      <td>4</td>\n",
              "    </tr>\n",
              "    <tr>\n",
              "      <th>836464</th>\n",
              "      <td>5087</td>\n",
              "      <td>contender, the (2000)</td>\n",
              "      <td>4</td>\n",
              "    </tr>\n",
              "    <tr>\n",
              "      <th>836465</th>\n",
              "      <td>5100</td>\n",
              "      <td>contender, the (2000)</td>\n",
              "      <td>4</td>\n",
              "    </tr>\n",
              "    <tr>\n",
              "      <th>836466</th>\n",
              "      <td>5205</td>\n",
              "      <td>contender, the (2000)</td>\n",
              "      <td>4</td>\n",
              "    </tr>\n",
              "    <tr>\n",
              "      <th>836467</th>\n",
              "      <td>5304</td>\n",
              "      <td>contender, the (2000)</td>\n",
              "      <td>4</td>\n",
              "    </tr>\n",
              "    <tr>\n",
              "      <th>836468</th>\n",
              "      <td>5333</td>\n",
              "      <td>contender, the (2000)</td>\n",
              "      <td>4</td>\n",
              "    </tr>\n",
              "    <tr>\n",
              "      <th>836469</th>\n",
              "      <td>5359</td>\n",
              "      <td>contender, the (2000)</td>\n",
              "      <td>5</td>\n",
              "    </tr>\n",
              "    <tr>\n",
              "      <th>836470</th>\n",
              "      <td>5405</td>\n",
              "      <td>contender, the (2000)</td>\n",
              "      <td>4</td>\n",
              "    </tr>\n",
              "    <tr>\n",
              "      <th>836471</th>\n",
              "      <td>5475</td>\n",
              "      <td>contender, the (2000)</td>\n",
              "      <td>5</td>\n",
              "    </tr>\n",
              "    <tr>\n",
              "      <th>836472</th>\n",
              "      <td>5602</td>\n",
              "      <td>contender, the (2000)</td>\n",
              "      <td>3</td>\n",
              "    </tr>\n",
              "    <tr>\n",
              "      <th>836473</th>\n",
              "      <td>5682</td>\n",
              "      <td>contender, the (2000)</td>\n",
              "      <td>3</td>\n",
              "    </tr>\n",
              "    <tr>\n",
              "      <th>836474</th>\n",
              "      <td>5812</td>\n",
              "      <td>contender, the (2000)</td>\n",
              "      <td>4</td>\n",
              "    </tr>\n",
              "    <tr>\n",
              "      <th>836475</th>\n",
              "      <td>5831</td>\n",
              "      <td>contender, the (2000)</td>\n",
              "      <td>3</td>\n",
              "    </tr>\n",
              "    <tr>\n",
              "      <th>836476</th>\n",
              "      <td>5837</td>\n",
              "      <td>contender, the (2000)</td>\n",
              "      <td>4</td>\n",
              "    </tr>\n",
              "    <tr>\n",
              "      <th>836477</th>\n",
              "      <td>5998</td>\n",
              "      <td>contender, the (2000)</td>\n",
              "      <td>4</td>\n",
              "    </tr>\n",
              "    <tr>\n",
              "      <th>0</th>\n",
              "      <td>kimin</td>\n",
              "      <td>men in black (1997)</td>\n",
              "      <td>5</td>\n",
              "    </tr>\n",
              "    <tr>\n",
              "      <th>1</th>\n",
              "      <td>kimin</td>\n",
              "      <td>fugitive, the (1993)</td>\n",
              "      <td>5</td>\n",
              "    </tr>\n",
              "    <tr>\n",
              "      <th>2</th>\n",
              "      <td>kimin</td>\n",
              "      <td>terminator, the (1984)</td>\n",
              "      <td>5</td>\n",
              "    </tr>\n",
              "    <tr>\n",
              "      <th>3</th>\n",
              "      <td>kimin</td>\n",
              "      <td>back to the future (1985)</td>\n",
              "      <td>5</td>\n",
              "    </tr>\n",
              "    <tr>\n",
              "      <th>4</th>\n",
              "      <td>kimin</td>\n",
              "      <td>forrest gump (1994)</td>\n",
              "      <td>5</td>\n",
              "    </tr>\n",
              "  </tbody>\n",
              "</table>\n",
              "</div>"
            ],
            "text/plain": [
              "       user_id                      title  rating\n",
              "836463    5074      contender, the (2000)       4\n",
              "836464    5087      contender, the (2000)       4\n",
              "836465    5100      contender, the (2000)       4\n",
              "836466    5205      contender, the (2000)       4\n",
              "836467    5304      contender, the (2000)       4\n",
              "836468    5333      contender, the (2000)       4\n",
              "836469    5359      contender, the (2000)       5\n",
              "836470    5405      contender, the (2000)       4\n",
              "836471    5475      contender, the (2000)       5\n",
              "836472    5602      contender, the (2000)       3\n",
              "836473    5682      contender, the (2000)       3\n",
              "836474    5812      contender, the (2000)       4\n",
              "836475    5831      contender, the (2000)       3\n",
              "836476    5837      contender, the (2000)       4\n",
              "836477    5998      contender, the (2000)       4\n",
              "0        kimin        men in black (1997)       5\n",
              "1        kimin       fugitive, the (1993)       5\n",
              "2        kimin     terminator, the (1984)       5\n",
              "3        kimin  back to the future (1985)       5\n",
              "4        kimin        forrest gump (1994)       5"
            ]
          },
          "execution_count": 36,
          "metadata": {},
          "output_type": "execute_result"
        }
      ],
      "source": [
        "# 내가 좋아하시는 영화의 데이터로 바꿔서 추가한다.\n",
        "my_favorite = ['men in black (1997)' , 'fugitive, the (1993)' ,'terminator, the (1984)' ,\n",
        "               'back to the future (1985)' ,'forrest gump (1994)']\n",
        "\n",
        "# 'kimin'이라는 user_id가 위 영화의 평점을 5점씩 주었다고 가정하겠습니다.\n",
        "my_playlist = pd.DataFrame({'user_id': ['kimin']*5, 'title': my_favorite, 'rating':[5]*5})\n",
        "\n",
        "# user_id에 'kimin'이라는 데이터가 없다면\n",
        "# 위에 임의로 만든 my_favorite 데이터를 추가해 줍니다. \n",
        "if not data.isin({'user_id':['kimin']})['user_id'].any():  \n",
        "    data = data.append(my_playlist)   \n",
        "    \n",
        "data.tail(20) "
      ]
    },
    {
      "cell_type": "code",
      "execution_count": null,
      "id": "c2df9c00",
      "metadata": {
        "id": "c2df9c00"
      },
      "outputs": [],
      "source": [
        "모델에 활용하기 위한 전처리"
      ]
    },
    {
      "cell_type": "code",
      "execution_count": null,
      "id": "4f70b85c",
      "metadata": {
        "id": "4f70b85c"
      },
      "outputs": [],
      "source": [
        "# 고유한 유저, 타이틀을 찾아내는 코드\n",
        "user_unique = data['user_id'].unique()\n",
        "title_unique = data['title'].unique()\n",
        "\n",
        "# 유저, 타이틀 indexing 하는 코드 idx는 index의 약자입니다.\n",
        "user_to_idx = {v:k for k,v in enumerate(user_unique)}\n",
        "title_to_idx = {v:k for k,v in enumerate(title_unique)}"
      ]
    },
    {
      "cell_type": "code",
      "execution_count": null,
      "id": "c5f1d9c9",
      "metadata": {
        "id": "c5f1d9c9",
        "outputId": "f52af351-401d-44b6-cd69-6e85f2226b97"
      },
      "outputs": [
        {
          "name": "stdout",
          "output_type": "stream",
          "text": [
            "6039\n",
            "342\n"
          ]
        }
      ],
      "source": [
        "# 인덱싱이 잘 되었는지 확인해 봅니다. \n",
        "print(user_to_idx['kimin'])    # 6040명의 유저 중 마지막으로 추가된 유저이니 6039이 나와야 합니다. \n",
        "print(title_to_idx['forrest gump (1994)'])"
      ]
    },
    {
      "cell_type": "code",
      "execution_count": null,
      "id": "efb1fb13",
      "metadata": {
        "id": "efb1fb13",
        "outputId": "b8bc9751-c44e-48cb-e37f-d8f374eeffa1"
      },
      "outputs": [
        {
          "name": "stdout",
          "output_type": "stream",
          "text": [
            "user_id column indexing OK!!\n",
            "title column indexing OK!!\n"
          ]
        },
        {
          "data": {
            "text/html": [
              "<div>\n",
              "<style scoped>\n",
              "    .dataframe tbody tr th:only-of-type {\n",
              "        vertical-align: middle;\n",
              "    }\n",
              "\n",
              "    .dataframe tbody tr th {\n",
              "        vertical-align: top;\n",
              "    }\n",
              "\n",
              "    .dataframe thead th {\n",
              "        text-align: right;\n",
              "    }\n",
              "</style>\n",
              "<table border=\"1\" class=\"dataframe\">\n",
              "  <thead>\n",
              "    <tr style=\"text-align: right;\">\n",
              "      <th></th>\n",
              "      <th>user_id</th>\n",
              "      <th>title</th>\n",
              "      <th>rating</th>\n",
              "    </tr>\n",
              "  </thead>\n",
              "  <tbody>\n",
              "    <tr>\n",
              "      <th>0</th>\n",
              "      <td>0</td>\n",
              "      <td>0</td>\n",
              "      <td>5</td>\n",
              "    </tr>\n",
              "    <tr>\n",
              "      <th>1</th>\n",
              "      <td>1</td>\n",
              "      <td>0</td>\n",
              "      <td>4</td>\n",
              "    </tr>\n",
              "    <tr>\n",
              "      <th>2</th>\n",
              "      <td>2</td>\n",
              "      <td>0</td>\n",
              "      <td>4</td>\n",
              "    </tr>\n",
              "    <tr>\n",
              "      <th>3</th>\n",
              "      <td>3</td>\n",
              "      <td>0</td>\n",
              "      <td>5</td>\n",
              "    </tr>\n",
              "    <tr>\n",
              "      <th>4</th>\n",
              "      <td>4</td>\n",
              "      <td>0</td>\n",
              "      <td>5</td>\n",
              "    </tr>\n",
              "    <tr>\n",
              "      <th>...</th>\n",
              "      <td>...</td>\n",
              "      <td>...</td>\n",
              "      <td>...</td>\n",
              "    </tr>\n",
              "    <tr>\n",
              "      <th>0</th>\n",
              "      <td>6039</td>\n",
              "      <td>1419</td>\n",
              "      <td>5</td>\n",
              "    </tr>\n",
              "    <tr>\n",
              "      <th>1</th>\n",
              "      <td>6039</td>\n",
              "      <td>439</td>\n",
              "      <td>5</td>\n",
              "    </tr>\n",
              "    <tr>\n",
              "      <th>2</th>\n",
              "      <td>6039</td>\n",
              "      <td>1122</td>\n",
              "      <td>5</td>\n",
              "    </tr>\n",
              "    <tr>\n",
              "      <th>3</th>\n",
              "      <td>6039</td>\n",
              "      <td>1152</td>\n",
              "      <td>5</td>\n",
              "    </tr>\n",
              "    <tr>\n",
              "      <th>4</th>\n",
              "      <td>6039</td>\n",
              "      <td>342</td>\n",
              "      <td>5</td>\n",
              "    </tr>\n",
              "  </tbody>\n",
              "</table>\n",
              "<p>836483 rows × 3 columns</p>\n",
              "</div>"
            ],
            "text/plain": [
              "    user_id  title  rating\n",
              "0         0      0       5\n",
              "1         1      0       4\n",
              "2         2      0       4\n",
              "3         3      0       5\n",
              "4         4      0       5\n",
              "..      ...    ...     ...\n",
              "0      6039   1419       5\n",
              "1      6039    439       5\n",
              "2      6039   1122       5\n",
              "3      6039   1152       5\n",
              "4      6039    342       5\n",
              "\n",
              "[836483 rows x 3 columns]"
            ]
          },
          "execution_count": 39,
          "metadata": {},
          "output_type": "execute_result"
        }
      ],
      "source": [
        "# indexing을 통해 데이터 컬럼 내 값을 바꾸는 코드\n",
        "\n",
        "# user_to_idx.get을 통해 user_id 컬럼의 모든 값을 인덱싱한 Series를 구해 봅시다. \n",
        "# 혹시 정상적으로 인덱싱되지 않은 row가 있다면 인덱스가 NaN이 될 테니 dropna()로 제거합니다. \n",
        "temp_user_data = data['user_id'].map(user_to_idx.get).dropna()\n",
        "if len(temp_user_data) == len(data):   # 모든 row가 정상적으로 인덱싱되었다면\n",
        "    print('user_id column indexing OK!!')\n",
        "    data['user_id'] = temp_user_data   # data['user_id']을 인덱싱된 Series로 교체해 줍니다. \n",
        "else:\n",
        "    print('user_id column indexing Fail!!')\n",
        "\n",
        "# temp_title_data을 통해 title 컬럼도 동일한 방식으로 인덱싱해 줍니다. \n",
        "temp_title_data = data['title'].map(title_to_idx.get).dropna()\n",
        "if len(temp_title_data) == len(data):\n",
        "    print('title column indexing OK!!')\n",
        "    data['title'] = temp_title_data\n",
        "else:\n",
        "    print('title column indexing Fail!!')\n",
        "\n",
        "data"
      ]
    },
    {
      "cell_type": "markdown",
      "source": [
        "## 4) CSR matrix를 직접 만들어 봅시다."
      ],
      "metadata": {
        "id": "0m4IY35ndFQl"
      },
      "id": "0m4IY35ndFQl"
    },
    {
      "cell_type": "code",
      "execution_count": null,
      "id": "1d4d64de",
      "metadata": {
        "id": "1d4d64de",
        "outputId": "3bdddfef-f4bc-4562-c14b-49225622e67e"
      },
      "outputs": [
        {
          "data": {
            "text/plain": [
              "0    5\n",
              "1    4\n",
              "2    4\n",
              "3    5\n",
              "4    5\n",
              "    ..\n",
              "0    5\n",
              "1    5\n",
              "2    5\n",
              "3    5\n",
              "4    5\n",
              "Name: rating, Length: 836483, dtype: int64"
            ]
          },
          "execution_count": 40,
          "metadata": {},
          "output_type": "execute_result"
        }
      ],
      "source": [
        "data['rating']"
      ]
    },
    {
      "cell_type": "code",
      "execution_count": null,
      "id": "002be570",
      "metadata": {
        "id": "002be570",
        "outputId": "0ae8a0fc-8ff5-4704-eafb-85431c378bc7"
      },
      "outputs": [
        {
          "name": "stdout",
          "output_type": "stream",
          "text": [
            "0    5\n",
            "1    4\n",
            "2    4\n",
            "3    5\n",
            "4    5\n",
            "    ..\n",
            "0    5\n",
            "1    5\n",
            "2    5\n",
            "3    5\n",
            "4    5\n",
            "Name: rating, Length: 836483, dtype: int64\n"
          ]
        }
      ],
      "source": [
        "print(data.rating)"
      ]
    },
    {
      "cell_type": "code",
      "execution_count": null,
      "id": "1b1e87c2",
      "metadata": {
        "id": "1b1e87c2",
        "outputId": "651ce6b0-0c67-41f6-d0ca-ab6030ebafa1"
      },
      "outputs": [
        {
          "data": {
            "text/plain": [
              "<6040x3628 sparse matrix of type '<class 'numpy.int64'>'\n",
              "\twith 836483 stored elements in Compressed Sparse Row format>"
            ]
          },
          "execution_count": 42,
          "metadata": {},
          "output_type": "execute_result"
        }
      ],
      "source": [
        "from scipy.sparse import csr_matrix\n",
        "\n",
        "num_user = data['user_id'].nunique()\n",
        "num_movie = data['title'].nunique()\n",
        "\n",
        "csr_data = csr_matrix((data.rating, (data.user_id, data.title)), shape=(num_user, num_movie))\n",
        "csr_data"
      ]
    },
    {
      "cell_type": "markdown",
      "source": [
        "## 5) als_model = AlternatingLeastSquares 모델을 직접 구성하여 훈련시켜 봅시다."
      ],
      "metadata": {
        "id": "vBCTksvYdMz2"
      },
      "id": "vBCTksvYdMz2"
    },
    {
      "cell_type": "code",
      "execution_count": null,
      "id": "e3e0fa89",
      "metadata": {
        "id": "e3e0fa89"
      },
      "outputs": [],
      "source": [
        "from implicit.als import AlternatingLeastSquares\n",
        "import os\n",
        "import numpy as np\n",
        "\n",
        "# implicit 라이브러리에서 권장하고 있는 부분입니다. 학습 내용과는 무관합니다.\n",
        "os.environ['OPENBLAS_NUM_THREADS']='1'\n",
        "os.environ['KMP_DUPLICATE_LIB_OK']='True'\n",
        "os.environ['MKL_NUM_THREADS']='1'"
      ]
    },
    {
      "cell_type": "code",
      "execution_count": null,
      "id": "23af6964",
      "metadata": {
        "id": "23af6964"
      },
      "outputs": [],
      "source": [
        "# Implicit AlternatingLeastSquares 모델의 선언\n",
        "als_model = AlternatingLeastSquares(factors=100, regularization=0.01, use_gpu=False, iterations=30, dtype=np.float32)"
      ]
    },
    {
      "cell_type": "code",
      "execution_count": null,
      "id": "de7f7adf",
      "metadata": {
        "id": "de7f7adf",
        "outputId": "5429bffa-0b9d-4b30-e1fd-22e0c6b5a06d"
      },
      "outputs": [
        {
          "data": {
            "text/plain": [
              "<3628x6040 sparse matrix of type '<class 'numpy.int64'>'\n",
              "\twith 836483 stored elements in Compressed Sparse Column format>"
            ]
          },
          "execution_count": 45,
          "metadata": {},
          "output_type": "execute_result"
        }
      ],
      "source": [
        "# als 모델은 input으로 (item X user 꼴의 matrix를 받기 때문에 Transpose해줍니다.)\n",
        "csr_data_transpose = csr_data.T\n",
        "csr_data_transpose"
      ]
    },
    {
      "cell_type": "code",
      "execution_count": null,
      "id": "405d15ec",
      "metadata": {
        "colab": {
          "referenced_widgets": [
            "cd21ddc8dbe742a68406d37fb6cd3a8c"
          ]
        },
        "id": "405d15ec",
        "outputId": "3b197d5a-0755-4eda-96d5-c90532dcc660"
      },
      "outputs": [
        {
          "data": {
            "application/vnd.jupyter.widget-view+json": {
              "model_id": "cd21ddc8dbe742a68406d37fb6cd3a8c",
              "version_major": 2,
              "version_minor": 0
            },
            "text/plain": [
              "  0%|          | 0/30 [00:00<?, ?it/s]"
            ]
          },
          "metadata": {},
          "output_type": "display_data"
        }
      ],
      "source": [
        "als_model.fit(csr_data_transpose)"
      ]
    },
    {
      "cell_type": "code",
      "execution_count": null,
      "id": "1d3e8d29",
      "metadata": {
        "id": "1d3e8d29"
      },
      "outputs": [],
      "source": [
        "kimin, back_to_the_future = user_to_idx['kimin'], title_to_idx['back to the future (1985)']\n",
        "kimin_vector, back_to_the_future_vector = als_model.user_factors[kimin], als_model.item_factors[back_to_the_future]"
      ]
    },
    {
      "cell_type": "code",
      "execution_count": null,
      "id": "d94d51aa",
      "metadata": {
        "id": "d94d51aa",
        "outputId": "7f2f50a7-c73c-4083-fe86-c17f8d047a7f"
      },
      "outputs": [
        {
          "data": {
            "text/plain": [
              "array([ 0.7619857 ,  0.3158938 ,  0.38358492,  0.25647193,  0.11597677,\n",
              "        0.02117402,  0.16915922, -0.17889501, -0.5150856 ,  0.39830554,\n",
              "        0.10664093,  0.5155381 ,  0.19273898,  0.0180732 , -0.4412216 ,\n",
              "        0.31204912,  0.17514154,  0.59714854,  0.01702799, -0.62830997,\n",
              "       -0.01207074, -0.52381027, -0.01553841,  0.39696553,  0.16513838,\n",
              "        0.01061953,  0.45297828,  0.48572776,  0.37537232,  0.11107843,\n",
              "       -0.01496267, -0.5255054 ,  0.20902935,  0.26180694, -0.07782665,\n",
              "       -0.76092666, -0.43672633,  0.06373069,  0.7163566 ,  0.37947428,\n",
              "       -0.20390718,  0.9472401 , -0.48845   , -1.0109347 ,  0.13481432,\n",
              "        0.42775318, -0.0060963 ,  0.06903312,  0.7712032 , -0.44617388,\n",
              "        0.28635725,  0.24020046,  0.4900563 , -0.83173794, -0.59908897,\n",
              "        0.20332296,  0.2911755 ,  0.5319935 ,  0.9252862 , -0.4278859 ,\n",
              "       -0.6041462 ,  0.0415399 , -0.08341131, -0.02205225, -0.3336285 ,\n",
              "        0.1339113 , -0.17611422, -0.02984286,  0.5074986 ,  0.71422803,\n",
              "        1.313145  , -0.53916395, -0.7986868 , -0.46506822,  0.15405083,\n",
              "        0.08463354,  0.48222357,  0.4699577 ,  0.01497738, -0.27361634,\n",
              "        0.3515273 , -0.4805881 ,  0.3115517 , -0.37935922,  0.08495277,\n",
              "       -0.17532727, -0.19881228, -0.5581361 ,  0.05069397, -0.47054443,\n",
              "       -0.69795275, -0.42370343,  0.02939426, -0.87656426, -0.0123092 ,\n",
              "        0.41985664,  0.03559572,  0.10432732, -0.65655553, -0.41846263],\n",
              "      dtype=float32)"
            ]
          },
          "execution_count": 48,
          "metadata": {},
          "output_type": "execute_result"
        }
      ],
      "source": [
        "kimin_vector"
      ]
    },
    {
      "cell_type": "code",
      "execution_count": null,
      "id": "2c7db565",
      "metadata": {
        "id": "2c7db565",
        "outputId": "e8cfe253-38f1-4ef8-d445-ba747c18aaf9"
      },
      "outputs": [
        {
          "data": {
            "text/plain": [
              "array([-1.10074850e-02,  4.28676140e-03,  2.91329678e-02, -8.11146945e-03,\n",
              "        8.85589141e-03,  2.88015697e-02,  3.03968638e-02,  4.38258015e-02,\n",
              "       -2.14026608e-02,  3.16830352e-02,  1.06804902e-02,  2.32292749e-02,\n",
              "        5.31970290e-03,  2.51689041e-03, -2.77814399e-02,  1.60127450e-02,\n",
              "        5.64748654e-03,  3.59635279e-02, -1.90089887e-03, -3.09873503e-02,\n",
              "        8.09556805e-03, -2.12735875e-04, -1.04071666e-02,  2.59525590e-02,\n",
              "        2.52082981e-02, -2.86593847e-03, -2.51530111e-02, -1.53997503e-02,\n",
              "        1.44338217e-02,  3.85816321e-02,  8.80394503e-03, -2.41759941e-02,\n",
              "        5.12862578e-02,  2.27679443e-02, -2.75468361e-02, -2.33357530e-02,\n",
              "       -1.48051577e-02,  1.81689188e-02,  2.26280913e-02,  3.31120454e-02,\n",
              "        3.53832613e-03,  3.15410718e-02,  8.99394043e-03, -2.83874255e-02,\n",
              "        1.30236186e-02,  4.30456027e-02,  1.81171689e-02, -1.09882036e-03,\n",
              "        5.29957525e-02, -8.78426526e-03,  4.70098481e-02,  2.20345724e-02,\n",
              "        5.34342006e-02, -9.63228755e-03, -1.38250114e-02, -3.20421942e-02,\n",
              "        6.67786400e-04,  3.23355086e-02,  1.40924123e-03, -1.44825615e-02,\n",
              "       -3.34588401e-02,  9.92836524e-03,  2.81525310e-02, -1.00778621e-02,\n",
              "        1.21350614e-02, -5.44142630e-03,  1.96669064e-02,  7.40483450e-03,\n",
              "       -3.98714241e-04,  2.25332342e-02,  5.01193702e-02,  3.55721381e-03,\n",
              "       -1.94548536e-02, -1.03104496e-02, -3.30728330e-02, -1.85256340e-02,\n",
              "        6.60233293e-03,  3.77889387e-02,  7.44408648e-03,  6.08602446e-03,\n",
              "        2.59632468e-02, -4.92411777e-02,  1.05826911e-02,  2.16100663e-02,\n",
              "        9.07637272e-03, -1.03250239e-02,  1.75359659e-02, -2.35580429e-02,\n",
              "       -2.11165696e-02, -2.08329735e-03, -1.92280132e-02, -2.84576490e-05,\n",
              "        1.19461045e-02, -4.11077552e-02,  3.58675350e-03,  3.65257412e-02,\n",
              "        1.98301170e-02, -1.07677653e-02, -1.44901192e-02,  3.61771844e-02],\n",
              "      dtype=float32)"
            ]
          },
          "execution_count": 50,
          "metadata": {},
          "output_type": "execute_result"
        }
      ],
      "source": [
        "back_to_the_future_vector"
      ]
    },
    {
      "cell_type": "markdown",
      "source": [
        "## 6) 내가 선호하는 5가지 영화 중 하나와 그 외의 영화 하나를 골라 훈련된 모델이 예측한 나의 선호도를 파악해 보세요."
      ],
      "metadata": {
        "id": "U2V48AUVdK4l"
      },
      "id": "U2V48AUVdK4l"
    },
    {
      "cell_type": "code",
      "execution_count": null,
      "id": "939b471d",
      "metadata": {
        "id": "939b471d",
        "outputId": "3d0121c0-283a-4766-ac80-7a6055f9167b"
      },
      "outputs": [
        {
          "data": {
            "text/plain": [
              "0.60882354"
            ]
          },
          "execution_count": 51,
          "metadata": {},
          "output_type": "execute_result"
        }
      ],
      "source": [
        "np.dot(kimin_vector, back_to_the_future_vector)"
      ]
    },
    {
      "cell_type": "code",
      "execution_count": null,
      "id": "fdb96f08",
      "metadata": {
        "id": "fdb96f08",
        "outputId": "03f8e786-2086-461c-9e94-874d97a3025c"
      },
      "outputs": [
        {
          "data": {
            "text/plain": [
              "0.22426032"
            ]
          },
          "execution_count": 52,
          "metadata": {},
          "output_type": "execute_result"
        }
      ],
      "source": [
        "toy = title_to_idx['toy story (1995)']\n",
        "toy_vector = als_model.item_factors[toy]\n",
        "np.dot(kimin_vector, toy_vector)"
      ]
    },
    {
      "cell_type": "markdown",
      "source": [
        "## 7) 내가 좋아하는 영화와 비슷한 영화를 추천받아 봅시다."
      ],
      "metadata": {
        "id": "BhvyZ60AdP-M"
      },
      "id": "BhvyZ60AdP-M"
    },
    {
      "cell_type": "code",
      "execution_count": null,
      "id": "9f6c86ca",
      "metadata": {
        "id": "9f6c86ca"
      },
      "outputs": [],
      "source": [
        "idx_to_title = {v:k for k,v in title_to_idx.items()}\n",
        "\n",
        "def get_similar_title(title_name: str):\n",
        "    title_id = title_to_idx[title_name]\n",
        "    similar_title = als_model.similar_items(title_id)\n",
        "    similar_title = [idx_to_title[i[0]] for i in similar_title]\n",
        "    return similar_title"
      ]
    },
    {
      "cell_type": "code",
      "execution_count": null,
      "id": "fceb1303",
      "metadata": {
        "id": "fceb1303",
        "outputId": "e0606b57-08cf-488f-f0e8-27e00d9a5863"
      },
      "outputs": [
        {
          "data": {
            "text/plain": [
              "['men in black (1997)',\n",
              " 'jurassic park (1993)',\n",
              " 'terminator 2: judgment day (1991)',\n",
              " 'total recall (1990)',\n",
              " 'independence day (id4) (1996)',\n",
              " 'matrix, the (1999)',\n",
              " 'fifth element, the (1997)',\n",
              " 'lost world: jurassic park, the (1997)',\n",
              " 'face/off (1997)',\n",
              " 'true lies (1994)']"
            ]
          },
          "execution_count": 54,
          "metadata": {},
          "output_type": "execute_result"
        }
      ],
      "source": [
        "get_similar_title('men in black (1997)') "
      ]
    },
    {
      "cell_type": "code",
      "execution_count": null,
      "id": "052b56e4",
      "metadata": {
        "id": "052b56e4",
        "outputId": "21c1992a-54a0-40f8-fc6e-6748d8a32c5d"
      },
      "outputs": [
        {
          "data": {
            "text/plain": [
              "['toy story (1995)',\n",
              " 'toy story 2 (1999)',\n",
              " 'babe (1995)',\n",
              " \"bug's life, a (1998)\",\n",
              " 'aladdin (1992)',\n",
              " 'groundhog day (1993)',\n",
              " 'lion king, the (1994)',\n",
              " 'pleasantville (1998)',\n",
              " 'beauty and the beast (1991)',\n",
              " 'forrest gump (1994)']"
            ]
          },
          "execution_count": 55,
          "metadata": {},
          "output_type": "execute_result"
        }
      ],
      "source": [
        "get_similar_title('toy story (1995)') "
      ]
    },
    {
      "cell_type": "code",
      "execution_count": null,
      "id": "ffd2dd5a",
      "metadata": {
        "id": "ffd2dd5a",
        "outputId": "cdcb05dc-8f6f-471f-f3ef-8a6f1ea79ca5"
      },
      "outputs": [
        {
          "data": {
            "text/plain": [
              "['back to the future (1985)',\n",
              " \"ferris bueller's day off (1986)\",\n",
              " 'back to the future part ii (1989)',\n",
              " 'when harry met sally... (1989)',\n",
              " 'big (1988)',\n",
              " 'ghostbusters (1984)',\n",
              " 'bull durham (1988)',\n",
              " 'fish called wanda, a (1988)',\n",
              " 'airplane! (1980)',\n",
              " 'cocoon (1985)']"
            ]
          },
          "execution_count": 56,
          "metadata": {},
          "output_type": "execute_result"
        }
      ],
      "source": [
        "get_similar_title('back to the future (1985)') "
      ]
    },
    {
      "cell_type": "markdown",
      "source": [
        "## 8) 내가 가장 좋아할 만한 영화들을 추천받아 봅시다."
      ],
      "metadata": {
        "id": "S-kz8bQ2dRUH"
      },
      "id": "S-kz8bQ2dRUH"
    },
    {
      "cell_type": "code",
      "execution_count": null,
      "id": "1e193909",
      "metadata": {
        "id": "1e193909",
        "outputId": "f47ab228-75cc-43e1-da90-105b64ce90aa"
      },
      "outputs": [
        {
          "name": "stdout",
          "output_type": "stream",
          "text": [
            "terminator 2: judgment day (1991) 0000.631\n",
            "jurassic park (1993) 0000.555\n",
            "matrix, the (1999) 0000.541\n",
            "total recall (1990) 0000.429\n",
            "sixth sense, the (1999) 0000.382\n",
            "die hard (1988) 0000.349\n",
            "star wars: episode vi - return of the jedi (1983) 0000.342\n",
            "braveheart (1995) 0000.330\n",
            "groundhog day (1993) 0000.324\n",
            "hunt for red october, the (1990) 0000.312\n",
            "star wars: episode iv - a new hope (1977) 0000.281\n",
            "star wars: episode v - the empire strikes back (1980) 0000.280\n",
            "saving private ryan (1998) 0000.275\n",
            "silence of the lambs, the (1991) 0000.262\n",
            "speed (1994) 0000.259\n",
            "airplane! (1980) 0000.245\n",
            "face/off (1997) 0000.245\n",
            "independence day (id4) (1996) 0000.237\n",
            "e.t. the extra-terrestrial (1982) 0000.226\n",
            "aliens (1986) 0000.225\n"
          ]
        }
      ],
      "source": [
        "user = user_to_idx['kimin']\n",
        "# recommend에서는 user*item CSR Matrix를 받습니다.\n",
        "title_recommended = als_model.recommend(user, csr_data, N=20, filter_already_liked_items=True)\n",
        "for i in title_recommended: \n",
        "    print(\"{} {:08.3f}\".format(idx_to_title[i[0]], i[1]))"
      ]
    },
    {
      "cell_type": "code",
      "execution_count": null,
      "id": "37f79235",
      "metadata": {
        "id": "37f79235",
        "outputId": "f6997255-e80d-4815-d357-a1d7130b097a"
      },
      "outputs": [
        {
          "data": {
            "text/plain": [
              "[('terminator, the (1984)', 0.21345599656235403),\n",
              " ('fugitive, the (1993)', 0.16121396610182404),\n",
              " ('back to the future (1985)', 0.04354122396577952),\n",
              " ('forrest gump (1994)', -0.0069389088459887805),\n",
              " ('men in black (1997)', -0.06626752197814771)]"
            ]
          },
          "execution_count": 58,
          "metadata": {},
          "output_type": "execute_result"
        }
      ],
      "source": [
        "rihanna = title_to_idx['die hard (1988)']\n",
        "explain = als_model.explain(user, csr_data, itemid=rihanna)\n",
        "[(idx_to_title[i[0]], i[1]) for i in explain[1]]"
      ]
    },
    {
      "cell_type": "markdown",
      "source": [
        "루브릭\n",
        "\n",
        "아래의 기준을 바탕으로 프로젝트를 평가합니다.\n",
        "\n",
        "평가문항\t상세기준\n",
        "1. CSR matrix가 정상적으로 만들어졌다.\n",
        "\n",
        "사용자와 아이템 개수를 바탕으로 정확한 사이즈로 만들었다.\n",
        "2. MF 모델이 정상적으로 훈련되어 그럴듯한 추천이 이루어졌다.\n",
        "\n",
        "사용자와 아이템 벡터 내적수치가 의미있게 형성되었다.\n",
        "3. 비슷한 영화 찾기와 유저에게 추천하기의 과정이 정상적으로 진행되었다.\n",
        "\n",
        "MF모델이 예측한 유저 선호도 및 아이템간 유사도, 기여도를 측정하고 의미를 분석해보았다."
      ],
      "metadata": {
        "id": "I-PV1HO1dTBR"
      },
      "id": "I-PV1HO1dTBR"
    },
    {
      "cell_type": "markdown",
      "source": [
        "회고\n",
        "\n",
        "요즘 굉장히 핫한 아이템인 추천, 알고리즘 시스템을 알아보았는데 왜 핫하고 뜨고 있는지 알게 되었다.\n",
        " 우선 비슷한 종류를 찾아내는 것이 신기함.\n",
        "  비슷한 종류를 찾아내어 새로운 비슷한 것들까지 도달하는 것이 새로웠다.\n",
        "\n",
        "  하지만 정확성 관련해서는 아직 부족한 부분도 있는거 같다.\n",
        "  정확성을 높일 수 있는 방법을 알아보자.\n",
        "  "
      ],
      "metadata": {
        "id": "as0_v_sRdWce"
      },
      "id": "as0_v_sRdWce"
    }
  ],
  "metadata": {
    "kernelspec": {
      "display_name": "Python 3 (ipykernel)",
      "language": "python",
      "name": "python3"
    },
    "language_info": {
      "codemirror_mode": {
        "name": "ipython",
        "version": 3
      },
      "file_extension": ".py",
      "mimetype": "text/x-python",
      "name": "python",
      "nbconvert_exporter": "python",
      "pygments_lexer": "ipython3",
      "version": "3.9.7"
    },
    "colab": {
      "provenance": [],
      "include_colab_link": true
    }
  },
  "nbformat": 4,
  "nbformat_minor": 5
}