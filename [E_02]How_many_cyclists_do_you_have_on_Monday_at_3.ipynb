{
  "nbformat": 4,
  "nbformat_minor": 0,
  "metadata": {
    "colab": {
      "provenance": [],
      "mount_file_id": "1i7qxjlf3LOn9rCGGqOtNGHjrudHxcoeM",
      "authorship_tag": "ABX9TyOO5eANV6xAeGQihuwDU0i7",
      "include_colab_link": true
    },
    "kernelspec": {
      "name": "python3",
      "display_name": "Python 3"
    },
    "language_info": {
      "name": "python"
    }
  },
  "cells": [
    {
      "cell_type": "markdown",
      "metadata": {
        "id": "view-in-github",
        "colab_type": "text"
      },
      "source": [
        "<a href=\"https://colab.research.google.com/github/hyeonu96/first-repository/blob/main/%5BE_02%5DHow_many_cyclists_do_you_have_on_Monday_at_3.ipynb\" target=\"_parent\"><img src=\"https://colab.research.google.com/assets/colab-badge.svg\" alt=\"Open In Colab\"/></a>"
      ]
    },
    {
      "cell_type": "markdown",
      "source": [
        "# 목차\n",
        "\n",
        "## 루브릭\n",
        "\n",
        "아래의 기준을 바탕으로 프로젝트를 평가합니다.\n",
        "\n",
        "평가문항\t상세기준\n",
        "1. 프로젝트 1의 회귀모델 예측정확도가 기준 이상 높게 나왔는가?\n",
        "\n",
        "달성하기까지의 코드를 짜지 못하였다.\n",
        "(MSE 손실함수값 3000 이하를 달성)\n",
        "2. 프로젝트 2의 회귀모델 예측정확도가 기준 이상 높게 나왔는가?\n",
        "\n",
        "다음 코드를 입력하지 못하여 진도를 나갈수없었다.\n",
        "\n",
        "\n",
        "(RMSE 값 150 이하를 달성)\n",
        "3. 시각화 요구사항이 정확하게 이루어졌는가?\n",
        "\n",
        "달성하지 못하였다\n",
        "\n",
        "(각 프로젝트 진행 과정에서 요구하고 있는 데이터개수 시각화 및 예측결과 시각화를 모두 진행하였다.)"
      ],
      "metadata": {
        "id": "m75Wjy4PCsP-"
      }
    },
    {
      "cell_type": "markdown",
      "source": [
        "# 프로젝트 1 : 손수 설계하는 선형회귀, 당뇨병 수치를 맞춰보자!"
      ],
      "metadata": {
        "id": "iYWKlZnveQci"
      }
    },
    {
      "cell_type": "markdown",
      "source": [
        "(1) 데이터 가져오기\n",
        "*   sklearn.datasets의 load_diabetes에서 데이터를 가져와주세요.\n",
        "*   diabetes의 data를 df_X에, target을 df_y에 저장해주세요.\n",
        "\n",
        "\n",
        "\n"
      ],
      "metadata": {
        "id": "yYcNmiHqeSf1"
      }
    },
    {
      "cell_type": "code",
      "source": [
        "from sklearn.model_selection import train_test_split #싸이킷런에 있는 데이터를 train과 test dataset으로 나누어주는 함수 import\n",
        "from sklearn.tree import DecisionTreeClassifier # 싸이킷런에 있는 결정트리분류기를 사용하기 위해 불러오는 코드\n",
        "from sklearn.metrics import classification_report #싸이킷런에 있는 분류 결과에 대한 시각화를 위해 쓰는 코드"
      ],
      "metadata": {
        "id": "gIrW6Zyn6yz5"
      },
      "execution_count": 35,
      "outputs": []
    },
    {
      "cell_type": "code",
      "source": [
        "from sklearn.datasets import load_diabetes\n",
        "#sklearn 라이브러리의 datasets 패키지에서 load_diabetes 함수를 임포트함\n",
        "diabetes=load_diabetes()\n",
        "#로드된 diabetes 데이터셋을 diabetes에 저장\n",
        "print(dir(diabetes))\n",
        "#나열"
      ],
      "metadata": {
        "colab": {
          "base_uri": "https://localhost:8080/"
        },
        "id": "MaLrR6UWeabM",
        "outputId": "9a979e0a-b9b5-427c-af93-13e6b266238a"
      },
      "execution_count": 36,
      "outputs": [
        {
          "output_type": "stream",
          "name": "stdout",
          "text": [
            "['DESCR', 'data', 'data_filename', 'data_module', 'feature_names', 'frame', 'target', 'target_filename']\n"
          ]
        }
      ]
    },
    {
      "cell_type": "code",
      "source": [
        "df_X=diabetes.data\n",
        "df_Y=diabetes.target\n",
        "#data와 target을 각각 변수 df_X, df_y 에 저장"
      ],
      "metadata": {
        "id": "WuxRIEc6edoO"
      },
      "execution_count": 37,
      "outputs": []
    },
    {
      "cell_type": "markdown",
      "source": [
        "(2) 모델에 입력할 데이터 X 준비하기\n",
        "\n",
        "*   df_X에 있는 값들을 numpy array로 변환해서 저장해주세요.\n",
        "\n"
      ],
      "metadata": {
        "id": "ne2--sRXfoX0"
      }
    },
    {
      "cell_type": "code",
      "source": [
        "import numpy as np\n",
        "import pandas as pd"
      ],
      "metadata": {
        "id": "l_ab6whtKWJ3"
      },
      "execution_count": 38,
      "outputs": []
    },
    {
      "cell_type": "code",
      "source": [
        "df_X = np.array\n",
        "df_X, type(df_X)"
      ],
      "metadata": {
        "colab": {
          "base_uri": "https://localhost:8080/"
        },
        "id": "hMcXecXhfssn",
        "outputId": "bd131b23-4ea0-4967-c456-b5c15fc2fb76"
      },
      "execution_count": 39,
      "outputs": [
        {
          "output_type": "execute_result",
          "data": {
            "text/plain": [
              "(<function numpy.array>, builtin_function_or_method)"
            ]
          },
          "metadata": {},
          "execution_count": 39
        }
      ]
    },
    {
      "cell_type": "markdown",
      "source": [
        "(3) 모델에 예측할 데이터 y 준비하기\n",
        "\n",
        "*   df_y에 있는 값들을 numpy array로 변환해서 저장해주세요.\n",
        "\n"
      ],
      "metadata": {
        "id": "_K7hZJrof0NR"
      }
    },
    {
      "cell_type": "code",
      "source": [
        "df_y = np.array\n",
        "df_y, type(df_y)"
      ],
      "metadata": {
        "colab": {
          "base_uri": "https://localhost:8080/"
        },
        "id": "fsqUgEitf4Ro",
        "outputId": "606361ba-1b81-45b5-9b09-91d36ed7e366"
      },
      "execution_count": 40,
      "outputs": [
        {
          "output_type": "execute_result",
          "data": {
            "text/plain": [
              "(<function numpy.array>, builtin_function_or_method)"
            ]
          },
          "metadata": {},
          "execution_count": 40
        }
      ]
    },
    {
      "cell_type": "markdown",
      "source": [
        "(4) train 데이터와 test 데이터로 분리하기\n",
        "\n",
        "*   X와 y 데이터를 각각 train 데이터와 test 데이터로 분리해주세요.\n",
        "\n"
      ],
      "metadata": {
        "id": "T__FyU5nf_by"
      }
    },
    {
      "cell_type": "code",
      "source": [
        "X_train, X_test, y_train, y_test = train_test_split(df_X, \n",
        "                                                    df_Y) "
      ],
      "metadata": {
        "colab": {
          "base_uri": "https://localhost:8080/",
          "height": 345
        },
        "id": "oaBgDCz2Caoy",
        "outputId": "8eed13b2-c551-46b2-a695-09d1762e406c"
      },
      "execution_count": 45,
      "outputs": [
        {
          "output_type": "error",
          "ename": "TypeError",
          "evalue": "ignored",
          "traceback": [
            "\u001b[0;31m---------------------------------------------------------------------------\u001b[0m",
            "\u001b[0;31mTypeError\u001b[0m                                 Traceback (most recent call last)",
            "\u001b[0;32m<ipython-input-45-e687b87c8cd2>\u001b[0m in \u001b[0;36m<module>\u001b[0;34m\u001b[0m\n\u001b[1;32m      1\u001b[0m X_train, X_test, y_train, y_test = train_test_split(df_X, \n\u001b[0;32m----> 2\u001b[0;31m                                                     df_Y) \n\u001b[0m",
            "\u001b[0;32m/usr/local/lib/python3.7/dist-packages/sklearn/model_selection/_split.py\u001b[0m in \u001b[0;36mtrain_test_split\u001b[0;34m(test_size, train_size, random_state, shuffle, stratify, *arrays)\u001b[0m\n\u001b[1;32m   2415\u001b[0m         \u001b[0;32mraise\u001b[0m \u001b[0mValueError\u001b[0m\u001b[0;34m(\u001b[0m\u001b[0;34m\"At least one array required as input\"\u001b[0m\u001b[0;34m)\u001b[0m\u001b[0;34m\u001b[0m\u001b[0;34m\u001b[0m\u001b[0m\n\u001b[1;32m   2416\u001b[0m \u001b[0;34m\u001b[0m\u001b[0m\n\u001b[0;32m-> 2417\u001b[0;31m     \u001b[0marrays\u001b[0m \u001b[0;34m=\u001b[0m \u001b[0mindexable\u001b[0m\u001b[0;34m(\u001b[0m\u001b[0;34m*\u001b[0m\u001b[0marrays\u001b[0m\u001b[0;34m)\u001b[0m\u001b[0;34m\u001b[0m\u001b[0;34m\u001b[0m\u001b[0m\n\u001b[0m\u001b[1;32m   2418\u001b[0m \u001b[0;34m\u001b[0m\u001b[0m\n\u001b[1;32m   2419\u001b[0m     \u001b[0mn_samples\u001b[0m \u001b[0;34m=\u001b[0m \u001b[0m_num_samples\u001b[0m\u001b[0;34m(\u001b[0m\u001b[0marrays\u001b[0m\u001b[0;34m[\u001b[0m\u001b[0;36m0\u001b[0m\u001b[0;34m]\u001b[0m\u001b[0;34m)\u001b[0m\u001b[0;34m\u001b[0m\u001b[0;34m\u001b[0m\u001b[0m\n",
            "\u001b[0;32m/usr/local/lib/python3.7/dist-packages/sklearn/utils/validation.py\u001b[0m in \u001b[0;36mindexable\u001b[0;34m(*iterables)\u001b[0m\n\u001b[1;32m    376\u001b[0m \u001b[0;34m\u001b[0m\u001b[0m\n\u001b[1;32m    377\u001b[0m     \u001b[0mresult\u001b[0m \u001b[0;34m=\u001b[0m \u001b[0;34m[\u001b[0m\u001b[0m_make_indexable\u001b[0m\u001b[0;34m(\u001b[0m\u001b[0mX\u001b[0m\u001b[0;34m)\u001b[0m \u001b[0;32mfor\u001b[0m \u001b[0mX\u001b[0m \u001b[0;32min\u001b[0m \u001b[0miterables\u001b[0m\u001b[0;34m]\u001b[0m\u001b[0;34m\u001b[0m\u001b[0;34m\u001b[0m\u001b[0m\n\u001b[0;32m--> 378\u001b[0;31m     \u001b[0mcheck_consistent_length\u001b[0m\u001b[0;34m(\u001b[0m\u001b[0;34m*\u001b[0m\u001b[0mresult\u001b[0m\u001b[0;34m)\u001b[0m\u001b[0;34m\u001b[0m\u001b[0;34m\u001b[0m\u001b[0m\n\u001b[0m\u001b[1;32m    379\u001b[0m     \u001b[0;32mreturn\u001b[0m \u001b[0mresult\u001b[0m\u001b[0;34m\u001b[0m\u001b[0;34m\u001b[0m\u001b[0m\n\u001b[1;32m    380\u001b[0m \u001b[0;34m\u001b[0m\u001b[0m\n",
            "\u001b[0;32m/usr/local/lib/python3.7/dist-packages/sklearn/utils/validation.py\u001b[0m in \u001b[0;36mcheck_consistent_length\u001b[0;34m(*arrays)\u001b[0m\n\u001b[1;32m    327\u001b[0m     \"\"\"\n\u001b[1;32m    328\u001b[0m \u001b[0;34m\u001b[0m\u001b[0m\n\u001b[0;32m--> 329\u001b[0;31m     \u001b[0mlengths\u001b[0m \u001b[0;34m=\u001b[0m \u001b[0;34m[\u001b[0m\u001b[0m_num_samples\u001b[0m\u001b[0;34m(\u001b[0m\u001b[0mX\u001b[0m\u001b[0;34m)\u001b[0m \u001b[0;32mfor\u001b[0m \u001b[0mX\u001b[0m \u001b[0;32min\u001b[0m \u001b[0marrays\u001b[0m \u001b[0;32mif\u001b[0m \u001b[0mX\u001b[0m \u001b[0;32mis\u001b[0m \u001b[0;32mnot\u001b[0m \u001b[0;32mNone\u001b[0m\u001b[0;34m]\u001b[0m\u001b[0;34m\u001b[0m\u001b[0;34m\u001b[0m\u001b[0m\n\u001b[0m\u001b[1;32m    330\u001b[0m     \u001b[0muniques\u001b[0m \u001b[0;34m=\u001b[0m \u001b[0mnp\u001b[0m\u001b[0;34m.\u001b[0m\u001b[0munique\u001b[0m\u001b[0;34m(\u001b[0m\u001b[0mlengths\u001b[0m\u001b[0;34m)\u001b[0m\u001b[0;34m\u001b[0m\u001b[0;34m\u001b[0m\u001b[0m\n\u001b[1;32m    331\u001b[0m     \u001b[0;32mif\u001b[0m \u001b[0mlen\u001b[0m\u001b[0;34m(\u001b[0m\u001b[0muniques\u001b[0m\u001b[0;34m)\u001b[0m \u001b[0;34m>\u001b[0m \u001b[0;36m1\u001b[0m\u001b[0;34m:\u001b[0m\u001b[0;34m\u001b[0m\u001b[0;34m\u001b[0m\u001b[0m\n",
            "\u001b[0;32m/usr/local/lib/python3.7/dist-packages/sklearn/utils/validation.py\u001b[0m in \u001b[0;36m<listcomp>\u001b[0;34m(.0)\u001b[0m\n\u001b[1;32m    327\u001b[0m     \"\"\"\n\u001b[1;32m    328\u001b[0m \u001b[0;34m\u001b[0m\u001b[0m\n\u001b[0;32m--> 329\u001b[0;31m     \u001b[0mlengths\u001b[0m \u001b[0;34m=\u001b[0m \u001b[0;34m[\u001b[0m\u001b[0m_num_samples\u001b[0m\u001b[0;34m(\u001b[0m\u001b[0mX\u001b[0m\u001b[0;34m)\u001b[0m \u001b[0;32mfor\u001b[0m \u001b[0mX\u001b[0m \u001b[0;32min\u001b[0m \u001b[0marrays\u001b[0m \u001b[0;32mif\u001b[0m \u001b[0mX\u001b[0m \u001b[0;32mis\u001b[0m \u001b[0;32mnot\u001b[0m \u001b[0;32mNone\u001b[0m\u001b[0;34m]\u001b[0m\u001b[0;34m\u001b[0m\u001b[0;34m\u001b[0m\u001b[0m\n\u001b[0m\u001b[1;32m    330\u001b[0m     \u001b[0muniques\u001b[0m \u001b[0;34m=\u001b[0m \u001b[0mnp\u001b[0m\u001b[0;34m.\u001b[0m\u001b[0munique\u001b[0m\u001b[0;34m(\u001b[0m\u001b[0mlengths\u001b[0m\u001b[0;34m)\u001b[0m\u001b[0;34m\u001b[0m\u001b[0;34m\u001b[0m\u001b[0m\n\u001b[1;32m    331\u001b[0m     \u001b[0;32mif\u001b[0m \u001b[0mlen\u001b[0m\u001b[0;34m(\u001b[0m\u001b[0muniques\u001b[0m\u001b[0;34m)\u001b[0m \u001b[0;34m>\u001b[0m \u001b[0;36m1\u001b[0m\u001b[0;34m:\u001b[0m\u001b[0;34m\u001b[0m\u001b[0;34m\u001b[0m\u001b[0m\n",
            "\u001b[0;32m/usr/local/lib/python3.7/dist-packages/sklearn/utils/validation.py\u001b[0m in \u001b[0;36m_num_samples\u001b[0;34m(x)\u001b[0m\n\u001b[1;32m    268\u001b[0m         \u001b[0;32mif\u001b[0m \u001b[0mlen\u001b[0m\u001b[0;34m(\u001b[0m\u001b[0mx\u001b[0m\u001b[0;34m.\u001b[0m\u001b[0mshape\u001b[0m\u001b[0;34m)\u001b[0m \u001b[0;34m==\u001b[0m \u001b[0;36m0\u001b[0m\u001b[0;34m:\u001b[0m\u001b[0;34m\u001b[0m\u001b[0;34m\u001b[0m\u001b[0m\n\u001b[1;32m    269\u001b[0m             raise TypeError(\n\u001b[0;32m--> 270\u001b[0;31m                 \u001b[0;34m\"Singleton array %r cannot be considered a valid collection.\"\u001b[0m \u001b[0;34m%\u001b[0m \u001b[0mx\u001b[0m\u001b[0;34m\u001b[0m\u001b[0;34m\u001b[0m\u001b[0m\n\u001b[0m\u001b[1;32m    271\u001b[0m             )\n\u001b[1;32m    272\u001b[0m         \u001b[0;31m# Check that shape is returning an integer or default to len\u001b[0m\u001b[0;34m\u001b[0m\u001b[0;34m\u001b[0m\u001b[0;34m\u001b[0m\u001b[0m\n",
            "\u001b[0;31mTypeError\u001b[0m: Singleton array array(<built-in function array>, dtype=object) cannot be considered a valid collection."
          ]
        }
      ]
    },
    {
      "cell_type": "markdown",
      "source": [
        "(5) 모델 준비하기\n",
        "\n",
        "*   입력 데이터 개수에 맞는 가중치 W와 b를 준비해주세요.\n",
        "*   모델 함수를 구현해주세요.\n",
        "\n"
      ],
      "metadata": {
        "id": "Jj-O1_QMqV2f"
      }
    },
    {
      "cell_type": "code",
      "source": [
        "def model(x, w, b):\n",
        "    y = w * x + b\n",
        "    return y\n",
        "#모델함수를 구현"
      ],
      "metadata": {
        "id": "bv6vHDyQqZ2b"
      },
      "execution_count": 15,
      "outputs": []
    },
    {
      "cell_type": "code",
      "source": [
        "model(x=5, w=2, b=1)\n",
        "#예시"
      ],
      "metadata": {
        "colab": {
          "base_uri": "https://localhost:8080/"
        },
        "id": "tz3z6m_a7PvC",
        "outputId": "5bd2db69-1586-4ca5-a182-31c89e7225c6"
      },
      "execution_count": 16,
      "outputs": [
        {
          "output_type": "execute_result",
          "data": {
            "text/plain": [
              "11"
            ]
          },
          "metadata": {},
          "execution_count": 16
        }
      ]
    },
    {
      "cell_type": "markdown",
      "source": [
        "(6) 손실함수 loss 정의하기\n",
        "\n",
        "*   손실함수를 MSE 함수로 정의해주세요.\n",
        "\n"
      ],
      "metadata": {
        "id": "1GOnv6Oq7YKR"
      }
    },
    {
      "cell_type": "code",
      "source": [
        "def MSE(a, b):\n",
        "    mse = ((a - b) ** 2).mean()  # 두 값의 차이의 제곱의 평균\n",
        "    return mse\n",
        "#함수"
      ],
      "metadata": {
        "id": "HMyw0am67b1j"
      },
      "execution_count": 21,
      "outputs": []
    },
    {
      "cell_type": "code",
      "source": [
        "def loss(x, w, b, y):\n",
        "    predictions = model(x, w, b)\n",
        "    L = MSE(predictions, y)\n",
        "    return L\n",
        "#손실함수 정의하기"
      ],
      "metadata": {
        "id": "sWfljGxv-NUS"
      },
      "execution_count": 20,
      "outputs": []
    },
    {
      "cell_type": "markdown",
      "source": [
        "(7) 기울기를 구하는 gradient 함수 구현하기\n",
        "\n",
        "*   기울기를 계산하는 gradient 함수를 구현해주세요.\n",
        "\n"
      ],
      "metadata": {
        "id": "Md0FNVhS-tyy"
      }
    },
    {
      "cell_type": "code",
      "source": [
        "def gradient(x, w, b, y):\n",
        "    dw = (loss(x, w + 0.0001, b, y) - loss(x, w, b, y)) / 0.0001\n",
        "    db = (loss(x, w, b + 0.0001, y) - loss(x, w, b, y)) / 0.0001\n",
        "    return dw, db\n",
        "#기울기를 계산하는 gradient 함수"
      ],
      "metadata": {
        "id": "20jCxC-b_QoM"
      },
      "execution_count": null,
      "outputs": []
    },
    {
      "cell_type": "markdown",
      "source": [
        "(8) 하이퍼 파라미터인 학습률 설정하기\n",
        "\n",
        "*   학습률, learning rate 를 설정해주세요\n",
        "*   만약 학습이 잘 되지 않는다면 learning rate 값을 한번 여러 가지로 설정하며 실험해 보세요.\n",
        "\n"
      ],
      "metadata": {
        "id": "Z7WsQdUF-wBY"
      }
    },
    {
      "cell_type": "code",
      "source": [
        "LEARNING_RATE = 1\n",
        "#경사하강법에서 필요했던 학습률, \\etaη 상수를 정의\n",
        "#모델이 스스로 학습해나가는 파라미터 가 아니라, 사람이 직접 사전에 정하고 시작해야 하는 파라미터 를 하이퍼 파라미터라 함"
      ],
      "metadata": {
        "id": "Ak4j5Gkn_XVv"
      },
      "execution_count": 23,
      "outputs": []
    },
    {
      "cell_type": "markdown",
      "source": [
        "(9) 모델 학습하기\n",
        "\n",
        "*   정의된 손실함수와 기울기 함수로 모델을 학습해주세요.\n",
        "*   loss값이 충분히 떨어질 때까지 학습을 진행해주세요.\n",
        "*   입력하는 데이터인 X에 들어가는 특성 컬럼들을 몇 개 빼도 괜찮습니다. 다양한 데이터로 실험해 보세요.\n",
        " \n",
        "\n"
      ],
      "metadata": {
        "id": "hHCZX3qr-2hS"
      }
    },
    {
      "cell_type": "code",
      "source": [
        "x = diabetes[\"data\"].values\n",
        "y = diabetes[\"target\"].values\n",
        "#values 에러가 나왔다.\n",
        "#혼자 해결하기 어려운 문제였다."
      ],
      "metadata": {
        "colab": {
          "base_uri": "https://localhost:8080/",
          "height": 193
        },
        "id": "a_4cBpn3ACS5",
        "outputId": "87fe95b7-72d1-47fb-f8b3-89033573ddf7"
      },
      "execution_count": 46,
      "outputs": [
        {
          "output_type": "error",
          "ename": "AttributeError",
          "evalue": "ignored",
          "traceback": [
            "\u001b[0;31m---------------------------------------------------------------------------\u001b[0m",
            "\u001b[0;31mAttributeError\u001b[0m                            Traceback (most recent call last)",
            "\u001b[0;32m<ipython-input-46-cd427cabaf14>\u001b[0m in \u001b[0;36m<module>\u001b[0;34m\u001b[0m\n\u001b[0;32m----> 1\u001b[0;31m \u001b[0mx\u001b[0m \u001b[0;34m=\u001b[0m \u001b[0mdiabetes\u001b[0m\u001b[0;34m[\u001b[0m\u001b[0;34m\"data\"\u001b[0m\u001b[0;34m]\u001b[0m\u001b[0;34m.\u001b[0m\u001b[0mvalues\u001b[0m\u001b[0;34m\u001b[0m\u001b[0;34m\u001b[0m\u001b[0m\n\u001b[0m\u001b[1;32m      2\u001b[0m \u001b[0my\u001b[0m \u001b[0;34m=\u001b[0m \u001b[0mdiabetes\u001b[0m\u001b[0;34m[\u001b[0m\u001b[0;34m\"target\"\u001b[0m\u001b[0;34m]\u001b[0m\u001b[0;34m.\u001b[0m\u001b[0mvalues\u001b[0m\u001b[0;34m\u001b[0m\u001b[0;34m\u001b[0m\u001b[0m\n",
            "\u001b[0;31mAttributeError\u001b[0m: 'numpy.ndarray' object has no attribute 'values'"
          ]
        }
      ]
    },
    {
      "cell_type": "markdown",
      "source": [
        "(10) test 데이터에 대한 성능 확인하기\n",
        "\n",
        "*   test 데이터에 대한 성능을 확인해주세요.\n",
        "\n"
      ],
      "metadata": {
        "id": "iL8ZzlxF_ASz"
      }
    },
    {
      "cell_type": "markdown",
      "source": [
        "(11) 정답 데이터와 예측한 데이터 시각화하기\n",
        "\n",
        "*   x축에는 X 데이터의 첫 번째 컬럼을, y축에는 정답인 target 데이터를 넣어서 모델이 예측한 데이터를 시각화해 주세요.\n",
        "\n"
      ],
      "metadata": {
        "id": "46RLGSgZ_CgS"
      }
    },
    {
      "cell_type": "markdown",
      "source": [
        "# 프로젝트 2 : 날씨 좋은 월요일 오후 세 시, 자전거 타는 사람은 몇 명?"
      ],
      "metadata": {
        "id": "77ogPZ0j6bCL"
      }
    },
    {
      "cell_type": "markdown",
      "source": [
        "(1) 데이터 가져오기\n",
        "\n",
        "*   터미널에서 ~/data/data/bike-sharing-demand 경로에 train.csv 데이터를 train 변수로 가져 옵니다.\n",
        "*   여기에서 데이터를 상세히 확인할 수 있습니다.\n",
        "\n"
      ],
      "metadata": {
        "id": "MuoAHfyJ9n8D"
      }
    },
    {
      "cell_type": "code",
      "source": [
        "from google.colab import drive\n",
        "drive.mount('/content/gdrive')"
      ],
      "metadata": {
        "colab": {
          "base_uri": "https://localhost:8080/"
        },
        "id": "kTZyd1dmHqRe",
        "outputId": "24ef75bb-a2c0-4a99-b10f-3958d361d790"
      },
      "execution_count": 55,
      "outputs": [
        {
          "output_type": "stream",
          "name": "stdout",
          "text": [
            "Drive already mounted at /content/gdrive; to attempt to forcibly remount, call drive.mount(\"/content/gdrive\", force_remount=True).\n"
          ]
        }
      ]
    },
    {
      "cell_type": "markdown",
      "source": [
        "(2) datetime 컬럼을 datetime 자료형으로 변환하고 연, 월, 일, 시, 분, 초까지 6가지 컬럼 생성하기\n",
        "\n",
        "*   to_datetime 활용 : 링크 참조\n",
        "*   pandas datetime extract year month day 키워드로 검색해 보기\n",
        "\n"
      ],
      "metadata": {
        "id": "d0_Yy696DbWM"
      }
    },
    {
      "cell_type": "code",
      "source": [
        "def to_datetime(\n",
        "    arg: DatetimeScalarOrArrayConvertible | DictConvertible,\n",
        "    errors: DateTimeErrorChoices = \"raise\",\n",
        "    dayfirst: bool = False,\n",
        "    yearfirst: bool = False,\n",
        "    utc: bool | None = None,\n",
        "    format: str | None = None,\n",
        "    exact: bool = True,\n",
        "    unit: str | None = None,\n",
        "    infer_datetime_format: bool = False,\n",
        "    origin=\"unix\",\n",
        "    cache: bool = True,\n",
        ") -> DatetimeIndex | Series | DatetimeScalar | NaTType | None:\n",
        "    \"\"\"\n",
        "    Convert argument to datetime.\n",
        "    This function converts a scalar, array-like, :class:`Series` or\n",
        "    :class:`DataFrame`/dict-like to a pandas datetime object.\n",
        "    Parameters"
      ],
      "metadata": {
        "colab": {
          "base_uri": "https://localhost:8080/",
          "height": 156
        },
        "id": "j4rifAtXLVP0",
        "outputId": "a4ab2cd0-72a5-43e4-de3b-8683320c7e11"
      },
      "execution_count": 72,
      "outputs": [
        {
          "output_type": "error",
          "ename": "SyntaxError",
          "evalue": "ignored",
          "traceback": [
            "\u001b[0;36m  File \u001b[0;32m\"<ipython-input-72-acec9679273f>\"\u001b[0;36m, line \u001b[0;32m18\u001b[0m\n\u001b[0;31m    Parameters\u001b[0m\n\u001b[0m              \n^\u001b[0m\n\u001b[0;31mSyntaxError\u001b[0m\u001b[0;31m:\u001b[0m EOF while scanning triple-quoted string literal\n"
          ]
        }
      ]
    },
    {
      "cell_type": "markdown",
      "source": [
        "(3) year, month, day, hour, minute, second 데이터 개수 시각화하기\n",
        "\n",
        "*   sns.countplot 활용해서 시각화하기\n",
        "*   subplot을 활용해서 한 번에 6개의 그래프 함께 시각화하기\n",
        "\n"
      ],
      "metadata": {
        "id": "SUd3ectrDfZF"
      }
    },
    {
      "cell_type": "markdown",
      "source": [
        "(4) X, y 컬럼 선택 및 train/test 데이터 분리\n",
        "\n",
        "*   X(feature) 에는 어떤 데이터 컬럼을 넣어야 될지 고민해 봅시다 데이터 컬럼을 추가하거나 빼면서 잘 조합하여 데이터를 넣기 바랍니다. 만일 모든 데이터 컬럼(특징)을 넣는다면 오차 값이 말도 안 되게 적게 나올 수도 있습니다. ex) count를 예측하는데 casual,registered 컬럼이 필요할까요?\n",
        "*   count 값을 맞추고자 하므로, y 변수에 count 컬럼의 데이터 넣기\n",
        "\n"
      ],
      "metadata": {
        "id": "2JGhDrwsDpdR"
      }
    },
    {
      "cell_type": "markdown",
      "source": [
        "(5) LinearRegression 모델 학습\n",
        "\n",
        "*   sklearn의 LinearRegression 모델 불러오기 및 학습하기\n"
      ],
      "metadata": {
        "id": "QfbFgzboDvjf"
      }
    },
    {
      "cell_type": "markdown",
      "source": [
        "(6) 학습된 모델로 X_test에 대한 예측값 출력 및 손실함수값 계산\n",
        "\n",
        "*   학습된 모델에 X_test를 입력해서 예측값 출력하기\n",
        "*   모델이 예측한 값과 정답 target 간의 손실함수 값 계산하기\n",
        "*   mse 값과 함께 rmse 값도 계산하기\n"
      ],
      "metadata": {
        "id": "7wZ5gqIeDxM6"
      }
    },
    {
      "cell_type": "markdown",
      "source": [
        "(7) x축은 temp 또는 humidity로, y축은 count로 예측 결과 시각화하기\n",
        "\n",
        "*   x축에 X 데이터 중 temp 데이터를, y축에는 count 데이터를 넣어서 시각화하기\n",
        "*   x축에 X 데이터 중 humidity 데이터를, y축에는 count 데이터를 넣어서 시각화하기\n",
        "\n"
      ],
      "metadata": {
        "id": "Um2VZJp-D3zY"
      }
    }
  ]
}