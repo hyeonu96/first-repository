{
  "cells": [
    {
      "cell_type": "markdown",
      "metadata": {
        "id": "view-in-github",
        "colab_type": "text"
      },
      "source": [
        "<a href=\"https://colab.research.google.com/github/hyeonu96/first-repository/blob/main/%5BEX_12%5D%EB%89%B4%EC%8A%A4_%EC%9A%94%EC%95%BD%EB%B4%87_%EB%A7%8C%EB%93%A4%EA%B8%B0.ipynb\" target=\"_parent\"><img src=\"https://colab.research.google.com/assets/colab-badge.svg\" alt=\"Open In Colab\"/></a>"
      ]
    },
    {
      "cell_type": "code",
      "execution_count": null,
      "id": "fef6aee6",
      "metadata": {
        "id": "fef6aee6"
      },
      "outputs": [],
      "source": [
        "프로젝트: 뉴스기사 요약해보기"
      ]
    },
    {
      "cell_type": "code",
      "execution_count": null,
      "id": "73586961",
      "metadata": {
        "id": "73586961"
      },
      "outputs": [],
      "source": [
        "Step 1. 데이터 수집하기"
      ]
    },
    {
      "cell_type": "code",
      "execution_count": null,
      "id": "491163e9",
      "metadata": {
        "id": "491163e9",
        "outputId": "ea75d439-53e7-4952-f884-d1f37f017d5b"
      },
      "outputs": [
        {
          "name": "stdout",
          "output_type": "stream",
          "text": [
            "3.6.5\n",
            "2.6.0\n",
            "1.2.0\n"
          ]
        }
      ],
      "source": [
        "from importlib.metadata import version\n",
        "import nltk\n",
        "import tensorflow\n",
        "import summa\n",
        "import pandas as pd\n",
        "import re\n",
        "import numpy as np\n",
        "from nltk.corpus import stopwords\n",
        "from bs4 import BeautifulSoup\n",
        "from nltk.tokenize import word_tokenize\n",
        "from nltk.tokenize import WordPunctTokenizer\n",
        "from tensorflow.keras.preprocessing.text import text_to_word_sequence\n",
        "import tensorflow as tf\n",
        "from tensorflow import keras\n",
        "from tensorflow.keras.preprocessing.text import Tokenizer\n",
        "from tensorflow.keras.preprocessing.sequence import pad_sequences\n",
        "import os\n",
        "import numpy as np\n",
        "import pandas as pd\n",
        "import re\n",
        "import matplotlib.pyplot as plt\n",
        "import nltk\n",
        "from nltk.corpus import stopwords\n",
        "from bs4 import BeautifulSoup \n",
        "import urllib.request\n",
        "import requests\n",
        "from summa.summarizer import summarize\n",
        "\n",
        "from tensorflow.keras.preprocessing.text import Tokenizer \n",
        "from tensorflow.keras.preprocessing.sequence import pad_sequences\n",
        "from tensorflow.keras.layers import Input, LSTM, Embedding, Dense, Concatenate\n",
        "from tensorflow.keras.models import Model\n",
        "from tensorflow.keras.callbacks import EarlyStopping, ModelCheckpoint\n",
        "\n",
        "print(nltk.__version__)\n",
        "print(tensorflow.__version__)\n",
        "print(version('summa'))"
      ]
    },
    {
      "cell_type": "code",
      "execution_count": null,
      "id": "57a94488",
      "metadata": {
        "id": "57a94488"
      },
      "outputs": [],
      "source": [
        "import urllib.request\n",
        "urllib.request.urlretrieve(\"https://raw.githubusercontent.com/sunnysai12345/News_Summary/master/news_summary_more.csv\", filename=\"news_summary_more.csv\")\n",
        "data = pd.read_csv('news_summary_more.csv', encoding='iso-8859-1')"
      ]
    },
    {
      "cell_type": "code",
      "execution_count": null,
      "id": "3e7a9225",
      "metadata": {
        "id": "3e7a9225",
        "outputId": "0ec49b1b-fe9b-4ec1-cea3-70d99d5b7805"
      },
      "outputs": [
        {
          "data": {
            "text/html": [
              "<div>\n",
              "<style scoped>\n",
              "    .dataframe tbody tr th:only-of-type {\n",
              "        vertical-align: middle;\n",
              "    }\n",
              "\n",
              "    .dataframe tbody tr th {\n",
              "        vertical-align: top;\n",
              "    }\n",
              "\n",
              "    .dataframe thead th {\n",
              "        text-align: right;\n",
              "    }\n",
              "</style>\n",
              "<table border=\"1\" class=\"dataframe\">\n",
              "  <thead>\n",
              "    <tr style=\"text-align: right;\">\n",
              "      <th></th>\n",
              "      <th>headlines</th>\n",
              "      <th>text</th>\n",
              "    </tr>\n",
              "  </thead>\n",
              "  <tbody>\n",
              "    <tr>\n",
              "      <th>84754</th>\n",
              "      <td>Team designing instrument to explore rare meta...</td>\n",
              "      <td>A team of US-based researchers is designing a ...</td>\n",
              "    </tr>\n",
              "    <tr>\n",
              "      <th>5287</th>\n",
              "      <td>Big BashÃ¢ÂÂs 1st Nepalese cricketer picks 2...</td>\n",
              "      <td>Sandeep Lamichhane, who is the first Nepalese ...</td>\n",
              "    </tr>\n",
              "    <tr>\n",
              "      <th>30306</th>\n",
              "      <td>Google working on standalone AR headset: Report</td>\n",
              "      <td>Technology giant Google along with Taiwanese m...</td>\n",
              "    </tr>\n",
              "    <tr>\n",
              "      <th>39228</th>\n",
              "      <td>All you need is family: Shilpa Shetty on her 4...</td>\n",
              "      <td>Actress Shilpa Shetty, who turned 43 on Friday...</td>\n",
              "    </tr>\n",
              "    <tr>\n",
              "      <th>17476</th>\n",
              "      <td>Would like to coach foreign clubs: Ex-India ca...</td>\n",
              "      <td>Former India hockey captain Sardar Singh, who ...</td>\n",
              "    </tr>\n",
              "    <tr>\n",
              "      <th>85192</th>\n",
              "      <td>Amazon said to be in talks to buy BigBasket</td>\n",
              "      <td>E-commerce major Amazon is in preliminary talk...</td>\n",
              "    </tr>\n",
              "    <tr>\n",
              "      <th>96243</th>\n",
              "      <td>Aware that remote airports can be used by terr...</td>\n",
              "      <td>The government on Tuesday said it was aware of...</td>\n",
              "    </tr>\n",
              "    <tr>\n",
              "      <th>38736</th>\n",
              "      <td>New rules go into effect in US, end Obama-era ...</td>\n",
              "      <td>The US on Monday enforced 'Restoring Internet ...</td>\n",
              "    </tr>\n",
              "    <tr>\n",
              "      <th>60239</th>\n",
              "      <td>Dimitrov lifts ATP Finals title, wins Ã¢ÂÂ¹16...</td>\n",
              "      <td>BulgariaÃ¢ÂÂs Grigor Dimitrov defeated Belgi...</td>\n",
              "    </tr>\n",
              "    <tr>\n",
              "      <th>85108</th>\n",
              "      <td>Baby saved after being thrown down 9 floors am...</td>\n",
              "      <td>A baby was dropped from Grenfell Tower in Lond...</td>\n",
              "    </tr>\n",
              "  </tbody>\n",
              "</table>\n",
              "</div>"
            ],
            "text/plain": [
              "                                               headlines  \\\n",
              "84754  Team designing instrument to explore rare meta...   \n",
              "5287   Big BashÃ¢ÂÂs 1st Nepalese cricketer picks 2...   \n",
              "30306    Google working on standalone AR headset: Report   \n",
              "39228  All you need is family: Shilpa Shetty on her 4...   \n",
              "17476  Would like to coach foreign clubs: Ex-India ca...   \n",
              "85192        Amazon said to be in talks to buy BigBasket   \n",
              "96243  Aware that remote airports can be used by terr...   \n",
              "38736  New rules go into effect in US, end Obama-era ...   \n",
              "60239  Dimitrov lifts ATP Finals title, wins Ã¢ÂÂ¹16...   \n",
              "85108  Baby saved after being thrown down 9 floors am...   \n",
              "\n",
              "                                                    text  \n",
              "84754  A team of US-based researchers is designing a ...  \n",
              "5287   Sandeep Lamichhane, who is the first Nepalese ...  \n",
              "30306  Technology giant Google along with Taiwanese m...  \n",
              "39228  Actress Shilpa Shetty, who turned 43 on Friday...  \n",
              "17476  Former India hockey captain Sardar Singh, who ...  \n",
              "85192  E-commerce major Amazon is in preliminary talk...  \n",
              "96243  The government on Tuesday said it was aware of...  \n",
              "38736  The US on Monday enforced 'Restoring Internet ...  \n",
              "60239  BulgariaÃ¢ÂÂs Grigor Dimitrov defeated Belgi...  \n",
              "85108  A baby was dropped from Grenfell Tower in Lond...  "
            ]
          },
          "execution_count": 19,
          "metadata": {},
          "output_type": "execute_result"
        }
      ],
      "source": [
        "data.sample(10)"
      ]
    },
    {
      "cell_type": "code",
      "execution_count": null,
      "id": "f004be14",
      "metadata": {
        "id": "f004be14"
      },
      "outputs": [],
      "source": [
        "Step 2. 데이터 전처리하기 (추상적 요약)"
      ]
    },
    {
      "cell_type": "code",
      "execution_count": null,
      "id": "e7091bec",
      "metadata": {
        "id": "e7091bec"
      },
      "outputs": [],
      "source": [
        "중복 샘플과 NULL 값이 존재하는 샘플 제거"
      ]
    },
    {
      "cell_type": "code",
      "execution_count": null,
      "id": "d8fb4ab7",
      "metadata": {
        "scrolled": true,
        "id": "d8fb4ab7",
        "outputId": "696366fc-24e9-42cf-946e-dbda53773649"
      },
      "outputs": [
        {
          "name": "stdout",
          "output_type": "stream",
          "text": [
            "text 열에서 중복을 배제한 유일한 샘플의 수 : 98360\n",
            "headlines 열에서 중복을 배제한 유일한 샘플의 수 : 98280\n"
          ]
        }
      ],
      "source": [
        "print('text 열에서 중복을 배제한 유일한 샘플의 수 :', data['text'].nunique())\n",
        "print('headlines 열에서 중복을 배제한 유일한 샘플의 수 :', data['headlines'].nunique())"
      ]
    },
    {
      "cell_type": "code",
      "execution_count": null,
      "id": "800450e8",
      "metadata": {
        "id": "800450e8",
        "outputId": "bb29d926-a326-4674-d9e2-ec8a4b7c871e"
      },
      "outputs": [
        {
          "name": "stdout",
          "output_type": "stream",
          "text": [
            "전체 샘플수 : 98360\n"
          ]
        }
      ],
      "source": [
        "# inplace=True 를 설정하면 DataFrame 타입 값을 return 하지 않고 data 내부를 직접적으로 바꿉니다\n",
        "data.drop_duplicates(subset = ['text'], inplace=True)\n",
        "print('전체 샘플수 :', (len(data)))"
      ]
    },
    {
      "cell_type": "code",
      "execution_count": null,
      "id": "8f8e76f6",
      "metadata": {
        "id": "8f8e76f6",
        "outputId": "8a082d6c-d912-4bf5-bcda-fbc305b24c23"
      },
      "outputs": [
        {
          "name": "stdout",
          "output_type": "stream",
          "text": [
            "headlines    0\n",
            "text         0\n",
            "dtype: int64\n"
          ]
        }
      ],
      "source": [
        "print(data.isnull().sum())"
      ]
    },
    {
      "cell_type": "code",
      "execution_count": null,
      "id": "fb52c00e",
      "metadata": {
        "id": "fb52c00e",
        "outputId": "fb9bfca1-f011-47d4-92de-df31449a0ab3"
      },
      "outputs": [
        {
          "name": "stdout",
          "output_type": "stream",
          "text": [
            "전체 샘플수 : 98360\n"
          ]
        }
      ],
      "source": [
        "data.dropna(axis=0, inplace=True)\n",
        "print('전체 샘플수 :', (len(data)))"
      ]
    },
    {
      "cell_type": "code",
      "execution_count": null,
      "id": "2a0cf842",
      "metadata": {
        "id": "2a0cf842"
      },
      "outputs": [],
      "source": [
        "텍스트 정규화와 불용어 제거"
      ]
    },
    {
      "cell_type": "code",
      "execution_count": null,
      "id": "80e1c801",
      "metadata": {
        "id": "80e1c801",
        "outputId": "6667d8ac-4b33-49b1-ad19-b0750dd3b8b0"
      },
      "outputs": [
        {
          "name": "stdout",
          "output_type": "stream",
          "text": [
            "정규화 사전의 수:  120\n"
          ]
        }
      ],
      "source": [
        "contractions = {\"ain't\": \"is not\", \"aren't\": \"are not\",\"can't\": \"cannot\", \"'cause\": \"because\", \"could've\": \"could have\", \"couldn't\": \"could not\",\n",
        "                           \"didn't\": \"did not\",  \"doesn't\": \"does not\", \"don't\": \"do not\", \"hadn't\": \"had not\", \"hasn't\": \"has not\", \"haven't\": \"have not\",\n",
        "                           \"he'd\": \"he would\",\"he'll\": \"he will\", \"he's\": \"he is\", \"how'd\": \"how did\", \"how'd'y\": \"how do you\", \"how'll\": \"how will\", \"how's\": \"how is\",\n",
        "                           \"I'd\": \"I would\", \"I'd've\": \"I would have\", \"I'll\": \"I will\", \"I'll've\": \"I will have\",\"I'm\": \"I am\", \"I've\": \"I have\", \"i'd\": \"i would\",\n",
        "                           \"i'd've\": \"i would have\", \"i'll\": \"i will\",  \"i'll've\": \"i will have\",\"i'm\": \"i am\", \"i've\": \"i have\", \"isn't\": \"is not\", \"it'd\": \"it would\",\n",
        "                           \"it'd've\": \"it would have\", \"it'll\": \"it will\", \"it'll've\": \"it will have\",\"it's\": \"it is\", \"let's\": \"let us\", \"ma'am\": \"madam\",\n",
        "                           \"mayn't\": \"may not\", \"might've\": \"might have\",\"mightn't\": \"might not\",\"mightn't've\": \"might not have\", \"must've\": \"must have\",\n",
        "                           \"mustn't\": \"must not\", \"mustn't've\": \"must not have\", \"needn't\": \"need not\", \"needn't've\": \"need not have\",\"o'clock\": \"of the clock\",\n",
        "                           \"oughtn't\": \"ought not\", \"oughtn't've\": \"ought not have\", \"shan't\": \"shall not\", \"sha'n't\": \"shall not\", \"shan't've\": \"shall not have\",\n",
        "                           \"she'd\": \"she would\", \"she'd've\": \"she would have\", \"she'll\": \"she will\", \"she'll've\": \"she will have\", \"she's\": \"she is\",\n",
        "                           \"should've\": \"should have\", \"shouldn't\": \"should not\", \"shouldn't've\": \"should not have\", \"so've\": \"so have\",\"so's\": \"so as\",\n",
        "                           \"this's\": \"this is\",\"that'd\": \"that would\", \"that'd've\": \"that would have\", \"that's\": \"that is\", \"there'd\": \"there would\",\n",
        "                           \"there'd've\": \"there would have\", \"there's\": \"there is\", \"here's\": \"here is\",\"they'd\": \"they would\", \"they'd've\": \"they would have\",\n",
        "                           \"they'll\": \"they will\", \"they'll've\": \"they will have\", \"they're\": \"they are\", \"they've\": \"they have\", \"to've\": \"to have\",\n",
        "                           \"wasn't\": \"was not\", \"we'd\": \"we would\", \"we'd've\": \"we would have\", \"we'll\": \"we will\", \"we'll've\": \"we will have\", \"we're\": \"we are\",\n",
        "                           \"we've\": \"we have\", \"weren't\": \"were not\", \"what'll\": \"what will\", \"what'll've\": \"what will have\", \"what're\": \"what are\",\n",
        "                           \"what's\": \"what is\", \"what've\": \"what have\", \"when's\": \"when is\", \"when've\": \"when have\", \"where'd\": \"where did\", \"where's\": \"where is\",\n",
        "                           \"where've\": \"where have\", \"who'll\": \"who will\", \"who'll've\": \"who will have\", \"who's\": \"who is\", \"who've\": \"who have\",\n",
        "                           \"why's\": \"why is\", \"why've\": \"why have\", \"will've\": \"will have\", \"won't\": \"will not\", \"won't've\": \"will not have\",\n",
        "                           \"would've\": \"would have\", \"wouldn't\": \"would not\", \"wouldn't've\": \"would not have\", \"y'all\": \"you all\",\n",
        "                           \"y'all'd\": \"you all would\",\"y'all'd've\": \"you all would have\",\"y'all're\": \"you all are\",\"y'all've\": \"you all have\",\n",
        "                           \"you'd\": \"you would\", \"you'd've\": \"you would have\", \"you'll\": \"you will\", \"you'll've\": \"you will have\",\n",
        "                           \"you're\": \"you are\", \"you've\": \"you have\"}\n",
        "\n",
        "print(\"정규화 사전의 수: \", len(contractions))"
      ]
    },
    {
      "cell_type": "code",
      "execution_count": null,
      "id": "9a2225a8",
      "metadata": {
        "id": "9a2225a8",
        "outputId": "ca08f50f-621d-4861-e434-e1961f8d968c"
      },
      "outputs": [
        {
          "name": "stdout",
          "output_type": "stream",
          "text": [
            "불용어 개수 : 179\n",
            "['i', 'me', 'my', 'myself', 'we', 'our', 'ours', 'ourselves', 'you', \"you're\", \"you've\", \"you'll\", \"you'd\", 'your', 'yours', 'yourself', 'yourselves', 'he', 'him', 'his', 'himself', 'she', \"she's\", 'her', 'hers', 'herself', 'it', \"it's\", 'its', 'itself', 'they', 'them', 'their', 'theirs', 'themselves', 'what', 'which', 'who', 'whom', 'this', 'that', \"that'll\", 'these', 'those', 'am', 'is', 'are', 'was', 'were', 'be', 'been', 'being', 'have', 'has', 'had', 'having', 'do', 'does', 'did', 'doing', 'a', 'an', 'the', 'and', 'but', 'if', 'or', 'because', 'as', 'until', 'while', 'of', 'at', 'by', 'for', 'with', 'about', 'against', 'between', 'into', 'through', 'during', 'before', 'after', 'above', 'below', 'to', 'from', 'up', 'down', 'in', 'out', 'on', 'off', 'over', 'under', 'again', 'further', 'then', 'once', 'here', 'there', 'when', 'where', 'why', 'how', 'all', 'any', 'both', 'each', 'few', 'more', 'most', 'other', 'some', 'such', 'no', 'nor', 'not', 'only', 'own', 'same', 'so', 'than', 'too', 'very', 's', 't', 'can', 'will', 'just', 'don', \"don't\", 'should', \"should've\", 'now', 'd', 'll', 'm', 'o', 're', 've', 'y', 'ain', 'aren', \"aren't\", 'couldn', \"couldn't\", 'didn', \"didn't\", 'doesn', \"doesn't\", 'hadn', \"hadn't\", 'hasn', \"hasn't\", 'haven', \"haven't\", 'isn', \"isn't\", 'ma', 'mightn', \"mightn't\", 'mustn', \"mustn't\", 'needn', \"needn't\", 'shan', \"shan't\", 'shouldn', \"shouldn't\", 'wasn', \"wasn't\", 'weren', \"weren't\", 'won', \"won't\", 'wouldn', \"wouldn't\"]\n"
          ]
        }
      ],
      "source": [
        "print('불용어 개수 :', len(stopwords.words('english') ))\n",
        "print(stopwords.words('english'))"
      ]
    },
    {
      "cell_type": "code",
      "execution_count": null,
      "id": "a3edb2c1",
      "metadata": {
        "id": "a3edb2c1",
        "outputId": "14166680-d5f4-43fe-e1d1-6002430670f9"
      },
      "outputs": [
        {
          "name": "stdout",
          "output_type": "stream",
          "text": [
            "=3\n"
          ]
        }
      ],
      "source": [
        "# 데이터 전처리 함수\n",
        "def preprocess_sentence(sentence, remove_stopwords=True):\n",
        "    sentence = sentence.lower() # 텍스트 소문자화\n",
        "    sentence = BeautifulSoup(sentence, \"lxml\").text # <br />, <a href = ...> 등의 html 태그 제거\n",
        "    sentence = re.sub(r'\\([^)]*\\)', '', sentence) # 괄호로 닫힌 문자열 (...) 제거 Ex) my husband (and myself!) for => my husband for\n",
        "    sentence = re.sub('\"','', sentence) # 쌍따옴표 \" 제거\n",
        "    sentence = ' '.join([contractions[t] if t in contractions else t for t in sentence.split(\" \")]) # 약어 정규화\n",
        "    sentence = re.sub(r\"'s\\b\",\"\", sentence) # 소유격 제거. Ex) roland's -> roland\n",
        "    sentence = re.sub(\"[^a-zA-Z]\", \" \", sentence) # 영어 외 문자(숫자, 특수문자 등) 공백으로 변환\n",
        "    sentence = re.sub('[m]{2,}', 'mm', sentence) # m이 3개 이상이면 2개로 변경. Ex) ummmmmmm yeah -> umm yeah\n",
        "    \n",
        "    # 불용어 제거 (text)\n",
        "    if remove_stopwords:\n",
        "        tokens = ' '.join(word for word in sentence.split() if not word in stopwords.words('english') if len(word) > 1)\n",
        "    # 불용어 미제거 (headlines)\n",
        "    else:\n",
        "        tokens = ' '.join(word for word in sentence.split() if len(word) > 1)\n",
        "    return tokens\n",
        "print('=3')"
      ]
    },
    {
      "cell_type": "code",
      "execution_count": null,
      "id": "d552da98",
      "metadata": {
        "id": "d552da98",
        "outputId": "eebadbb2-dd2f-49a9-c8d7-b172cb6921f7"
      },
      "outputs": [
        {
          "name": "stdout",
          "output_type": "stream",
          "text": [
            "text:  everything bought great infact ordered twice third ordered wasfor mother father\n",
            "headlines: great way to start the day\n"
          ]
        }
      ],
      "source": [
        "temp_text = 'Everything I bought was great, infact I ordered twice and the third ordered was<br />for my mother and father.'\n",
        "temp_headlines = 'Great way to start (or finish) the day!!!'\n",
        "\n",
        "print(\"text: \", preprocess_sentence(temp_text))\n",
        "print(\"headlines:\", preprocess_sentence(temp_headlines, False))  # 불용어를 제거하지 않습니다."
      ]
    },
    {
      "cell_type": "code",
      "execution_count": null,
      "id": "20cd2be2",
      "metadata": {
        "id": "20cd2be2",
        "outputId": "f2072176-8397-4672-bc64-61b9970e7981"
      },
      "outputs": [
        {
          "name": "stdout",
          "output_type": "stream",
          "text": [
            "text 전처리 후 결과:  ['saurav kant alumnus upgrad iiit pg program machine learning artificial intelligence sr systems engineer infosys almost years work experience program upgrad degree career support helped transition data scientist tech mahindra salary hike upgrad online power learning powered lakh careers', 'kunal shah credit card bill payment platform cred gave users chance win free food swiggy one year pranav kaushik delhi techie bagged reward spending cred coins users get one cred coin per rupee bill paid used avail rewards brands like ixigo bookmyshow ubereats cult fit', 'new zealand defeated india wickets fourth odi hamilton thursday win first match five match odi series india lost international match rohit sharma captaincy consecutive victories dating back march match witnessed india getting seventh lowest total odi cricket history', 'aegon life iterm insurance plan customers enjoy tax benefits premiums paid save taxes plan provides life cover age years also customers options insure critical illnesses disability accidental death benefit rider life cover age years', 'speaking sexual harassment allegations rajkumar hirani sonam kapoor said known hirani many years true metoo movement get derailed metoo movement always believe woman case need reserve judgment added hirani accused assistant worked sanju']\n"
          ]
        }
      ],
      "source": [
        "clean_text = []\n",
        "# 전체 Text 데이터에 대한 전처리 : 10분 이상 시간이 걸릴 수 있습니다. \n",
        "for s in data['text']:\n",
        "    clean_text.append(preprocess_sentence(s))\n",
        "\n",
        "# 전처리 후 출력\n",
        "print(\"text 전처리 후 결과: \", clean_text[:5])"
      ]
    },
    {
      "cell_type": "code",
      "execution_count": null,
      "id": "d04108eb",
      "metadata": {
        "id": "d04108eb",
        "outputId": "8e7b15c1-477e-4ee5-d140-cfb428703176"
      },
      "outputs": [
        {
          "name": "stdout",
          "output_type": "stream",
          "text": [
            "headlines 전처리 후 결과:  ['upgrad learner switches to career in ml al with salary hike', 'delhi techie wins free food from swiggy for one year on cred', 'new zealand end rohit sharma led india match winning streak', 'aegon life iterm insurance plan helps customers save tax', 'have known hirani for yrs what if metoo claims are not true sonam']\n"
          ]
        }
      ],
      "source": [
        "clean_headlines = []\n",
        "# 전체 headlines 데이터에 대한 전처리 : 5분 이상 시간이 걸릴 수 있습니다. \n",
        "for s in data['headlines']:\n",
        "    clean_headlines.append(preprocess_sentence(s, False))\n",
        "\n",
        "print(\"headlines 전처리 후 결과: \", clean_headlines[:5])"
      ]
    },
    {
      "cell_type": "code",
      "execution_count": null,
      "id": "c9672195",
      "metadata": {
        "id": "c9672195",
        "outputId": "5fb0b974-e86f-435e-cc64-ad7dc57e6eb3"
      },
      "outputs": [
        {
          "name": "stdout",
          "output_type": "stream",
          "text": [
            "=3\n"
          ]
        }
      ],
      "source": [
        "data['text'] = clean_text\n",
        "data['headlines'] = clean_headlines\n",
        "\n",
        "# 빈 값을 Null 값으로 변환\n",
        "data.replace('', np.nan, inplace=True)\n",
        "print('=3')"
      ]
    },
    {
      "cell_type": "code",
      "execution_count": null,
      "id": "29acf854",
      "metadata": {
        "id": "29acf854",
        "outputId": "acdecca2-d4b6-40c2-a791-d12437f46901"
      },
      "outputs": [
        {
          "data": {
            "text/plain": [
              "headlines    0\n",
              "text         0\n",
              "dtype: int64"
            ]
          },
          "execution_count": 41,
          "metadata": {},
          "output_type": "execute_result"
        }
      ],
      "source": [
        "data.isnull().sum()"
      ]
    },
    {
      "cell_type": "code",
      "execution_count": null,
      "id": "63914317",
      "metadata": {
        "id": "63914317",
        "outputId": "e7d0813d-b171-4c77-e0be-45d996fa9999"
      },
      "outputs": [
        {
          "name": "stdout",
          "output_type": "stream",
          "text": [
            "전체 샘플수 : 98360\n"
          ]
        }
      ],
      "source": [
        "data.dropna(axis=0, inplace=True)\n",
        "print('전체 샘플수 :', (len(data)))"
      ]
    },
    {
      "cell_type": "code",
      "execution_count": null,
      "id": "60ac1c36",
      "metadata": {
        "id": "60ac1c36"
      },
      "outputs": [],
      "source": [
        "데이터 전처리하기 (2) 훈련데이터와 테스트데이터 나누기"
      ]
    },
    {
      "cell_type": "code",
      "execution_count": null,
      "id": "cdc9163a",
      "metadata": {
        "id": "cdc9163a"
      },
      "outputs": [],
      "source": [
        "샘플의 최대 길이 정하기"
      ]
    },
    {
      "cell_type": "code",
      "execution_count": null,
      "id": "4db9b6cf",
      "metadata": {
        "id": "4db9b6cf",
        "outputId": "2aa639a8-c26b-4b57-c8c2-ed57666b0911"
      },
      "outputs": [
        {
          "name": "stdout",
          "output_type": "stream",
          "text": [
            "텍스트의 최소 길이 : 1\n",
            "텍스트의 최대 길이 : 60\n",
            "텍스트의 평균 길이 : 35.09968483123221\n",
            "요약의 최소 길이 : 1\n",
            "요약의 최대 길이 : 16\n",
            "요약의 평균 길이 : 9.299532330215534\n"
          ]
        },
        {
          "data": {
            "image/png": "[encoded data removed]",
            "text/plain": [
              "<Figure size 432x288 with 2 Axes>"
            ]
          },
          "metadata": {
            "needs_background": "light"
          },
          "output_type": "display_data"
        },
        {
          "data": {
            "image/png": "[encoded data removed]",
            "text/plain": [
              "<Figure size 432x288 with 1 Axes>"
            ]
          },
          "metadata": {
            "needs_background": "light"
          },
          "output_type": "display_data"
        },
        {
          "data": {
            "image/png": "[encoded data removed]",
            "text/plain": [
              "<Figure size 432x288 with 1 Axes>"
            ]
          },
          "metadata": {
            "needs_background": "light"
          },
          "output_type": "display_data"
        }
      ],
      "source": [
        "# 길이 분포 출력\n",
        "import matplotlib.pyplot as plt\n",
        "\n",
        "text_len = [len(s.split()) for s in data['text']]\n",
        "headlines_len = [len(s.split()) for s in data['headlines']]\n",
        "\n",
        "print('텍스트의 최소 길이 : {}'.format(np.min(text_len)))\n",
        "print('텍스트의 최대 길이 : {}'.format(np.max(text_len)))\n",
        "print('텍스트의 평균 길이 : {}'.format(np.mean(text_len)))\n",
        "print('요약의 최소 길이 : {}'.format(np.min(headlines_len)))\n",
        "print('요약의 최대 길이 : {}'.format(np.max(headlines_len)))\n",
        "print('요약의 평균 길이 : {}'.format(np.mean(headlines_len)))\n",
        "\n",
        "plt.subplot(1,2,1)\n",
        "plt.boxplot(text_len)\n",
        "plt.title('text')\n",
        "plt.subplot(1,2,2)\n",
        "plt.boxplot(headlines_len)\n",
        "plt.title('headlines')\n",
        "plt.tight_layout()\n",
        "plt.show()\n",
        "\n",
        "plt.title('text')\n",
        "plt.hist(text_len, bins = 40)\n",
        "plt.xlabel('length of samples')\n",
        "plt.ylabel('number of samples')\n",
        "plt.show()\n",
        "\n",
        "plt.title('headlines')\n",
        "plt.hist(headlines_len, bins = 40)\n",
        "plt.xlabel('length of samples')\n",
        "plt.ylabel('number of samples')\n",
        "plt.show()"
      ]
    },
    {
      "cell_type": "code",
      "execution_count": null,
      "id": "8a7f3dcc",
      "metadata": {
        "id": "8a7f3dcc",
        "outputId": "f99a7b29-5753-4033-c923-3e0be848dd20"
      },
      "outputs": [
        {
          "name": "stdout",
          "output_type": "stream",
          "text": [
            "=3\n"
          ]
        }
      ],
      "source": [
        "text_max_len = 50\n",
        "headlines_max_len = 8\n",
        "print('=3')"
      ]
    },
    {
      "cell_type": "code",
      "execution_count": null,
      "id": "dc23ef5a",
      "metadata": {
        "id": "dc23ef5a",
        "outputId": "5ee2215b-1e13-43e6-bc2d-1d085dba39aa"
      },
      "outputs": [
        {
          "name": "stdout",
          "output_type": "stream",
          "text": [
            "=3\n"
          ]
        }
      ],
      "source": [
        "def below_threshold_len(max_len, nested_list):\n",
        "  cnt = 0\n",
        "  for s in nested_list:\n",
        "    if(len(s.split()) <= max_len):\n",
        "        cnt = cnt + 1\n",
        "  print('전체 샘플 중 길이가 %s 이하인 샘플의 비율: %s'%(max_len, (cnt / len(nested_list))))\n",
        "print('=3')"
      ]
    },
    {
      "cell_type": "code",
      "execution_count": null,
      "id": "33c72e83",
      "metadata": {
        "id": "33c72e83",
        "outputId": "b9bc8347-ebe2-49a1-b27a-80fecfc1e87f"
      },
      "outputs": [
        {
          "name": "stdout",
          "output_type": "stream",
          "text": [
            "전체 샘플 중 길이가 50 이하인 샘플의 비율: 0.9998576657177715\n",
            "전체 샘플 중 길이가 8 이하인 샘플의 비율: 0.2755693371289142\n"
          ]
        }
      ],
      "source": [
        "below_threshold_len(text_max_len, data['text'])\n",
        "below_threshold_len(headlines_max_len,  data['headlines'])"
      ]
    },
    {
      "cell_type": "code",
      "execution_count": null,
      "id": "19d61002",
      "metadata": {
        "id": "19d61002",
        "outputId": "e1f420a3-80d9-4dff-c90a-7cd14b036874"
      },
      "outputs": [
        {
          "name": "stdout",
          "output_type": "stream",
          "text": [
            "전체 샘플수 : 27105\n"
          ]
        }
      ],
      "source": [
        "data = data[data['text'].apply(lambda x: len(x.split()) <= text_max_len)]\n",
        "data = data[data['headlines'].apply(lambda x: len(x.split()) <= headlines_max_len)]\n",
        "print('전체 샘플수 :', (len(data)))"
      ]
    },
    {
      "cell_type": "code",
      "execution_count": null,
      "id": "91c9d746",
      "metadata": {
        "id": "91c9d746"
      },
      "outputs": [],
      "source": [
        "시작 토큰과 종료 토큰 추가하기"
      ]
    },
    {
      "cell_type": "code",
      "execution_count": null,
      "id": "3565701b",
      "metadata": {
        "id": "3565701b",
        "outputId": "f654554b-54ef-4b7d-e8d5-1f255533979f"
      },
      "outputs": [
        {
          "data": {
            "text/html": [
              "<div>\n",
              "<style scoped>\n",
              "    .dataframe tbody tr th:only-of-type {\n",
              "        vertical-align: middle;\n",
              "    }\n",
              "\n",
              "    .dataframe tbody tr th {\n",
              "        vertical-align: top;\n",
              "    }\n",
              "\n",
              "    .dataframe thead th {\n",
              "        text-align: right;\n",
              "    }\n",
              "</style>\n",
              "<table border=\"1\" class=\"dataframe\">\n",
              "  <thead>\n",
              "    <tr style=\"text-align: right;\">\n",
              "      <th></th>\n",
              "      <th>headlines</th>\n",
              "      <th>text</th>\n",
              "      <th>decoder_input</th>\n",
              "      <th>decoder_target</th>\n",
              "    </tr>\n",
              "  </thead>\n",
              "  <tbody>\n",
              "    <tr>\n",
              "      <th>19</th>\n",
              "      <td>odisha cm patnaik controls mining mafia union ...</td>\n",
              "      <td>union minister dharmendra pradhan wednesday cl...</td>\n",
              "      <td>sostoken odisha cm patnaik controls mining maf...</td>\n",
              "      <td>odisha cm patnaik controls mining mafia union ...</td>\n",
              "    </tr>\n",
              "    <tr>\n",
              "      <th>21</th>\n",
              "      <td>isro unveils bengaluru centre for manned space...</td>\n",
              "      <td>indian space research organisation wednesday u...</td>\n",
              "      <td>sostoken isro unveils bengaluru centre for man...</td>\n",
              "      <td>isro unveils bengaluru centre for manned space...</td>\n",
              "    </tr>\n",
              "    <tr>\n",
              "      <th>22</th>\n",
              "      <td>killed injured in saudi arabia floods</td>\n",
              "      <td>least people killed others injured saudi arabi...</td>\n",
              "      <td>sostoken killed injured in saudi arabia floods</td>\n",
              "      <td>killed injured in saudi arabia floods eostoken</td>\n",
              "    </tr>\n",
              "    <tr>\n",
              "      <th>29</th>\n",
              "      <td>seat cushions from missing plane carrying foot...</td>\n",
              "      <td>investigators searching lost plane carrying ar...</td>\n",
              "      <td>sostoken seat cushions from missing plane carr...</td>\n",
              "      <td>seat cushions from missing plane carrying foot...</td>\n",
              "    </tr>\n",
              "    <tr>\n",
              "      <th>36</th>\n",
              "      <td>agustawestland scam accused rajiv saxena extra...</td>\n",
              "      <td>agustawestland chopper scam co accused rajiv s...</td>\n",
              "      <td>sostoken agustawestland scam accused rajiv sax...</td>\n",
              "      <td>agustawestland scam accused rajiv saxena extra...</td>\n",
              "    </tr>\n",
              "  </tbody>\n",
              "</table>\n",
              "</div>"
            ],
            "text/plain": [
              "                                            headlines  \\\n",
              "19  odisha cm patnaik controls mining mafia union ...   \n",
              "21  isro unveils bengaluru centre for manned space...   \n",
              "22              killed injured in saudi arabia floods   \n",
              "29  seat cushions from missing plane carrying foot...   \n",
              "36  agustawestland scam accused rajiv saxena extra...   \n",
              "\n",
              "                                                 text  \\\n",
              "19  union minister dharmendra pradhan wednesday cl...   \n",
              "21  indian space research organisation wednesday u...   \n",
              "22  least people killed others injured saudi arabi...   \n",
              "29  investigators searching lost plane carrying ar...   \n",
              "36  agustawestland chopper scam co accused rajiv s...   \n",
              "\n",
              "                                        decoder_input  \\\n",
              "19  sostoken odisha cm patnaik controls mining maf...   \n",
              "21  sostoken isro unveils bengaluru centre for man...   \n",
              "22     sostoken killed injured in saudi arabia floods   \n",
              "29  sostoken seat cushions from missing plane carr...   \n",
              "36  sostoken agustawestland scam accused rajiv sax...   \n",
              "\n",
              "                                       decoder_target  \n",
              "19  odisha cm patnaik controls mining mafia union ...  \n",
              "21  isro unveils bengaluru centre for manned space...  \n",
              "22     killed injured in saudi arabia floods eostoken  \n",
              "29  seat cushions from missing plane carrying foot...  \n",
              "36  agustawestland scam accused rajiv saxena extra...  "
            ]
          },
          "execution_count": 48,
          "metadata": {},
          "output_type": "execute_result"
        }
      ],
      "source": [
        "# 요약 데이터에는 시작 토큰과 종료 토큰을 추가한다.\n",
        "data['decoder_input'] = data['headlines'].apply(lambda x : 'sostoken '+ x)\n",
        "data['decoder_target'] = data['headlines'].apply(lambda x : x + ' eostoken')\n",
        "data.head()"
      ]
    },
    {
      "cell_type": "code",
      "execution_count": null,
      "id": "030ea466",
      "metadata": {
        "id": "030ea466",
        "outputId": "def6c4f6-787f-42e5-a8c4-53f738b3ba04"
      },
      "outputs": [
        {
          "name": "stdout",
          "output_type": "stream",
          "text": [
            "=3\n"
          ]
        }
      ],
      "source": [
        "encoder_input = np.array(data['text']) # 인코더의 입력\n",
        "decoder_input = np.array(data['decoder_input']) # 디코더의 입력\n",
        "decoder_target = np.array(data['decoder_target']) # 디코더의 레이블\n",
        "print('=3')"
      ]
    },
    {
      "cell_type": "code",
      "execution_count": null,
      "id": "858cdc09",
      "metadata": {
        "id": "858cdc09",
        "outputId": "e87814f6-089a-4215-9e08-e2be4fca3d69"
      },
      "outputs": [
        {
          "name": "stdout",
          "output_type": "stream",
          "text": [
            "[10242 13281 10828 ... 25184 15387 11725]\n"
          ]
        }
      ],
      "source": [
        "indices = np.arange(encoder_input.shape[0])\n",
        "np.random.shuffle(indices)\n",
        "print(indices)"
      ]
    },
    {
      "cell_type": "code",
      "execution_count": null,
      "id": "669c7110",
      "metadata": {
        "id": "669c7110",
        "outputId": "54271240-6b4f-4bb4-e60b-aca07a1dfbe3"
      },
      "outputs": [
        {
          "name": "stdout",
          "output_type": "stream",
          "text": [
            "=3\n"
          ]
        }
      ],
      "source": [
        "encoder_input = encoder_input[indices]\n",
        "decoder_input = decoder_input[indices]\n",
        "decoder_target = decoder_target[indices]\n",
        "print('=3')"
      ]
    },
    {
      "cell_type": "code",
      "execution_count": null,
      "id": "acce958a",
      "metadata": {
        "id": "acce958a",
        "outputId": "a764175f-b690-43eb-b293-45ca26995ace"
      },
      "outputs": [
        {
          "name": "stdout",
          "output_type": "stream",
          "text": [
            "테스트 데이터의 수 : 5421\n"
          ]
        }
      ],
      "source": [
        "n_of_val = int(len(encoder_input)*0.2)\n",
        "print('테스트 데이터의 수 :', n_of_val)"
      ]
    },
    {
      "cell_type": "code",
      "execution_count": null,
      "id": "b334da8f",
      "metadata": {
        "id": "b334da8f",
        "outputId": "86de2d02-06c1-4860-9b2b-784336ef3ab4"
      },
      "outputs": [
        {
          "name": "stdout",
          "output_type": "stream",
          "text": [
            "훈련 데이터의 개수 : 21684\n",
            "훈련 레이블의 개수 : 21684\n",
            "테스트 데이터의 개수 : 5421\n",
            "테스트 레이블의 개수 : 5421\n"
          ]
        }
      ],
      "source": [
        "encoder_input_train = encoder_input[:-n_of_val]\n",
        "decoder_input_train = decoder_input[:-n_of_val]\n",
        "decoder_target_train = decoder_target[:-n_of_val]\n",
        "\n",
        "encoder_input_test = encoder_input[-n_of_val:]\n",
        "decoder_input_test = decoder_input[-n_of_val:]\n",
        "decoder_target_test = decoder_target[-n_of_val:]\n",
        "\n",
        "print('훈련 데이터의 개수 :', len(encoder_input_train))\n",
        "print('훈련 레이블의 개수 :', len(decoder_input_train))\n",
        "print('테스트 데이터의 개수 :', len(encoder_input_test))\n",
        "print('테스트 레이블의 개수 :', len(decoder_input_test))"
      ]
    },
    {
      "cell_type": "code",
      "execution_count": null,
      "id": "dee11a0c",
      "metadata": {
        "id": "dee11a0c"
      },
      "outputs": [],
      "source": [
        "데이터 전처리하기 (3) 정수 인코딩"
      ]
    },
    {
      "cell_type": "code",
      "execution_count": null,
      "id": "d56cf3e8",
      "metadata": {
        "id": "d56cf3e8"
      },
      "outputs": [],
      "source": [
        "단어 집합(vocabulary) 만들기 및 정수 인코딩"
      ]
    },
    {
      "cell_type": "code",
      "execution_count": null,
      "id": "0083dcea",
      "metadata": {
        "id": "0083dcea",
        "outputId": "3d416ce8-ec34-4084-ed03-221b0458cfdc"
      },
      "outputs": [
        {
          "name": "stdout",
          "output_type": "stream",
          "text": [
            "=3\n"
          ]
        }
      ],
      "source": [
        "src_tokenizer = Tokenizer() # 토크나이저 정의\n",
        "src_tokenizer.fit_on_texts(encoder_input_train) # 입력된 데이터로부터 단어 집합 생성\n",
        "print('=3')"
      ]
    },
    {
      "cell_type": "code",
      "execution_count": null,
      "id": "4997d71b",
      "metadata": {
        "id": "4997d71b",
        "outputId": "a4ba223f-423b-4c00-f757-66e3c9e752d5"
      },
      "outputs": [
        {
          "name": "stdout",
          "output_type": "stream",
          "text": [
            "단어 집합(vocabulary)의 크기 : 42526\n",
            "등장 빈도가 6번 이하인 희귀 단어의 수: 30782\n",
            "단어 집합에서 희귀 단어를 제외시킬 경우의 단어 집합의 크기 11744\n",
            "단어 집합에서 희귀 단어의 비율: 72.3839533461882\n",
            "전체 등장 빈도에서 희귀 단어 등장 빈도 비율: 8.273818838359464\n"
          ]
        }
      ],
      "source": [
        "threshold = 7\n",
        "total_cnt = len(src_tokenizer.word_index) # 단어의 수\n",
        "rare_cnt = 0 # 등장 빈도수가 threshold보다 작은 단어의 개수를 카운트\n",
        "total_freq = 0 # 훈련 데이터의 전체 단어 빈도수 총 합\n",
        "rare_freq = 0 # 등장 빈도수가 threshold보다 작은 단어의 등장 빈도수의 총 합\n",
        "\n",
        "# 단어와 빈도수의 쌍(pair)을 key와 value로 받는다.\n",
        "for key, value in src_tokenizer.word_counts.items():\n",
        "    total_freq = total_freq + value\n",
        "\n",
        "    # 단어의 등장 빈도수가 threshold보다 작으면\n",
        "    if(value < threshold):\n",
        "        rare_cnt = rare_cnt + 1\n",
        "        rare_freq = rare_freq + value\n",
        "\n",
        "print('단어 집합(vocabulary)의 크기 :', total_cnt)\n",
        "print('등장 빈도가 %s번 이하인 희귀 단어의 수: %s'%(threshold - 1, rare_cnt))\n",
        "print('단어 집합에서 희귀 단어를 제외시킬 경우의 단어 집합의 크기 %s'%(total_cnt - rare_cnt))\n",
        "print(\"단어 집합에서 희귀 단어의 비율:\", (rare_cnt / total_cnt)*100)\n",
        "print(\"전체 등장 빈도에서 희귀 단어 등장 빈도 비율:\", (rare_freq / total_freq)*100)"
      ]
    },
    {
      "cell_type": "code",
      "execution_count": null,
      "id": "04521792",
      "metadata": {
        "id": "04521792",
        "outputId": "3d214d91-c349-46ed-be19-0f632ce7f0af"
      },
      "outputs": [
        {
          "name": "stdout",
          "output_type": "stream",
          "text": [
            "=3\n"
          ]
        }
      ],
      "source": [
        "src_vocab = 8000\n",
        "src_tokenizer = Tokenizer(num_words=src_vocab) # 단어 집합의 크기를 8,000으로 제한\n",
        "src_tokenizer.fit_on_texts(encoder_input_train) # 단어 집합 재생성\n",
        "print('=3')"
      ]
    },
    {
      "cell_type": "code",
      "execution_count": null,
      "id": "cebb7539",
      "metadata": {
        "id": "cebb7539",
        "outputId": "a3fac932-e69d-48fa-9932-c8e1fa49ad36"
      },
      "outputs": [
        {
          "name": "stdout",
          "output_type": "stream",
          "text": [
            "[[2330, 17, 3845, 498, 1060, 687, 137, 106, 784, 316, 467, 106, 2330, 1452, 284, 3310, 317, 263, 1267, 1060, 1770, 68, 106, 784, 123, 97, 33, 146, 643, 316, 1526, 2330], [84, 1893, 2034, 1, 693, 234, 631, 3581, 6, 325, 1787, 3141, 3581, 1134, 7, 234, 2035, 7031, 257, 383, 1893, 1, 4164, 1134, 3581, 198, 3659], [3498, 149, 712, 4775, 1242, 55, 1, 4776, 10, 1036, 4922, 40, 8, 3660, 266, 1656, 3142, 759, 1771, 2524, 5224, 1077, 3191, 31, 221, 727, 1078, 98, 1]]\n"
          ]
        }
      ],
      "source": [
        "# 텍스트 시퀀스를 정수 시퀀스로 변환\n",
        "encoder_input_train = src_tokenizer.texts_to_sequences(encoder_input_train) \n",
        "encoder_input_test = src_tokenizer.texts_to_sequences(encoder_input_test)\n",
        "\n",
        "# 잘 진행되었는지 샘플 출력\n",
        "print(encoder_input_train[:3])"
      ]
    },
    {
      "cell_type": "code",
      "execution_count": null,
      "id": "0055cd29",
      "metadata": {
        "id": "0055cd29",
        "outputId": "df74791e-6301-4263-f8c3-be49907cc6b8"
      },
      "outputs": [
        {
          "name": "stdout",
          "output_type": "stream",
          "text": [
            "=3\n"
          ]
        }
      ],
      "source": [
        "tar_tokenizer = Tokenizer()\n",
        "tar_tokenizer.fit_on_texts(decoder_input_train)\n",
        "print('=3')"
      ]
    },
    {
      "cell_type": "code",
      "execution_count": null,
      "id": "df61d1e6",
      "metadata": {
        "id": "df61d1e6",
        "outputId": "7af46afe-95aa-4b04-cd54-9a0304281f16"
      },
      "outputs": [
        {
          "name": "stdout",
          "output_type": "stream",
          "text": [
            "단어 집합(vocabulary)의 크기 : 18937\n",
            "등장 빈도가 5번 이하인 희귀 단어의 수: 14306\n",
            "단어 집합에서 희귀 단어를 제외시킬 경우의 단어 집합의 크기 4631\n",
            "단어 집합에서 희귀 단어의 비율: 75.5452289169351\n",
            "전체 등장 빈도에서 희귀 단어 등장 빈도 비율: 14.169223836398363\n"
          ]
        }
      ],
      "source": [
        "threshold = 6\n",
        "total_cnt = len(tar_tokenizer.word_index) # 단어의 수\n",
        "rare_cnt = 0 # 등장 빈도수가 threshold보다 작은 단어의 개수를 카운트\n",
        "total_freq = 0 # 훈련 데이터의 전체 단어 빈도수 총 합\n",
        "rare_freq = 0 # 등장 빈도수가 threshold보다 작은 단어의 등장 빈도수의 총 합\n",
        "\n",
        "# 단어와 빈도수의 쌍(pair)을 key와 value로 받는다.\n",
        "for key, value in tar_tokenizer.word_counts.items():\n",
        "    total_freq = total_freq + value\n",
        "\n",
        "    # 단어의 등장 빈도수가 threshold보다 작으면\n",
        "    if(value < threshold):\n",
        "        rare_cnt = rare_cnt + 1\n",
        "        rare_freq = rare_freq + value\n",
        "\n",
        "print('단어 집합(vocabulary)의 크기 :', total_cnt)\n",
        "print('등장 빈도가 %s번 이하인 희귀 단어의 수: %s'%(threshold - 1, rare_cnt))\n",
        "print('단어 집합에서 희귀 단어를 제외시킬 경우의 단어 집합의 크기 %s'%(total_cnt - rare_cnt))\n",
        "print(\"단어 집합에서 희귀 단어의 비율:\", (rare_cnt / total_cnt)*100)\n",
        "print(\"전체 등장 빈도에서 희귀 단어 등장 빈도 비율:\", (rare_freq / total_freq)*100)"
      ]
    },
    {
      "cell_type": "code",
      "execution_count": null,
      "id": "2e491c64",
      "metadata": {
        "id": "2e491c64",
        "outputId": "2c3d3417-7f23-4b9e-9b0e-1a92415ea4ee"
      },
      "outputs": [
        {
          "name": "stdout",
          "output_type": "stream",
          "text": [
            "input\n",
            "input  [[1, 1332, 81, 424, 6, 3, 1333], [1, 1272, 909, 676], [1, 1917, 1463, 313, 557], [1, 361, 7, 352, 8, 1728, 34], [1, 181, 46, 1819, 819]]\n",
            "target\n",
            "decoder  [[1332, 81, 424, 6, 3, 1333, 2], [1272, 909, 676, 2], [1917, 1463, 313, 557, 2], [361, 7, 352, 8, 1728, 34, 2], [181, 46, 1819, 819, 2]]\n"
          ]
        }
      ],
      "source": [
        "tar_vocab = 2000\n",
        "tar_tokenizer = Tokenizer(num_words=tar_vocab) \n",
        "tar_tokenizer.fit_on_texts(decoder_input_train)\n",
        "tar_tokenizer.fit_on_texts(decoder_target_train)\n",
        "\n",
        "# 텍스트 시퀀스를 정수 시퀀스로 변환\n",
        "decoder_input_train = tar_tokenizer.texts_to_sequences(decoder_input_train) \n",
        "decoder_target_train = tar_tokenizer.texts_to_sequences(decoder_target_train)\n",
        "decoder_input_test = tar_tokenizer.texts_to_sequences(decoder_input_test)\n",
        "decoder_target_test = tar_tokenizer.texts_to_sequences(decoder_target_test)\n",
        "\n",
        "# 잘 변환되었는지 확인\n",
        "print('input')\n",
        "print('input ',decoder_input_train[:5])\n",
        "print('target')\n",
        "print('decoder ',decoder_target_train[:5])"
      ]
    },
    {
      "cell_type": "code",
      "execution_count": null,
      "id": "be8b3342",
      "metadata": {
        "id": "be8b3342",
        "outputId": "05cd8acc-d7e6-4f73-d885-4cef88b47f3b"
      },
      "outputs": [
        {
          "name": "stdout",
          "output_type": "stream",
          "text": [
            "삭제할 훈련 데이터의 개수 : 8\n",
            "삭제할 테스트 데이터의 개수 : 3\n",
            "훈련 데이터의 개수 : 21676\n",
            "훈련 레이블의 개수 : 21676\n",
            "테스트 데이터의 개수 : 5418\n",
            "테스트 레이블의 개수 : 5418\n"
          ]
        }
      ],
      "source": [
        "drop_train = [index for index, sentence in enumerate(decoder_input_train) if len(sentence) == 1]\n",
        "drop_test = [index for index, sentence in enumerate(decoder_input_test) if len(sentence) == 1]\n",
        "\n",
        "print('삭제할 훈련 데이터의 개수 :', len(drop_train))\n",
        "print('삭제할 테스트 데이터의 개수 :', len(drop_test))\n",
        "\n",
        "encoder_input_train = [sentence for index, sentence in enumerate(encoder_input_train) if index not in drop_train]\n",
        "decoder_input_train = [sentence for index, sentence in enumerate(decoder_input_train) if index not in drop_train]\n",
        "decoder_target_train = [sentence for index, sentence in enumerate(decoder_target_train) if index not in drop_train]\n",
        "\n",
        "encoder_input_test = [sentence for index, sentence in enumerate(encoder_input_test) if index not in drop_test]\n",
        "decoder_input_test = [sentence for index, sentence in enumerate(decoder_input_test) if index not in drop_test]\n",
        "decoder_target_test = [sentence for index, sentence in enumerate(decoder_target_test) if index not in drop_test]\n",
        "\n",
        "print('훈련 데이터의 개수 :', len(encoder_input_train))\n",
        "print('훈련 레이블의 개수 :', len(decoder_input_train))\n",
        "print('테스트 데이터의 개수 :', len(encoder_input_test))\n",
        "print('테스트 레이블의 개수 :', len(decoder_input_test))"
      ]
    },
    {
      "cell_type": "code",
      "execution_count": null,
      "id": "59f38841",
      "metadata": {
        "id": "59f38841"
      },
      "outputs": [],
      "source": [
        "패딩하기"
      ]
    },
    {
      "cell_type": "code",
      "execution_count": null,
      "id": "f1c736af",
      "metadata": {
        "id": "f1c736af",
        "outputId": "df8f3fb4-8d6b-41a1-8b58-4e4b84c7e59f"
      },
      "outputs": [
        {
          "name": "stdout",
          "output_type": "stream",
          "text": [
            "=3\n"
          ]
        }
      ],
      "source": [
        "encoder_input_train = pad_sequences(encoder_input_train, maxlen=text_max_len, padding='post')\n",
        "encoder_input_test = pad_sequences(encoder_input_test, maxlen=text_max_len, padding='post')\n",
        "decoder_input_train = pad_sequences(decoder_input_train, maxlen=headlines_max_len, padding='post')\n",
        "decoder_target_train = pad_sequences(decoder_target_train, maxlen=headlines_max_len, padding='post')\n",
        "decoder_input_test = pad_sequences(decoder_input_test, maxlen=headlines_max_len, padding='post')\n",
        "decoder_target_test = pad_sequences(decoder_target_test, maxlen=headlines_max_len, padding='post')\n",
        "print('=3')"
      ]
    },
    {
      "cell_type": "code",
      "execution_count": null,
      "id": "8e0f883d",
      "metadata": {
        "id": "8e0f883d"
      },
      "outputs": [],
      "source": [
        "Step 3. 어텐션 메커니즘 사용하기 (추상적 요약)"
      ]
    },
    {
      "cell_type": "code",
      "execution_count": null,
      "id": "1200eee2",
      "metadata": {
        "id": "1200eee2"
      },
      "outputs": [],
      "source": [
        "모델 설계하기"
      ]
    },
    {
      "cell_type": "code",
      "execution_count": null,
      "id": "77a14068",
      "metadata": {
        "id": "77a14068"
      },
      "outputs": [],
      "source": [
        "from tensorflow.keras.layers import Input, LSTM, Embedding, Dense, Concatenate, TimeDistributed\n",
        "from tensorflow.keras.models import Model\n",
        "from tensorflow.keras.callbacks import EarlyStopping, ModelCheckpoint\n",
        "\n",
        "\n",
        "# 인코더 설계 시작\n",
        "embedding_dim = 128\n",
        "hidden_size = 256\n",
        "\n",
        "# 인코더\n",
        "encoder_inputs = Input(shape=(text_max_len,))\n",
        "\n",
        "# 인코더의 임베딩 층\n",
        "enc_emb = Embedding(src_vocab, embedding_dim)(encoder_inputs)\n",
        "\n",
        "# 인코더의 LSTM 1\n",
        "# encoder_lstm1 = LSTM(hidden_size, return_sequences=True, return_state=True ,dropout = 0.4, recurrent_dropout = 0.4)\n",
        "encoder_lstm1 = LSTM(hidden_size, return_sequences=True, return_state=True ,dropout = 0.4)\n",
        "encoder_output1, state_h1, state_c1 = encoder_lstm1(enc_emb)\n",
        "\n",
        "# 인코더의 LSTM 2\n",
        "# encoder_lstm2 = LSTM(hidden_size, return_sequences=True, return_state=True, dropout=0.4, recurrent_dropout=0.4)\n",
        "encoder_lstm2 = LSTM(hidden_size, return_sequences=True, return_state=True, dropout=0.4)\n",
        "encoder_output2, state_h2, state_c2 = encoder_lstm2(encoder_output1)\n",
        "\n",
        "# 인코더의 LSTM 3\n",
        "# encoder_lstm3 = LSTM(hidden_size, return_state=True, return_sequences=True, dropout=0.4, recurrent_dropout=0.4)\n",
        "encoder_lstm3 = LSTM(hidden_size, return_state=True, return_sequences=True, dropout=0.4)\n",
        "encoder_outputs, state_h, state_c= encoder_lstm3(encoder_output2)"
      ]
    },
    {
      "cell_type": "code",
      "execution_count": null,
      "id": "20893e67",
      "metadata": {
        "id": "20893e67"
      },
      "outputs": [],
      "source": [
        "# 디코더 설계\n",
        "decoder_inputs = Input(shape=(None,))\n",
        "\n",
        "# 디코더의 임베딩 층\n",
        "dec_emb_layer = Embedding(tar_vocab, embedding_dim)\n",
        "dec_emb = dec_emb_layer(decoder_inputs)\n",
        "\n",
        "# 디코더의 LSTM\n",
        "# decoder_lstm = LSTM(hidden_size, return_sequences=True, return_state=True, dropout=0.4, recurrent_dropout=0.2)\n",
        "decoder_lstm = LSTM(hidden_size, return_sequences=True, return_state=True, dropout=0.4)\n",
        "decoder_outputs, _, _ = decoder_lstm(dec_emb, initial_state=[state_h, state_c])"
      ]
    },
    {
      "cell_type": "code",
      "execution_count": null,
      "id": "54942147",
      "metadata": {
        "id": "54942147",
        "outputId": "05dbcd87-cd5b-4eaa-86c8-9360d61378c3"
      },
      "outputs": [
        {
          "name": "stdout",
          "output_type": "stream",
          "text": [
            "Model: \"model\"\n",
            "__________________________________________________________________________________________________\n",
            "Layer (type)                    Output Shape         Param #     Connected to                     \n",
            "==================================================================================================\n",
            "input_1 (InputLayer)            [(None, 50)]         0                                            \n",
            "__________________________________________________________________________________________________\n",
            "embedding (Embedding)           (None, 50, 128)      1024000     input_1[0][0]                    \n",
            "__________________________________________________________________________________________________\n",
            "lstm (LSTM)                     [(None, 50, 256), (N 394240      embedding[0][0]                  \n",
            "__________________________________________________________________________________________________\n",
            "input_2 (InputLayer)            [(None, None)]       0                                            \n",
            "__________________________________________________________________________________________________\n",
            "lstm_1 (LSTM)                   [(None, 50, 256), (N 525312      lstm[0][0]                       \n",
            "__________________________________________________________________________________________________\n",
            "embedding_1 (Embedding)         (None, None, 128)    256000      input_2[0][0]                    \n",
            "__________________________________________________________________________________________________\n",
            "lstm_2 (LSTM)                   [(None, 50, 256), (N 525312      lstm_1[0][0]                     \n",
            "__________________________________________________________________________________________________\n",
            "lstm_3 (LSTM)                   [(None, None, 256),  394240      embedding_1[0][0]                \n",
            "                                                                 lstm_2[0][1]                     \n",
            "                                                                 lstm_2[0][2]                     \n",
            "__________________________________________________________________________________________________\n",
            "dense (Dense)                   (None, None, 2000)   514000      lstm_3[0][0]                     \n",
            "==================================================================================================\n",
            "Total params: 3,633,104\n",
            "Trainable params: 3,633,104\n",
            "Non-trainable params: 0\n",
            "__________________________________________________________________________________________________\n"
          ]
        }
      ],
      "source": [
        "# 디코더의 출력층\n",
        "decoder_softmax_layer = Dense(tar_vocab, activation='softmax')\n",
        "decoder_softmax_outputs = decoder_softmax_layer(decoder_outputs) \n",
        "\n",
        "# 모델 정의\n",
        "model = Model([encoder_inputs, decoder_inputs], decoder_softmax_outputs)\n",
        "model.summary()"
      ]
    },
    {
      "cell_type": "code",
      "execution_count": null,
      "id": "fc5adc89",
      "metadata": {
        "id": "fc5adc89",
        "outputId": "41997d51-f06f-4579-a0b7-72b7648f5faa"
      },
      "outputs": [
        {
          "name": "stdout",
          "output_type": "stream",
          "text": [
            "Model: \"model_1\"\n",
            "__________________________________________________________________________________________________\n",
            "Layer (type)                    Output Shape         Param #     Connected to                     \n",
            "==================================================================================================\n",
            "input_1 (InputLayer)            [(None, 50)]         0                                            \n",
            "__________________________________________________________________________________________________\n",
            "embedding (Embedding)           (None, 50, 128)      1024000     input_1[0][0]                    \n",
            "__________________________________________________________________________________________________\n",
            "lstm (LSTM)                     [(None, 50, 256), (N 394240      embedding[0][0]                  \n",
            "__________________________________________________________________________________________________\n",
            "input_2 (InputLayer)            [(None, None)]       0                                            \n",
            "__________________________________________________________________________________________________\n",
            "lstm_1 (LSTM)                   [(None, 50, 256), (N 525312      lstm[0][0]                       \n",
            "__________________________________________________________________________________________________\n",
            "embedding_1 (Embedding)         (None, None, 128)    256000      input_2[0][0]                    \n",
            "__________________________________________________________________________________________________\n",
            "lstm_2 (LSTM)                   [(None, 50, 256), (N 525312      lstm_1[0][0]                     \n",
            "__________________________________________________________________________________________________\n",
            "lstm_3 (LSTM)                   [(None, None, 256),  394240      embedding_1[0][0]                \n",
            "                                                                 lstm_2[0][1]                     \n",
            "                                                                 lstm_2[0][2]                     \n",
            "__________________________________________________________________________________________________\n",
            "attention_layer (AdditiveAttent (None, None, 256)    256         lstm_3[0][0]                     \n",
            "                                                                 lstm_2[0][0]                     \n",
            "__________________________________________________________________________________________________\n",
            "concat_layer (Concatenate)      (None, None, 512)    0           lstm_3[0][0]                     \n",
            "                                                                 attention_layer[0][0]            \n",
            "__________________________________________________________________________________________________\n",
            "dense_1 (Dense)                 (None, None, 2000)   1026000     concat_layer[0][0]               \n",
            "==================================================================================================\n",
            "Total params: 4,145,360\n",
            "Trainable params: 4,145,360\n",
            "Non-trainable params: 0\n",
            "__________________________________________________________________________________________________\n"
          ]
        }
      ],
      "source": [
        "from tensorflow.keras.layers import AdditiveAttention\n",
        "\n",
        "# 어텐션 층(어텐션 함수)\n",
        "attn_layer = AdditiveAttention(name='attention_layer')\n",
        "\n",
        "# 인코더와 디코더의 모든 time step의 hidden state를 어텐션 층에 전달하고 결과를 리턴\n",
        "attn_out = attn_layer([decoder_outputs, encoder_outputs])\n",
        "\n",
        "\n",
        "# 어텐션의 결과와 디코더의 hidden state들을 연결\n",
        "decoder_concat_input = Concatenate(axis=-1, name='concat_layer')([decoder_outputs, attn_out])\n",
        "\n",
        "# 디코더의 출력층\n",
        "decoder_softmax_layer = Dense(tar_vocab, activation='softmax')\n",
        "decoder_softmax_outputs = decoder_softmax_layer(decoder_concat_input)\n",
        "\n",
        "# 모델 정의\n",
        "model = Model([encoder_inputs, decoder_inputs], decoder_softmax_outputs)\n",
        "model.summary()"
      ]
    },
    {
      "cell_type": "code",
      "execution_count": null,
      "id": "ea419629",
      "metadata": {
        "id": "ea419629"
      },
      "outputs": [],
      "source": [
        "모델 훈련하기"
      ]
    },
    {
      "cell_type": "code",
      "execution_count": null,
      "id": "08fe1661",
      "metadata": {
        "id": "08fe1661",
        "outputId": "24b0c499-c94f-41b5-eb6a-cbace5226739"
      },
      "outputs": [
        {
          "name": "stdout",
          "output_type": "stream",
          "text": [
            "Epoch 1/50\n",
            "85/85 [==============================] - 29s 90ms/step - loss: 4.9274 - val_loss: 4.5487\n",
            "Epoch 2/50\n",
            "85/85 [==============================] - 6s 66ms/step - loss: 4.5256 - val_loss: 4.3463\n",
            "Epoch 3/50\n",
            "85/85 [==============================] - 6s 66ms/step - loss: 4.3540 - val_loss: 4.1980\n",
            "Epoch 4/50\n",
            "85/85 [==============================] - 6s 66ms/step - loss: 4.1905 - val_loss: 4.0796\n",
            "Epoch 5/50\n",
            "85/85 [==============================] - 6s 66ms/step - loss: 4.0393 - val_loss: 3.9412\n",
            "Epoch 6/50\n",
            "85/85 [==============================] - 6s 66ms/step - loss: 3.9022 - val_loss: 3.8585\n",
            "Epoch 7/50\n",
            "85/85 [==============================] - 6s 67ms/step - loss: 3.7644 - val_loss: 3.7367\n",
            "Epoch 8/50\n",
            "85/85 [==============================] - 6s 67ms/step - loss: 3.6344 - val_loss: 3.6560\n",
            "Epoch 9/50\n",
            "85/85 [==============================] - 6s 67ms/step - loss: 3.5199 - val_loss: 3.5818\n",
            "Epoch 10/50\n",
            "85/85 [==============================] - 6s 67ms/step - loss: 3.4126 - val_loss: 3.5271\n",
            "Epoch 11/50\n",
            "85/85 [==============================] - 6s 68ms/step - loss: 3.3173 - val_loss: 3.4796\n",
            "Epoch 12/50\n",
            "85/85 [==============================] - 6s 68ms/step - loss: 3.2269 - val_loss: 3.4376\n",
            "Epoch 13/50\n",
            "85/85 [==============================] - 6s 68ms/step - loss: 3.1435 - val_loss: 3.4209\n",
            "Epoch 14/50\n",
            "85/85 [==============================] - 6s 68ms/step - loss: 3.0654 - val_loss: 3.3852\n",
            "Epoch 15/50\n",
            "85/85 [==============================] - 6s 68ms/step - loss: 2.9925 - val_loss: 3.3691\n",
            "Epoch 16/50\n",
            "85/85 [==============================] - 6s 69ms/step - loss: 2.9232 - val_loss: 3.3492\n",
            "Epoch 17/50\n",
            "85/85 [==============================] - 6s 69ms/step - loss: 2.8579 - val_loss: 3.3448\n",
            "Epoch 18/50\n",
            "85/85 [==============================] - 6s 69ms/step - loss: 2.7931 - val_loss: 3.3347\n",
            "Epoch 19/50\n",
            "85/85 [==============================] - 6s 69ms/step - loss: 2.7323 - val_loss: 3.3269\n",
            "Epoch 20/50\n",
            "85/85 [==============================] - 6s 69ms/step - loss: 2.6710 - val_loss: 3.3188\n",
            "Epoch 21/50\n",
            "85/85 [==============================] - 6s 69ms/step - loss: 2.6147 - val_loss: 3.3177\n",
            "Epoch 22/50\n",
            "85/85 [==============================] - 6s 69ms/step - loss: 2.5585 - val_loss: 3.3174\n",
            "Epoch 23/50\n",
            "85/85 [==============================] - 6s 69ms/step - loss: 2.5032 - val_loss: 3.3224\n",
            "Epoch 24/50\n",
            "85/85 [==============================] - 6s 69ms/step - loss: 2.4502 - val_loss: 3.3145\n",
            "Epoch 25/50\n",
            "85/85 [==============================] - 6s 68ms/step - loss: 2.3977 - val_loss: 3.3246\n",
            "Epoch 26/50\n",
            "85/85 [==============================] - 6s 68ms/step - loss: 2.3456 - val_loss: 3.3282\n",
            "Epoch 00026: early stopping\n"
          ]
        }
      ],
      "source": [
        "model.compile(optimizer='rmsprop', loss='sparse_categorical_crossentropy')\n",
        "es = EarlyStopping(monitor='val_loss', patience=2, verbose=1)\n",
        "history = model.fit(x=[encoder_input_train, decoder_input_train], y=decoder_target_train, \\\n",
        "          validation_data=([encoder_input_test, decoder_input_test], decoder_target_test), \\\n",
        "          batch_size=256, callbacks=[es], epochs=50)"
      ]
    },
    {
      "cell_type": "code",
      "execution_count": null,
      "id": "e701c733",
      "metadata": {
        "id": "e701c733",
        "outputId": "baee8762-f116-4aa0-af5d-dfff5655de69"
      },
      "outputs": [
        {
          "data": {
            "image/png": "[encoded data removed]",
            "text/plain": [
              "<Figure size 432x288 with 1 Axes>"
            ]
          },
          "metadata": {
            "needs_background": "light"
          },
          "output_type": "display_data"
        }
      ],
      "source": [
        "plt.plot(history.history['loss'], label='train')\n",
        "plt.plot(history.history['val_loss'], label='test')\n",
        "plt.legend()\n",
        "plt.show()"
      ]
    },
    {
      "cell_type": "code",
      "execution_count": null,
      "id": "2d1b5579",
      "metadata": {
        "id": "2d1b5579"
      },
      "outputs": [],
      "source": [
        "인퍼런스 모델 구현하기"
      ]
    },
    {
      "cell_type": "code",
      "execution_count": null,
      "id": "816d8037",
      "metadata": {
        "id": "816d8037",
        "outputId": "6033a165-4a60-4dfe-8e8a-02adaf4a121b"
      },
      "outputs": [
        {
          "name": "stdout",
          "output_type": "stream",
          "text": [
            "=3\n"
          ]
        }
      ],
      "source": [
        "src_index_to_word = src_tokenizer.index_word # 원문 단어 집합에서 정수 -> 단어를 얻음\n",
        "tar_word_to_index = tar_tokenizer.word_index # 요약 단어 집합에서 단어 -> 정수를 얻음\n",
        "tar_index_to_word = tar_tokenizer.index_word # 요약 단어 집합에서 정수 -> 단어를 얻음\n",
        "\n",
        "print('=3')"
      ]
    },
    {
      "cell_type": "code",
      "execution_count": null,
      "id": "81ad0e6d",
      "metadata": {
        "id": "81ad0e6d",
        "outputId": "a3ec4f8e-7a4c-427d-ee34-aaaef5586317"
      },
      "outputs": [
        {
          "name": "stdout",
          "output_type": "stream",
          "text": [
            "=3\n"
          ]
        }
      ],
      "source": [
        "# 인코더 설계\n",
        "encoder_model = Model(inputs=encoder_inputs, outputs=[encoder_outputs, state_h, state_c])\n",
        "\n",
        "# 이전 시점의 상태들을 저장하는 텐서\n",
        "decoder_state_input_h = Input(shape=(hidden_size,))\n",
        "decoder_state_input_c = Input(shape=(hidden_size,))\n",
        "\n",
        "dec_emb2 = dec_emb_layer(decoder_inputs)\n",
        "\n",
        "# 문장의 다음 단어를 예측하기 위해서 초기 상태(initial_state)를 이전 시점의 상태로 사용. 이는 뒤의 함수 decode_sequence()에 구현\n",
        "# 훈련 과정에서와 달리 LSTM의 리턴하는 은닉 상태와 셀 상태인 state_h와 state_c를 버리지 않음.\n",
        "decoder_outputs2, state_h2, state_c2 = decoder_lstm(dec_emb2, initial_state=[decoder_state_input_h, decoder_state_input_c])\n",
        "\n",
        "print('=3')"
      ]
    },
    {
      "cell_type": "code",
      "execution_count": null,
      "id": "ae536372",
      "metadata": {
        "id": "ae536372",
        "outputId": "8d41a85d-2c70-44aa-b7ee-92b811f7a864"
      },
      "outputs": [
        {
          "name": "stdout",
          "output_type": "stream",
          "text": [
            "=3\n"
          ]
        }
      ],
      "source": [
        "# 어텐션 함수\n",
        "decoder_hidden_state_input = Input(shape=(text_max_len, hidden_size))\n",
        "attn_out_inf = attn_layer([decoder_outputs2, decoder_hidden_state_input])\n",
        "decoder_inf_concat = Concatenate(axis=-1, name='concat')([decoder_outputs2, attn_out_inf])\n",
        "\n",
        "# 디코더의 출력층\n",
        "decoder_outputs2 = decoder_softmax_layer(decoder_inf_concat) \n",
        "\n",
        "# 최종 디코더 모델\n",
        "decoder_model = Model(\n",
        "    [decoder_inputs] + [decoder_hidden_state_input,decoder_state_input_h, decoder_state_input_c],\n",
        "    [decoder_outputs2] + [state_h2, state_c2])\n",
        "\n",
        "print('=3')"
      ]
    },
    {
      "cell_type": "code",
      "execution_count": null,
      "id": "4d464798",
      "metadata": {
        "id": "4d464798",
        "outputId": "e7343f0f-29ef-494e-925a-c6211245cd07"
      },
      "outputs": [
        {
          "name": "stdout",
          "output_type": "stream",
          "text": [
            "=3\n"
          ]
        }
      ],
      "source": [
        "def decode_sequence(input_seq):\n",
        "    # 입력으로부터 인코더의 상태를 얻음\n",
        "    e_out, e_h, e_c = encoder_model.predict(input_seq)\n",
        "\n",
        "     # <SOS>에 해당하는 토큰 생성\n",
        "    target_seq = np.zeros((1,1))\n",
        "    target_seq[0, 0] = tar_word_to_index['sostoken']\n",
        "\n",
        "    stop_condition = False\n",
        "    decoded_sentence = ''\n",
        "    while not stop_condition: # stop_condition이 True가 될 때까지 루프 반복\n",
        "\n",
        "        output_tokens, h, c = decoder_model.predict([target_seq] + [e_out, e_h, e_c])\n",
        "        sampled_token_index = np.argmax(output_tokens[0, -1, :])\n",
        "        sampled_token = tar_index_to_word[sampled_token_index]\n",
        "\n",
        "        if (sampled_token!='eostoken'):\n",
        "            decoded_sentence += ' '+sampled_token\n",
        "\n",
        "        #  <eos>에 도달하거나 최대 길이를 넘으면 중단.\n",
        "        if (sampled_token == 'eostoken'  or len(decoded_sentence.split()) >= (summary_max_len-1)):\n",
        "            stop_condition = True\n",
        "\n",
        "        # 길이가 1인 타겟 시퀀스를 업데이트\n",
        "        target_seq = np.zeros((1,1))\n",
        "        target_seq[0, 0] = sampled_token_index\n",
        "\n",
        "        # 상태를 업데이트 합니다.\n",
        "        e_h, e_c = h, c\n",
        "\n",
        "    return decoded_sentence\n",
        "print('=3')"
      ]
    },
    {
      "cell_type": "code",
      "execution_count": null,
      "id": "a38b0904",
      "metadata": {
        "id": "a38b0904"
      },
      "outputs": [],
      "source": [
        "모델 테스트하기"
      ]
    },
    {
      "cell_type": "code",
      "execution_count": null,
      "id": "13831e0d",
      "metadata": {
        "id": "13831e0d",
        "outputId": "b570adb8-1377-4631-8889-849cc662e7bb"
      },
      "outputs": [
        {
          "name": "stdout",
          "output_type": "stream",
          "text": [
            "=3\n"
          ]
        }
      ],
      "source": [
        "# 원문의 정수 시퀀스를 텍스트 시퀀스로 변환\n",
        "def seq2text(input_seq):\n",
        "    temp=''\n",
        "    for i in input_seq:\n",
        "        if (i!=0):\n",
        "            temp = temp + src_index_to_word[i]+' '\n",
        "    return temp\n",
        "\n",
        "# 요약문의 정수 시퀀스를 텍스트 시퀀스로 변환\n",
        "def seq2summary(input_seq):\n",
        "    temp=''\n",
        "    for i in input_seq:\n",
        "        if ((i!=0 and i!=tar_word_to_index['sostoken']) and i!=tar_word_to_index['eostoken']):\n",
        "            temp = temp + tar_index_to_word[i] + ' '\n",
        "    return temp\n",
        "\n",
        "print('=3')"
      ]
    },
    {
      "cell_type": "code",
      "execution_count": null,
      "id": "3b4b078d",
      "metadata": {
        "id": "3b4b078d",
        "outputId": "fe41ed65-209b-4920-84f8-43bc77f3e788"
      },
      "outputs": [
        {
          "name": "stdout",
          "output_type": "stream",
          "text": [
            "원문 : around pro islamic state militants took students hostage school philippines island wednesday morning police said military claimed hostage situation resolved reports casualties philippines state emergency fight government troops islamist militants entered fifth week island \n",
            "실제 요약 : isis militants take students in philippines \n"
          ]
        },
        {
          "ename": "NameError",
          "evalue": "name 'summary_max_len' is not defined",
          "output_type": "error",
          "traceback": [
            "\u001b[0;31m---------------------------------------------------------------------------\u001b[0m",
            "\u001b[0;31mNameError\u001b[0m                                 Traceback (most recent call last)",
            "\u001b[0;32m/tmp/ipykernel_81/2384696985.py\u001b[0m in \u001b[0;36m<module>\u001b[0;34m\u001b[0m\n\u001b[1;32m      2\u001b[0m     \u001b[0mprint\u001b[0m\u001b[0;34m(\u001b[0m\u001b[0;34m\"원문 :\"\u001b[0m\u001b[0;34m,\u001b[0m \u001b[0mseq2text\u001b[0m\u001b[0;34m(\u001b[0m\u001b[0mencoder_input_test\u001b[0m\u001b[0;34m[\u001b[0m\u001b[0mi\u001b[0m\u001b[0;34m]\u001b[0m\u001b[0;34m)\u001b[0m\u001b[0;34m)\u001b[0m\u001b[0;34m\u001b[0m\u001b[0;34m\u001b[0m\u001b[0m\n\u001b[1;32m      3\u001b[0m     \u001b[0mprint\u001b[0m\u001b[0;34m(\u001b[0m\u001b[0;34m\"실제 요약 :\"\u001b[0m\u001b[0;34m,\u001b[0m \u001b[0mseq2summary\u001b[0m\u001b[0;34m(\u001b[0m\u001b[0mdecoder_input_test\u001b[0m\u001b[0;34m[\u001b[0m\u001b[0mi\u001b[0m\u001b[0;34m]\u001b[0m\u001b[0;34m)\u001b[0m\u001b[0;34m)\u001b[0m\u001b[0;34m\u001b[0m\u001b[0;34m\u001b[0m\u001b[0m\n\u001b[0;32m----> 4\u001b[0;31m     \u001b[0mprint\u001b[0m\u001b[0;34m(\u001b[0m\u001b[0;34m\"예측 요약 :\"\u001b[0m\u001b[0;34m,\u001b[0m \u001b[0mdecode_sequence\u001b[0m\u001b[0;34m(\u001b[0m\u001b[0mencoder_input_test\u001b[0m\u001b[0;34m[\u001b[0m\u001b[0mi\u001b[0m\u001b[0;34m]\u001b[0m\u001b[0;34m.\u001b[0m\u001b[0mreshape\u001b[0m\u001b[0;34m(\u001b[0m\u001b[0;36m1\u001b[0m\u001b[0;34m,\u001b[0m \u001b[0mtext_max_len\u001b[0m\u001b[0;34m)\u001b[0m\u001b[0;34m)\u001b[0m\u001b[0;34m)\u001b[0m\u001b[0;34m\u001b[0m\u001b[0;34m\u001b[0m\u001b[0m\n\u001b[0m\u001b[1;32m      5\u001b[0m     \u001b[0mprint\u001b[0m\u001b[0;34m(\u001b[0m\u001b[0;34m\"\\n\"\u001b[0m\u001b[0;34m)\u001b[0m\u001b[0;34m\u001b[0m\u001b[0;34m\u001b[0m\u001b[0m\n",
            "\u001b[0;32m/tmp/ipykernel_81/1739736152.py\u001b[0m in \u001b[0;36mdecode_sequence\u001b[0;34m(input_seq)\u001b[0m\n\u001b[1;32m     19\u001b[0m \u001b[0;34m\u001b[0m\u001b[0m\n\u001b[1;32m     20\u001b[0m         \u001b[0;31m#  <eos>에 도달하거나 최대 길이를 넘으면 중단.\u001b[0m\u001b[0;34m\u001b[0m\u001b[0;34m\u001b[0m\u001b[0m\n\u001b[0;32m---> 21\u001b[0;31m         \u001b[0;32mif\u001b[0m \u001b[0;34m(\u001b[0m\u001b[0msampled_token\u001b[0m \u001b[0;34m==\u001b[0m \u001b[0;34m'eostoken'\u001b[0m  \u001b[0;32mor\u001b[0m \u001b[0mlen\u001b[0m\u001b[0;34m(\u001b[0m\u001b[0mdecoded_sentence\u001b[0m\u001b[0;34m.\u001b[0m\u001b[0msplit\u001b[0m\u001b[0;34m(\u001b[0m\u001b[0;34m)\u001b[0m\u001b[0;34m)\u001b[0m \u001b[0;34m>=\u001b[0m \u001b[0;34m(\u001b[0m\u001b[0msummary_max_len\u001b[0m\u001b[0;34m-\u001b[0m\u001b[0;36m1\u001b[0m\u001b[0;34m)\u001b[0m\u001b[0;34m)\u001b[0m\u001b[0;34m:\u001b[0m\u001b[0;34m\u001b[0m\u001b[0;34m\u001b[0m\u001b[0m\n\u001b[0m\u001b[1;32m     22\u001b[0m             \u001b[0mstop_condition\u001b[0m \u001b[0;34m=\u001b[0m \u001b[0;32mTrue\u001b[0m\u001b[0;34m\u001b[0m\u001b[0;34m\u001b[0m\u001b[0m\n\u001b[1;32m     23\u001b[0m \u001b[0;34m\u001b[0m\u001b[0m\n",
            "\u001b[0;31mNameError\u001b[0m: name 'summary_max_len' is not defined"
          ]
        }
      ],
      "source": [
        "for i in range(50, 100):\n",
        "    print(\"원문 :\", seq2text(encoder_input_test[i]))\n",
        "    print(\"실제 요약 :\", seq2summary(decoder_input_test[i]))\n",
        "    print(\"예측 요약 :\", decode_sequence(encoder_input_test[i].reshape(1, text_max_len)))\n",
        "    print(\"\\n\")"
      ]
    },
    {
      "cell_type": "code",
      "execution_count": null,
      "id": "e664fc38",
      "metadata": {
        "id": "e664fc38"
      },
      "outputs": [],
      "source": [
        "추출적 요약 해보기"
      ]
    },
    {
      "cell_type": "code",
      "execution_count": null,
      "id": "001b72dc",
      "metadata": {
        "id": "001b72dc"
      },
      "outputs": [],
      "source": [
        "urllib.request.urlretrieve(\"https://raw.githubusercontent.com/sunnysai12345/News_Summary/master/news_summary_more.csv\", filename=\"news_summary_more.csv\")\n",
        "data = pd.read_csv('news_summary_more.csv', encoding='iso-8859-1')"
      ]
    },
    {
      "cell_type": "code",
      "execution_count": null,
      "id": "43abb1e6",
      "metadata": {
        "id": "43abb1e6",
        "outputId": "c119ad9a-fb9a-4129-c1f8-9ba2fe1e202f"
      },
      "outputs": [
        {
          "name": "stdout",
          "output_type": "stream",
          "text": [
            "원문 : Saurav Kant, an alumnus of upGrad and IIIT-B's PG Program in Machine learning and Artificial Intelligence, was a Sr Systems Engineer at Infosys with almost 5 years of work experience. The program and upGrad's 360-degree career support helped him transition to a Data Scientist at Tech Mahindra with 90% salary hike. upGrad's Online Power Learning has powered 3 lakh+ careers.\n",
            "실제 요약 : upGrad learner switches to career in ML & Al with 90% salary hike\n",
            "예측 요약 : upGrad's Online Power Learning has powered 3 lakh+ careers.\n",
            "\n",
            "\n",
            "원문 : Kunal Shah's credit card bill payment platform, CRED, gave users a chance to win free food from Swiggy for one year. Pranav Kaushik, a Delhi techie, bagged this reward after spending 2000 CRED coins. Users get one CRED coin per rupee of bill paid, which can be used to avail rewards from brands like Ixigo, BookMyShow, UberEats, Cult.Fit and more.\n",
            "실제 요약 : Delhi techie wins free food from Swiggy for one year on CRED\n",
            "예측 요약 : Users get one CRED coin per rupee of bill paid, which can be used to avail rewards from brands like Ixigo, BookMyShow, UberEats, Cult.Fit and more.\n",
            "\n",
            "\n",
            "원문 : New Zealand defeated India by 8 wickets in the fourth ODI at Hamilton on Thursday to win their first match of the five-match ODI series. India lost an international match under Rohit Sharma's captaincy after 12 consecutive victories dating back to March 2018. The match witnessed India getting all out for 92, their seventh lowest total in ODI cricket history.\n",
            "실제 요약 : New Zealand end Rohit Sharma-led India's 12-match winning streak\n",
            "예측 요약 : The match witnessed India getting all out for 92, their seventh lowest total in ODI cricket history.\n",
            "\n",
            "\n",
            "원문 : With Aegon Life iTerm Insurance plan, customers can enjoy tax benefits on your premiums paid and save up to Ã¢ÂÂ¹46,800^ on taxes. The plan provides life cover up to the age of 100 years. Also, customers have options to insure against Critical Illnesses, Disability and Accidental Death Benefit Rider with a life cover up to the age of 80 years.\n",
            "실제 요약 : Aegon life iTerm insurance plan helps customers save tax\n",
            "예측 요약 : Also, customers have options to insure against Critical Illnesses, Disability and Accidental Death Benefit Rider with a life cover up to the age of 80 years.\n",
            "\n",
            "\n",
            "원문 : Speaking about the sexual harassment allegations against Rajkumar Hirani, Sonam Kapoor said, \"I've known Hirani for many years...What if it's not true, the [#MeToo] movement will get derailed.\" \"In the #MeToo movement, I always believe a woman. But in this case, we need to reserve our judgment,\" she added. Hirani has been accused by an assistant who worked in 'Sanju'.\n",
            "실제 요약 : Have known Hirani for yrs, what if MeToo claims are not true: Sonam\n",
            "예측 요약 : Speaking about the sexual harassment allegations against Rajkumar Hirani, Sonam Kapoor said, \"I've known Hirani for many years...What if it's not true, the [#MeToo] movement will get derailed.\" \"In the #MeToo movement, I always believe a woman.\n",
            "\n",
            "\n",
            "원문 : Pakistani singer Rahat Fateh Ali Khan has denied receiving any notice from the Enforcement Directorate over allegedly smuggling foreign currency out of India. \"It would have been better if the authorities would have served the notice first if any and then publicised this,\" reads a press release issued on behalf of Rahat. The statement further called the allegation \"bizarre\".\n",
            "실제 요약 : Rahat Fateh Ali Khan denies getting notice for smuggling currency\n",
            "예측 요약 : Pakistani singer Rahat Fateh Ali Khan has denied receiving any notice from the Enforcement Directorate over allegedly smuggling foreign currency out of India.\n",
            "\n",
            "\n",
            "원문 : India recorded their lowest ODI total in New Zealand after getting all out for 92 runs in 30.5 overs in the fourth ODI at Hamilton on Thursday. Seven of India's batsmen were dismissed for single-digit scores, while their number ten batsman Yuzvendra Chahal top-scored with 18*(37). India's previous lowest ODI total in New Zealand was 108.\n",
            "실제 요약 : India get all out for 92, their lowest ODI total in New Zealand\n",
            "예측 요약 : India's previous lowest ODI total in New Zealand was 108.\n",
            "\n",
            "\n",
            "원문 : Weeks after ex-CBI Director Alok Verma told the Department of Personnel and Training to consider him retired, the Home Ministry asked him to join work on the last day of his fixed tenure as Director on Thursday. The ministry directed him to immediately join as DG, Fire Services, the post he was transferred to after his removal as CBI chief.\n",
            "실제 요약 : Govt directs Alok Verma to join work 1 day before his retirement\n",
            "예측 요약 : \n",
            "\n",
            "\n",
            "원문 : Andhra Pradesh CM N Chandrababu Naidu has said, \"When I met then US President Bill Clinton, I addressed him as Mr Clinton, not as 'sir'. (PM Narendra) Modi is my junior in politics...I addressed him as sir 10 times.\" \"I did this...to satisfy his ego in the hope that he will do justice to the state,\" he added.\n",
            "실제 요약 : Called PM Modi 'sir' 10 times to satisfy his ego: Andhra CM\n",
            "예측 요약 : \n",
            "\n",
            "\n",
            "원문 : Congress candidate Shafia Zubair won the Ramgarh Assembly seat in Rajasthan, by defeating BJP's Sukhwant Singh with a margin of 12,228 votes in the bypoll. With this victory, Congress has taken its total to 100 seats in the 200-member assembly. The election to the Ramgarh seat was delayed due to the death of sitting MLA and BSP candidate Laxman Singh.\n",
            "실제 요약 : Cong wins Ramgarh bypoll in Rajasthan, takes total to 100 seats\n",
            "예측 요약 : Congress candidate Shafia Zubair won the Ramgarh Assembly seat in Rajasthan, by defeating BJP's Sukhwant Singh with a margin of 12,228 votes in the bypoll.\n",
            "\n",
            "\n",
            "원문 : Two minor cousins in Uttar Pradesh's Gorakhpur were allegedly repeatedly burnt with tongs and forced to eat human excreta by their family for being friends with two boys from the same school. The cousins revealed their ordeal to the police and Child Welfare Committee after being brought back to Gorakhpur from Nepal, where they had fled to escape the torture.\n",
            "실제 요약 : UP cousins fed human excreta for friendship with boys\n",
            "예측 요약 : \n",
            "\n",
            "\n",
            "원문 : Isha Ghosh, an 81-year-old member of Bharat Scouts and Guides (BSG), has been imparting physical and mental training to schoolchildren in Jharkhand for several decades. Chaibasa-based Ghosh reportedly walks seven kilometres daily and spends eight hours conducting physical training, apart from climbing and yoga sessions. She says, \"One should do something for society till one's last breath.\"\n",
            "실제 요약 : 81-yr-old woman conducts physical training in J'khand schools\n",
            "예측 요약 : Isha Ghosh, an 81-year-old member of Bharat Scouts and Guides (BSG), has been imparting physical and mental training to schoolchildren in Jharkhand for several decades.\n",
            "\n",
            "\n",
            "원문 : Urging saints and seers at the Kumbh Mela to quit smoking, Yoga guru Ramdev said, \"We follow Ram and Krishna who never smoked in their life then why should we?\" Making them take a pledge to quit tobacco, he collected chillum (clay pipe) from several sadhus. He said he will deposit the chillums for display at a museum he'll build.\n",
            "실제 요약 : Ram, Krishna didn't smoke, why should we: Ramdev to sadhus at Kumbh\n",
            "예측 요약 : \n",
            "\n",
            "\n",
            "원문 : Former stripper and regional sales director of a pharmaceutical company, Sunrise Lee, gave a doctor a lap dance in a nightclub to persuade him to prescribe an addictive fentanyl spray in 2012, the company's sales representative told a US court. She said she saw Lee \"sitting on [doctor's] lap, kind of bouncing around.\" Lee has been accused of bribing doctors.\n",
            "실제 요약 : Pharma exec gave doctor a lap dance to sell medicine in US: Witness\n",
            "예측 요약 : \n",
            "\n",
            "\n",
            "원문 : Reliance Industries' Chairman Mukesh Ambani's daughter Isha Ambani, who got married last month, said she only cried at her 'bidaai' because she felt peer pressure as everyone was crying, especially her parents. \"I was emotional too but everyone around me would cry all the time,\" she added. \"It was a very emotional affair for everyone in my family,\" said Isha.\n",
            "실제 요약 :  I only cried at my 'bidaai' as I felt peer pressure: Isha Ambani\n",
            "예측 요약 : \"It was a very emotional affair for everyone in my family,\" said Isha.\n",
            "\n",
            "\n",
            "원문 : Louis Vuitton owner LVMH, which makes high-end beverages like MoÃÂ«t & Chandon champagne and Hennessy cognac, said it's stockpiling four months' worth of wine and spirits in UK in preparation for Brexit. \"We're ready for worst case scenario if there are difficulties with deliveries,\" the French luxury giant said. The UK is scheduled to leave the EU on March 29.\n",
            "실제 요약 : Louis Vuitton owner to stockpile 4 months of wine, spirits in UK\n",
            "예측 요약 : Louis Vuitton owner LVMH, which makes high-end beverages like MoÃÂ«t & Chandon champagne and Hennessy cognac, said it's stockpiling four months' worth of wine and spirits in UK in preparation for Brexit.\n",
            "\n",
            "\n",
            "원문 : Filmmaker Karan Johar and actress Tabu turned showstoppers for Gaurav Gupta on the opening night of LakmÃÂ© Fashion Week Summer/ Resort 2019. While Johar wore a red sequinned jacket with black pants, Tabu walked the ramp in a grey embellished gown. The fashion show, which began on January 29, will continue till February 3.\n",
            "실제 요약 : Karan Johar, Tabu turn showstoppers on opening night of LFW\n",
            "예측 요약 : Filmmaker Karan Johar and actress Tabu turned showstoppers for Gaurav Gupta on the opening night of LakmÃÂ© Fashion Week Summer/ Resort 2019.\n",
            "\n",
            "\n",
            "원문 : In a jibe at Congress President Rahul Gandhi, PM Narendra Modi on Wednesday said those on \"bail will have to go to jail.\" PM Modi added, \"He is out on bail and his associates too are facing charges...I know they will be convicted one day.\" The PM claimed he'd waged a war on corruption because he's from a common household. \n",
            "실제 요약 : Those on bail will go to jail: PM Modi takes jibe at Rahul\n",
            "예측 요약 : \n",
            "\n",
            "\n",
            "원문 : Days after he threatened to step down from his post if Congress MLAs continue \"crossing the line,\" Karnataka Chief Minister HD Kumaraswamy accused them of taking potshots and asked, \"How many more days can I tolerate such stuff?\" Kumaraswamy, who made the statements after a Congress MLA demanded that Siddaramaiah be made CM again, said, \"Power is ephemeral.\"\n",
            "실제 요약 : How long can I tolerate Congress leaders' potshots: K'taka CM\n",
            "예측 요약 : \n",
            "\n",
            "\n",
            "원문 : Union Minister Dharmendra Pradhan on Wednesday claimed the illegal mining mafia in Odisha operates under the control of CM Naveen Patnaik and state Congress chief Niranjan Patnaik. He added, \"The time has come for the people of Odisha to put a full stop to their activities...The time has come for us to ask for an explanation from this corrupt government.\"\n",
            "실제 요약 : Odisha CM Patnaik controls mining mafia: Union Minister\n",
            "예측 요약 : \n",
            "\n",
            "\n"
          ]
        }
      ],
      "source": [
        "for idx, (head, text) in enumerate(zip(data['headlines'], data['text'])):\n",
        "    if idx == 20:\n",
        "        break\n",
        "    print(\"원문 :\", text)\n",
        "    print(\"실제 요약 :\", head)\n",
        "    print(\"예측 요약 :\", summarize(text, ratio=0.35))\n",
        "    print(\"\\n\")"
      ]
    },
    {
      "cell_type": "code",
      "execution_count": null,
      "id": "28f0e3d3",
      "metadata": {
        "id": "28f0e3d3"
      },
      "outputs": [],
      "source": [
        "import requests\n",
        "from summa.summarizer import summarize"
      ]
    },
    {
      "cell_type": "code",
      "execution_count": null,
      "id": "8e388d84",
      "metadata": {
        "id": "8e388d84"
      },
      "outputs": [],
      "source": [
        "text = requests.get('http://rare-technologies.com/the_matrix_synopsis.txt').text"
      ]
    },
    {
      "cell_type": "code",
      "execution_count": null,
      "id": "8603a511",
      "metadata": {
        "id": "8603a511",
        "outputId": "c2f24dbb-7286-4d0e-df37-22db5d8b1f5a"
      },
      "outputs": [
        {
          "name": "stdout",
          "output_type": "stream",
          "text": [
            "The screen is filled with green, cascading code which gives way to the title, The Matrix.\r\n",
            "\r\n",
            "A phone rings and text appears on the screen: \"Call trans opt: received. 2-19-98 13:24:18 REC: Log>\" As a conversation takes place between Trinity (Carrie-Anne Moss) and Cypher (Joe Pantoliano), two free humans, a table of random green numbers are being scanned and individual numbers selected, creating a series of digits not unlike an ordinary phone number, as if a code is being deciphered or a call is being traced.\r\n",
            "\r\n",
            "Trinity discusses some unknown person. Cypher taunts Trinity, suggesting she enjoys watching him. Trinity counters that \"Morpheus (Laurence Fishburne) says he may be 'the One',\" just as the sound of a number being selected alerts Trinity that someone may be tracing their call. She ends the call.\r\n",
            "\r\n",
            "Armed policemen move down a darkened, decrepit hallway in the Heart O' the City Hotel, their flashlight beam bouncing just ahead of them. They come to room 303, kick down the door and find a woman dressed in black, facing away from them. It's Trinity. She brings her hands up from the laptop she's working on at their command.\r\n",
            "\r\n",
            "Outside the hotel a car drives up and three agents appear in neatly pressed black suits. They are Agent Smith (Hugo Weaving), Agent Brown (Paul Goddard), and Agent Jones (Robert Taylor). Agent Smith and the presiding police lieutenant argue. Agent Smith admonishes the policeman that they were given specific orders to contact the agents first, for their\n"
          ]
        }
      ],
      "source": [
        "print(text[:1500])"
      ]
    },
    {
      "cell_type": "code",
      "execution_count": null,
      "id": "a042f1a2",
      "metadata": {
        "id": "a042f1a2"
      },
      "outputs": [],
      "source": [
        "summarize 사용하기"
      ]
    },
    {
      "cell_type": "code",
      "execution_count": null,
      "id": "b9112359",
      "metadata": {
        "id": "b9112359",
        "outputId": "ffa82eaa-3fbb-48a5-ddf4-3bdbcaafe9d7"
      },
      "outputs": [
        {
          "name": "stdout",
          "output_type": "stream",
          "text": [
            "Summary:\n",
            "Morpheus, Trinity, Neo, Apoc, Switch, Mouse and Cypher are jacked into the Matrix.\n",
            "Trinity brings the helicopter down to the floor that Morpheus is on and Neo opens fire on the three Agents.\n"
          ]
        }
      ],
      "source": [
        "print('Summary:')\n",
        "print(summarize(text, ratio=0.005))"
      ]
    },
    {
      "cell_type": "code",
      "execution_count": null,
      "id": "314fa3e2",
      "metadata": {
        "id": "314fa3e2",
        "outputId": "a175a3e9-2770-49ed-9ff0-50416602cd15"
      },
      "outputs": [
        {
          "name": "stdout",
          "output_type": "stream",
          "text": [
            "Summary:\n",
            "['Morpheus, Trinity, Neo, Apoc, Switch, Mouse and Cypher are jacked into the Matrix.', 'Trinity brings the helicopter down to the floor that Morpheus is on and Neo opens fire on the three Agents.']\n"
          ]
        }
      ],
      "source": [
        "print('Summary:')\n",
        "print(summarize(text, ratio=0.005, split=True))"
      ]
    },
    {
      "cell_type": "code",
      "execution_count": null,
      "id": "78dadb0f",
      "metadata": {
        "id": "78dadb0f",
        "outputId": "d3f62518-d624-4f2b-d100-d6cf8bfbbb6c"
      },
      "outputs": [
        {
          "name": "stdout",
          "output_type": "stream",
          "text": [
            "Summary:\n",
            "Trinity takes Neo to Morpheus.\n",
            "Morpheus, Trinity, Neo, Apoc, Switch, Mouse and Cypher are jacked into the Matrix.\n",
            "Trinity brings the helicopter down to the floor that Morpheus is on and Neo opens fire on the three Agents.\n"
          ]
        }
      ],
      "source": [
        "print('Summary:')\n",
        "print(summarize(text, words=50))"
      ]
    },
    {
      "cell_type": "code",
      "execution_count": null,
      "id": "c8a4a749",
      "metadata": {
        "id": "c8a4a749"
      },
      "outputs": [],
      "source": [
        "루브릭\n",
        "\n",
        "아래의 기준을 바탕으로 프로젝트를 평가합니다.\n",
        "\n",
        "평가문항\t상세기준\n",
        "1. Abstractive 모델 구성을 위한 텍스트 전처리 단계가 체계적으로 진행되었다.\n",
        "\n",
        "분석단계, 정제단계, 정규화와 불용어 제거, 데이터셋 분리, 인코딩 과정이 빠짐없이 체계적으로 진행되었다.\n",
        "\n",
        "2. 텍스트 요약모델이 성공적으로 학습되었음을 확인하였다.\n",
        "\n",
        "모델 학습이 진행되면서 train loss와 validation loss가 감소하는 경향을 그래프를 통해 확인했으며, 실제 요약문에 있는 핵심 단어들이 요약 문장 안에 포함되었다.\n",
        "\n",
        "3. Extractive 요약을 시도해 보고 Abstractive 요약 결과과 함께 비교해 보았다.\n",
        "\n",
        "두 요약 결과를 문법완성도 측면과 핵심단어 포함 측면으로 나누어 비교하고 분석 결과를 표로 정리하여 제시하였다."
      ]
    },
    {
      "cell_type": "code",
      "execution_count": null,
      "id": "6156e158",
      "metadata": {
        "id": "6156e158"
      },
      "outputs": [],
      "source": [
        "회고\n",
        "\n",
        "for i in range(50, 100):\n",
        "    print(\"원문 :\", seq2text(encoder_input_test[i]))\n",
        "    print(\"실제 요약 :\", seq2summary(decoder_input_test[i]))\n",
        "    print(\"예측 요약 :\", decode_sequence(encoder_input_test[i].reshape(1, text_max_len)))\n",
        "    print(\"\\n\")\n",
        "    \n",
        "NameError: name 'summary_max_len' is not defined\n",
        "\n",
        "이 부분 에러가 발생하였다. 에러를 잡기 위해 구글링을 해보았다. 결과는 대소문자 혹은 단어를 적을 때의 오류가 있었던거 같은데 정확히 파악할 수 없었다.\n",
        "\n",
        "이 부분을 건너뛰고 진행을 하였는데 그 이후는 잘 진행되어 어리둥절하였다. 왜 그냥 넘어가도 되었을까 했지만 오류가 났던 곳은 테스트를 진행한 곳이었고 \n",
        "알고자 했던 부분은 잘 진행이 되었다.\n",
        "\n"
      ]
    }
  ],
  "metadata": {
    "kernelspec": {
      "display_name": "Python 3 (ipykernel)",
      "language": "python",
      "name": "python3"
    },
    "language_info": {
      "codemirror_mode": {
        "name": "ipython",
        "version": 3
      },
      "file_extension": ".py",
      "mimetype": "text/x-python",
      "name": "python",
      "nbconvert_exporter": "python",
      "pygments_lexer": "ipython3",
      "version": "3.9.7"
    },
    "colab": {
      "provenance": [],
      "include_colab_link": true
    }
  },
  "nbformat": 4,
  "nbformat_minor": 5
}