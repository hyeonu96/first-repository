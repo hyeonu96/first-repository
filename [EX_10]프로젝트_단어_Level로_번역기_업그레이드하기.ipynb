{
  "nbformat": 4,
  "nbformat_minor": 0,
  "metadata": {
    "colab": {
      "provenance": [],
      "collapsed_sections": [],
      "machine_shape": "hm",
      "mount_file_id": "13T_OG3WfSrgs0Iz7YDM-tlhdfljkLPIF",
      "authorship_tag": "ABX9TyMYJU+J9eio9+Kc8stZ3Ej1",
      "include_colab_link": true
    },
    "kernelspec": {
      "name": "python3",
      "display_name": "Python 3"
    },
    "language_info": {
      "name": "python"
    },
    "accelerator": "GPU",
    "gpuClass": "standard"
  },
  "cells": [
    {
      "cell_type": "markdown",
      "metadata": {
        "id": "view-in-github",
        "colab_type": "text"
      },
      "source": [
        "<a href=\"https://colab.research.google.com/github/hyeonu96/first-repository/blob/main/%5BEX_10%5D%ED%94%84%EB%A1%9C%EC%A0%9D%ED%8A%B8_%EB%8B%A8%EC%96%B4_Level%EB%A1%9C_%EB%B2%88%EC%97%AD%EA%B8%B0_%EC%97%85%EA%B7%B8%EB%A0%88%EC%9D%B4%EB%93%9C%ED%95%98%EA%B8%B0.ipynb\" target=\"_parent\"><img src=\"https://colab.research.google.com/assets/colab-badge.svg\" alt=\"Open In Colab\"/></a>"
      ]
    },
    {
      "cell_type": "markdown",
      "source": [
        "# 프로젝트 : 단어 Level로 번역기 업그레이드하기"
      ],
      "metadata": {
        "id": "dmQViAdg9BmH"
      }
    },
    {
      "cell_type": "code",
      "source": [
        "import pandas as pd\n",
        "from tensorflow.keras.preprocessing.text import Tokenizer\n",
        "from tensorflow.keras.preprocessing.sequence import pad_sequences\n",
        "from tensorflow.keras.utils import to_categorical\n",
        "import numpy as np\n",
        "import re    \n",
        "from tensorflow.keras.layers import Input, LSTM, Embedding, Dense, Masking, Dropout\n",
        "from tensorflow.keras.models import Model"
      ],
      "metadata": {
        "id": "9IWc6W6AIQR1"
      },
      "execution_count": 1,
      "outputs": []
    },
    {
      "cell_type": "code",
      "source": [
        "import os\n",
        "file_path = '/content/drive/MyDrive/fra/fra.txt'\n",
        "lines = pd.read_csv(file_path, names=['eng', 'fra', 'cc'], sep='\\t')\n",
        "print('전체 샘플의 수:', len(lines))\n",
        "lines.sample(5)"
      ],
      "metadata": {
        "colab": {
          "base_uri": "https://localhost:8080/",
          "height": 225
        },
        "id": "0yl-dfcWIUch",
        "outputId": "ea26dd5b-5c70-4b09-b009-80812565e469"
      },
      "execution_count": 2,
      "outputs": [
        {
          "output_type": "stream",
          "name": "stdout",
          "text": [
            "전체 샘플의 수: 197463\n"
          ]
        },
        {
          "output_type": "execute_result",
          "data": {
            "text/plain": [
              "                                  eng                                  fra  \\\n",
              "3013                     He's asleep.                      Il est endormi.   \n",
              "66347        She's unfit for the job.       Elle est inapte pour le poste.   \n",
              "26813              Tom never arrived.             Tom n'est jamais arrivé.   \n",
              "104888  Practice is the best teacher.  La pratique est le meilleur maître.   \n",
              "74435       That's not very romantic.        Ce n'est pas très romantique.   \n",
              "\n",
              "                                                       cc  \n",
              "3013    CC-BY 2.0 (France) Attribution: tatoeba.org #1...  \n",
              "66347   CC-BY 2.0 (France) Attribution: tatoeba.org #1...  \n",
              "26813   CC-BY 2.0 (France) Attribution: tatoeba.org #2...  \n",
              "104888  CC-BY 2.0 (France) Attribution: tatoeba.org #6...  \n",
              "74435   CC-BY 2.0 (France) Attribution: tatoeba.org #2...  "
            ],
            "text/html": [
              "\n",
              "  <div id=\"df-642d3908-a83e-4cd6-803a-e1a36df9001c\">\n",
              "    <div class=\"colab-df-container\">\n",
              "      <div>\n",
              "<style scoped>\n",
              "    .dataframe tbody tr th:only-of-type {\n",
              "        vertical-align: middle;\n",
              "    }\n",
              "\n",
              "    .dataframe tbody tr th {\n",
              "        vertical-align: top;\n",
              "    }\n",
              "\n",
              "    .dataframe thead th {\n",
              "        text-align: right;\n",
              "    }\n",
              "</style>\n",
              "<table border=\"1\" class=\"dataframe\">\n",
              "  <thead>\n",
              "    <tr style=\"text-align: right;\">\n",
              "      <th></th>\n",
              "      <th>eng</th>\n",
              "      <th>fra</th>\n",
              "      <th>cc</th>\n",
              "    </tr>\n",
              "  </thead>\n",
              "  <tbody>\n",
              "    <tr>\n",
              "      <th>3013</th>\n",
              "      <td>He's asleep.</td>\n",
              "      <td>Il est endormi.</td>\n",
              "      <td>CC-BY 2.0 (France) Attribution: tatoeba.org #1...</td>\n",
              "    </tr>\n",
              "    <tr>\n",
              "      <th>66347</th>\n",
              "      <td>She's unfit for the job.</td>\n",
              "      <td>Elle est inapte pour le poste.</td>\n",
              "      <td>CC-BY 2.0 (France) Attribution: tatoeba.org #1...</td>\n",
              "    </tr>\n",
              "    <tr>\n",
              "      <th>26813</th>\n",
              "      <td>Tom never arrived.</td>\n",
              "      <td>Tom n'est jamais arrivé.</td>\n",
              "      <td>CC-BY 2.0 (France) Attribution: tatoeba.org #2...</td>\n",
              "    </tr>\n",
              "    <tr>\n",
              "      <th>104888</th>\n",
              "      <td>Practice is the best teacher.</td>\n",
              "      <td>La pratique est le meilleur maître.</td>\n",
              "      <td>CC-BY 2.0 (France) Attribution: tatoeba.org #6...</td>\n",
              "    </tr>\n",
              "    <tr>\n",
              "      <th>74435</th>\n",
              "      <td>That's not very romantic.</td>\n",
              "      <td>Ce n'est pas très romantique.</td>\n",
              "      <td>CC-BY 2.0 (France) Attribution: tatoeba.org #2...</td>\n",
              "    </tr>\n",
              "  </tbody>\n",
              "</table>\n",
              "</div>\n",
              "      <button class=\"colab-df-convert\" onclick=\"convertToInteractive('df-642d3908-a83e-4cd6-803a-e1a36df9001c')\"\n",
              "              title=\"Convert this dataframe to an interactive table.\"\n",
              "              style=\"display:none;\">\n",
              "        \n",
              "  <svg xmlns=\"http://www.w3.org/2000/svg\" height=\"24px\"viewBox=\"0 0 24 24\"\n",
              "       width=\"24px\">\n",
              "    <path d=\"M0 0h24v24H0V0z\" fill=\"none\"/>\n",
              "    <path d=\"M18.56 5.44l.94 2.06.94-2.06 2.06-.94-2.06-.94-.94-2.06-.94 2.06-2.06.94zm-11 1L8.5 8.5l.94-2.06 2.06-.94-2.06-.94L8.5 2.5l-.94 2.06-2.06.94zm10 10l.94 2.06.94-2.06 2.06-.94-2.06-.94-.94-2.06-.94 2.06-2.06.94z\"/><path d=\"M17.41 7.96l-1.37-1.37c-.4-.4-.92-.59-1.43-.59-.52 0-1.04.2-1.43.59L10.3 9.45l-7.72 7.72c-.78.78-.78 2.05 0 2.83L4 21.41c.39.39.9.59 1.41.59.51 0 1.02-.2 1.41-.59l7.78-7.78 2.81-2.81c.8-.78.8-2.07 0-2.86zM5.41 20L4 18.59l7.72-7.72 1.47 1.35L5.41 20z\"/>\n",
              "  </svg>\n",
              "      </button>\n",
              "      \n",
              "  <style>\n",
              "    .colab-df-container {\n",
              "      display:flex;\n",
              "      flex-wrap:wrap;\n",
              "      gap: 12px;\n",
              "    }\n",
              "\n",
              "    .colab-df-convert {\n",
              "      background-color: #E8F0FE;\n",
              "      border: none;\n",
              "      border-radius: 50%;\n",
              "      cursor: pointer;\n",
              "      display: none;\n",
              "      fill: #1967D2;\n",
              "      height: 32px;\n",
              "      padding: 0 0 0 0;\n",
              "      width: 32px;\n",
              "    }\n",
              "\n",
              "    .colab-df-convert:hover {\n",
              "      background-color: #E2EBFA;\n",
              "      box-shadow: 0px 1px 2px rgba(60, 64, 67, 0.3), 0px 1px 3px 1px rgba(60, 64, 67, 0.15);\n",
              "      fill: #174EA6;\n",
              "    }\n",
              "\n",
              "    [theme=dark] .colab-df-convert {\n",
              "      background-color: #3B4455;\n",
              "      fill: #D2E3FC;\n",
              "    }\n",
              "\n",
              "    [theme=dark] .colab-df-convert:hover {\n",
              "      background-color: #434B5C;\n",
              "      box-shadow: 0px 1px 3px 1px rgba(0, 0, 0, 0.15);\n",
              "      filter: drop-shadow(0px 1px 2px rgba(0, 0, 0, 0.3));\n",
              "      fill: #FFFFFF;\n",
              "    }\n",
              "  </style>\n",
              "\n",
              "      <script>\n",
              "        const buttonEl =\n",
              "          document.querySelector('#df-642d3908-a83e-4cd6-803a-e1a36df9001c button.colab-df-convert');\n",
              "        buttonEl.style.display =\n",
              "          google.colab.kernel.accessAllowed ? 'block' : 'none';\n",
              "\n",
              "        async function convertToInteractive(key) {\n",
              "          const element = document.querySelector('#df-642d3908-a83e-4cd6-803a-e1a36df9001c');\n",
              "          const dataTable =\n",
              "            await google.colab.kernel.invokeFunction('convertToInteractive',\n",
              "                                                     [key], {});\n",
              "          if (!dataTable) return;\n",
              "\n",
              "          const docLinkHtml = 'Like what you see? Visit the ' +\n",
              "            '<a target=\"_blank\" href=https://colab.research.google.com/notebooks/data_table.ipynb>data table notebook</a>'\n",
              "            + ' to learn more about interactive tables.';\n",
              "          element.innerHTML = '';\n",
              "          dataTable['output_type'] = 'display_data';\n",
              "          await google.colab.output.renderOutput(dataTable, element);\n",
              "          const docLink = document.createElement('div');\n",
              "          docLink.innerHTML = docLinkHtml;\n",
              "          element.appendChild(docLink);\n",
              "        }\n",
              "      </script>\n",
              "    </div>\n",
              "  </div>\n",
              "  "
            ]
          },
          "metadata": {},
          "execution_count": 2
        }
      ]
    },
    {
      "cell_type": "code",
      "source": [
        "lines = lines[['eng', 'fra']][60000:93000]\n",
        "lines.sample(5)"
      ],
      "metadata": {
        "colab": {
          "base_uri": "https://localhost:8080/",
          "height": 206
        },
        "id": "5cIcfoQWIdTl",
        "outputId": "2b0876a2-4bd6-4e6f-fe9e-e35773c5e65c"
      },
      "execution_count": 3,
      "outputs": [
        {
          "output_type": "execute_result",
          "data": {
            "text/plain": [
              "                               eng                                      fra\n",
              "73253    It was just a hypothesis.             Ce n'était qu'une hypothèse.\n",
              "67101     They stopped doing that.              Ils ont arrêté de faire ça.\n",
              "64100     I hope you're listening.                 J'espère que tu écoutes.\n",
              "87817  I need to talk to a lawyer.              Je dois parler à un avocat.\n",
              "92649  You should act more calmly.  Tu devrais te comporter plus calmement."
            ],
            "text/html": [
              "\n",
              "  <div id=\"df-0e1bbe73-42b5-4440-8be7-7fc654e6c1d5\">\n",
              "    <div class=\"colab-df-container\">\n",
              "      <div>\n",
              "<style scoped>\n",
              "    .dataframe tbody tr th:only-of-type {\n",
              "        vertical-align: middle;\n",
              "    }\n",
              "\n",
              "    .dataframe tbody tr th {\n",
              "        vertical-align: top;\n",
              "    }\n",
              "\n",
              "    .dataframe thead th {\n",
              "        text-align: right;\n",
              "    }\n",
              "</style>\n",
              "<table border=\"1\" class=\"dataframe\">\n",
              "  <thead>\n",
              "    <tr style=\"text-align: right;\">\n",
              "      <th></th>\n",
              "      <th>eng</th>\n",
              "      <th>fra</th>\n",
              "    </tr>\n",
              "  </thead>\n",
              "  <tbody>\n",
              "    <tr>\n",
              "      <th>73253</th>\n",
              "      <td>It was just a hypothesis.</td>\n",
              "      <td>Ce n'était qu'une hypothèse.</td>\n",
              "    </tr>\n",
              "    <tr>\n",
              "      <th>67101</th>\n",
              "      <td>They stopped doing that.</td>\n",
              "      <td>Ils ont arrêté de faire ça.</td>\n",
              "    </tr>\n",
              "    <tr>\n",
              "      <th>64100</th>\n",
              "      <td>I hope you're listening.</td>\n",
              "      <td>J'espère que tu écoutes.</td>\n",
              "    </tr>\n",
              "    <tr>\n",
              "      <th>87817</th>\n",
              "      <td>I need to talk to a lawyer.</td>\n",
              "      <td>Je dois parler à un avocat.</td>\n",
              "    </tr>\n",
              "    <tr>\n",
              "      <th>92649</th>\n",
              "      <td>You should act more calmly.</td>\n",
              "      <td>Tu devrais te comporter plus calmement.</td>\n",
              "    </tr>\n",
              "  </tbody>\n",
              "</table>\n",
              "</div>\n",
              "      <button class=\"colab-df-convert\" onclick=\"convertToInteractive('df-0e1bbe73-42b5-4440-8be7-7fc654e6c1d5')\"\n",
              "              title=\"Convert this dataframe to an interactive table.\"\n",
              "              style=\"display:none;\">\n",
              "        \n",
              "  <svg xmlns=\"http://www.w3.org/2000/svg\" height=\"24px\"viewBox=\"0 0 24 24\"\n",
              "       width=\"24px\">\n",
              "    <path d=\"M0 0h24v24H0V0z\" fill=\"none\"/>\n",
              "    <path d=\"M18.56 5.44l.94 2.06.94-2.06 2.06-.94-2.06-.94-.94-2.06-.94 2.06-2.06.94zm-11 1L8.5 8.5l.94-2.06 2.06-.94-2.06-.94L8.5 2.5l-.94 2.06-2.06.94zm10 10l.94 2.06.94-2.06 2.06-.94-2.06-.94-.94-2.06-.94 2.06-2.06.94z\"/><path d=\"M17.41 7.96l-1.37-1.37c-.4-.4-.92-.59-1.43-.59-.52 0-1.04.2-1.43.59L10.3 9.45l-7.72 7.72c-.78.78-.78 2.05 0 2.83L4 21.41c.39.39.9.59 1.41.59.51 0 1.02-.2 1.41-.59l7.78-7.78 2.81-2.81c.8-.78.8-2.07 0-2.86zM5.41 20L4 18.59l7.72-7.72 1.47 1.35L5.41 20z\"/>\n",
              "  </svg>\n",
              "      </button>\n",
              "      \n",
              "  <style>\n",
              "    .colab-df-container {\n",
              "      display:flex;\n",
              "      flex-wrap:wrap;\n",
              "      gap: 12px;\n",
              "    }\n",
              "\n",
              "    .colab-df-convert {\n",
              "      background-color: #E8F0FE;\n",
              "      border: none;\n",
              "      border-radius: 50%;\n",
              "      cursor: pointer;\n",
              "      display: none;\n",
              "      fill: #1967D2;\n",
              "      height: 32px;\n",
              "      padding: 0 0 0 0;\n",
              "      width: 32px;\n",
              "    }\n",
              "\n",
              "    .colab-df-convert:hover {\n",
              "      background-color: #E2EBFA;\n",
              "      box-shadow: 0px 1px 2px rgba(60, 64, 67, 0.3), 0px 1px 3px 1px rgba(60, 64, 67, 0.15);\n",
              "      fill: #174EA6;\n",
              "    }\n",
              "\n",
              "    [theme=dark] .colab-df-convert {\n",
              "      background-color: #3B4455;\n",
              "      fill: #D2E3FC;\n",
              "    }\n",
              "\n",
              "    [theme=dark] .colab-df-convert:hover {\n",
              "      background-color: #434B5C;\n",
              "      box-shadow: 0px 1px 3px 1px rgba(0, 0, 0, 0.15);\n",
              "      filter: drop-shadow(0px 1px 2px rgba(0, 0, 0, 0.3));\n",
              "      fill: #FFFFFF;\n",
              "    }\n",
              "  </style>\n",
              "\n",
              "      <script>\n",
              "        const buttonEl =\n",
              "          document.querySelector('#df-0e1bbe73-42b5-4440-8be7-7fc654e6c1d5 button.colab-df-convert');\n",
              "        buttonEl.style.display =\n",
              "          google.colab.kernel.accessAllowed ? 'block' : 'none';\n",
              "\n",
              "        async function convertToInteractive(key) {\n",
              "          const element = document.querySelector('#df-0e1bbe73-42b5-4440-8be7-7fc654e6c1d5');\n",
              "          const dataTable =\n",
              "            await google.colab.kernel.invokeFunction('convertToInteractive',\n",
              "                                                     [key], {});\n",
              "          if (!dataTable) return;\n",
              "\n",
              "          const docLinkHtml = 'Like what you see? Visit the ' +\n",
              "            '<a target=\"_blank\" href=https://colab.research.google.com/notebooks/data_table.ipynb>data table notebook</a>'\n",
              "            + ' to learn more about interactive tables.';\n",
              "          element.innerHTML = '';\n",
              "          dataTable['output_type'] = 'display_data';\n",
              "          await google.colab.output.renderOutput(dataTable, element);\n",
              "          const docLink = document.createElement('div');\n",
              "          docLink.innerHTML = docLinkHtml;\n",
              "          element.appendChild(docLink);\n",
              "        }\n",
              "      </script>\n",
              "    </div>\n",
              "  </div>\n",
              "  "
            ]
          },
          "metadata": {},
          "execution_count": 3
        }
      ]
    },
    {
      "cell_type": "code",
      "source": [
        "lines_np_eng= lines['eng'].to_numpy()\n",
        "lines_np_fra= lines['fra'].to_numpy()\n",
        "lines_np_eng"
      ],
      "metadata": {
        "colab": {
          "base_uri": "https://localhost:8080/"
        },
        "id": "ZWq8glEdIh3a",
        "outputId": "0d6073c5-371c-4240-8e50-293c6953aab3"
      },
      "execution_count": 4,
      "outputs": [
        {
          "output_type": "execute_result",
          "data": {
            "text/plain": [
              "array(['Those are your choices.', 'Those are your options.',\n",
              "       'Those are your options.', ..., 'Are you coming to the party?',\n",
              "       'Are you coming to the party?', 'Are you done with the paper?'],\n",
              "      dtype=object)"
            ]
          },
          "metadata": {},
          "execution_count": 4
        }
      ]
    },
    {
      "cell_type": "markdown",
      "source": [
        "## 데이터 전처리"
      ],
      "metadata": {
        "id": "xZle_JzOJOgC"
      }
    },
    {
      "cell_type": "markdown",
      "source": [
        "### 소문자 변경 후 구두점 분리"
      ],
      "metadata": {
        "id": "k1InYlW8JKdE"
      }
    },
    {
      "cell_type": "code",
      "source": [
        "sos_token = '<start> '\n",
        "eos_token = ' <end>'\n",
        "\n",
        "def preprocess_line(line, plus_token = True):\n",
        "    # 소문자로 변경하기\n",
        "    line = line.lower().strip()\n",
        "    # 구두점(Punctuation)을 단어와 분리하기\n",
        "    line = re.sub(r\"([?.!,¿])\", r\" \\1 \", line)\n",
        "    line = re.sub(r'[\" \"]+', \" \", line)\n",
        "    line = re.sub(r\"[^a-zA-Z?.!,¿]+\", \" \", line)\n",
        "\n",
        "    line = line.strip()\n",
        "    \n",
        "    if plus_token == True:\n",
        "        line = sos_token + line + eos_token\n",
        "    \n",
        "    return line"
      ],
      "metadata": {
        "id": "E3HB2NxTJJyl"
      },
      "execution_count": 5,
      "outputs": []
    },
    {
      "cell_type": "markdown",
      "source": [
        "### 띄어쓰기 단위로 토큰화 함수"
      ],
      "metadata": {
        "id": "dtgRHfs4JUoA"
      }
    },
    {
      "cell_type": "code",
      "source": [
        "def tokenize(corpus):\n",
        "    tokenizer = Tokenizer(\n",
        "        num_words=7000,  \n",
        "        filters=' ',   \n",
        "        oov_token=\"<unk>\"  \n",
        "    )\n",
        "    tokenizer.fit_on_texts(corpus)  \n",
        "\n",
        "    tensor = tokenizer.texts_to_sequences(corpus)   \n",
        "\n",
        "    return tensor, tokenizer"
      ],
      "metadata": {
        "id": "z-OqfUy0JT0n"
      },
      "execution_count": 6,
      "outputs": []
    },
    {
      "cell_type": "markdown",
      "source": [
        "### 영어, 프랑스어 전처리하기"
      ],
      "metadata": {
        "id": "cng-9ZN4JXAg"
      }
    },
    {
      "cell_type": "code",
      "source": [
        "eng_lines = []\n",
        "fra_lines = []\n",
        "\n",
        "# eng_lines.append(lines.eng.apply(lambda x : preprocess_line(x,plus_token = False)))\n",
        "# fra_lines.append(lines.fra.apply(lambda x : preprocess_line(x),))\n",
        "\n",
        "for eng, fra in zip(lines.eng, lines.fra):\n",
        "    if len(eng) == 0: continue\n",
        "    if len(fra) == 0: continue   \n",
        "        \n",
        "    eng_lines.append(preprocess_line(eng, plus_token = False))\n",
        "    fra_lines.append(preprocess_line(fra))"
      ],
      "metadata": {
        "id": "aRsKbeM8JYzo"
      },
      "execution_count": 7,
      "outputs": []
    },
    {
      "cell_type": "code",
      "source": [
        "np.shape(eng_lines)"
      ],
      "metadata": {
        "colab": {
          "base_uri": "https://localhost:8080/"
        },
        "id": "wMdRxhyOJcXV",
        "outputId": "aa98bd8a-3c65-4cbd-c18a-fbc18c35d904"
      },
      "execution_count": 8,
      "outputs": [
        {
          "output_type": "execute_result",
          "data": {
            "text/plain": [
              "(33000,)"
            ]
          },
          "metadata": {},
          "execution_count": 8
        }
      ]
    },
    {
      "cell_type": "code",
      "source": [
        "eng_tensor, eng_tokenizer = tokenize(eng_lines)\n",
        "fra_tensor, fra_tokenizer = tokenize(fra_lines)\n",
        "fra_tensor[:10]"
      ],
      "metadata": {
        "colab": {
          "base_uri": "https://localhost:8080/"
        },
        "id": "7bb2x7YwJeld",
        "outputId": "23b4c80c-ee83-48d1-f651-127171cfa571"
      },
      "execution_count": 9,
      "outputs": [
        {
          "output_type": "execute_result",
          "data": {
            "text/plain": [
              "[[2, 1155, 175, 1274, 4, 3],\n",
              " [2, 1064, 22, 61, 42, 1274, 4, 3],\n",
              " [2, 21, 61, 175, 1274, 4, 3],\n",
              " [2, 21, 61, 42, 1274, 4, 3],\n",
              " [2, 178, 672, 36, 480, 98, 4, 3],\n",
              " [2, 178, 316, 27, 14, 61, 9, 44, 4, 3],\n",
              " [2, 33, 59, 30, 126, 2309, 378, 4, 3],\n",
              " [2, 178, 897, 61, 2646, 4, 3],\n",
              " [2, 17, 89, 8, 24, 3799, 316, 4, 3],\n",
              " [2, 33, 8, 499, 47, 44, 4, 3]]"
            ]
          },
          "metadata": {},
          "execution_count": 9
        }
      ]
    },
    {
      "cell_type": "markdown",
      "source": [
        "### input, target 설정"
      ],
      "metadata": {
        "id": "cq01Cqz7Jkl2"
      }
    },
    {
      "cell_type": "code",
      "source": [
        "encoder_input = eng_tensor\n",
        "# 종료 토큰 제거\n",
        "decoder_input = [[char for char in line if char != fra_tokenizer.word_index['<end>']] for line in fra_tensor]\n",
        "# 시작 토큰 제거\n",
        "decoder_target =[[char for char in line if char != fra_tokenizer.word_index['<start>']] for line in fra_tensor]"
      ],
      "metadata": {
        "id": "4ZcpLykxJlgd"
      },
      "execution_count": 10,
      "outputs": []
    },
    {
      "cell_type": "markdown",
      "source": [
        "### padding 추가"
      ],
      "metadata": {
        "id": "1xhMfn2nJqGl"
      }
    },
    {
      "cell_type": "code",
      "source": [
        "def pad_tensor(tensor):\n",
        "    total_data_text = list(tensor)\n",
        "    num_tokens = [len(tokens) for tokens in total_data_text]\n",
        "    max_tokens = max(num_tokens)\n",
        "#     max_tokens = np.mean(num_tokens) + 2 * np.std(num_tokens)\n",
        "    maxlen = int(max_tokens)\n",
        "    tensor = pad_sequences(tensor, padding='post', maxlen=maxlen)  \n",
        "    return tensor"
      ],
      "metadata": {
        "id": "qH7ahpX9JqsB"
      },
      "execution_count": 11,
      "outputs": []
    },
    {
      "cell_type": "code",
      "source": [
        "encoder_input = pad_tensor(encoder_input)\n",
        "decoder_input = pad_tensor(decoder_input)\n",
        "decoder_target = pad_tensor(decoder_target)\n",
        "print('영어 데이터의 크기(shape) :',np.shape(encoder_input))\n",
        "print('프랑스어 입력데이터의 크기(shape) :',np.shape(decoder_input))\n",
        "print('프랑스어 출력데이터의 크기(shape) :',np.shape(decoder_target))"
      ],
      "metadata": {
        "colab": {
          "base_uri": "https://localhost:8080/"
        },
        "id": "XRr3wowSJt-c",
        "outputId": "16fdf5ef-7b70-416c-935f-77e385c1f2e4"
      },
      "execution_count": 12,
      "outputs": [
        {
          "output_type": "stream",
          "name": "stdout",
          "text": [
            "영어 데이터의 크기(shape) : (33000, 10)\n",
            "프랑스어 입력데이터의 크기(shape) : (33000, 17)\n",
            "프랑스어 출력데이터의 크기(shape) : (33000, 17)\n"
          ]
        }
      ]
    },
    {
      "cell_type": "code",
      "source": [
        "eng_vocab_size = len(eng_tokenizer.word_index)+1\n",
        "fra_vocab_size = len(fra_tokenizer.word_index)+1\n",
        "\n",
        "max_eng_seq_len = encoder_input.shape[1]\n",
        "max_fra_seq_len = decoder_input.shape[1]"
      ],
      "metadata": {
        "id": "7YsGjJ4DJwud"
      },
      "execution_count": 13,
      "outputs": []
    },
    {
      "cell_type": "code",
      "source": [
        "print('전체 샘플의 수 :',len(lines))\n",
        "print('영어 단어장의 크기 :', eng_vocab_size)\n",
        "print('프랑스어 단어장의 크기 :', fra_vocab_size)\n",
        "print('영어 시퀀스의 최대 길이', max_eng_seq_len)\n",
        "print('프랑스어 시퀀스의 최대 길이', max_fra_seq_len)"
      ],
      "metadata": {
        "colab": {
          "base_uri": "https://localhost:8080/"
        },
        "id": "gep97dlsJy8l",
        "outputId": "973c39ed-0756-4dc9-e861-c402fd9a5914"
      },
      "execution_count": 14,
      "outputs": [
        {
          "output_type": "stream",
          "name": "stdout",
          "text": [
            "전체 샘플의 수 : 33000\n",
            "영어 단어장의 크기 : 5975\n",
            "프랑스어 단어장의 크기 : 8501\n",
            "영어 시퀀스의 최대 길이 10\n",
            "프랑스어 시퀀스의 최대 길이 17\n"
          ]
        }
      ]
    },
    {
      "cell_type": "markdown",
      "source": [
        "### train, test dataset 나누기"
      ],
      "metadata": {
        "id": "-Yyhrr93J1gF"
      }
    },
    {
      "cell_type": "code",
      "source": [
        "indices = np.arange(encoder_input.shape[0])\n",
        "np.random.shuffle(indices)\n",
        "\n",
        "encoder_input = encoder_input[indices]\n",
        "decoder_input = decoder_input[indices]\n",
        "decoder_target = decoder_target[indices]"
      ],
      "metadata": {
        "id": "o1y2drxPJ2Z2"
      },
      "execution_count": 15,
      "outputs": []
    },
    {
      "cell_type": "code",
      "source": [
        "n_of_val = 3000\n",
        "\n",
        "encoder_input_train = encoder_input[:-n_of_val]\n",
        "decoder_input_train = decoder_input[:-n_of_val]\n",
        "decoder_target_train = decoder_target[:-n_of_val]\n",
        "\n",
        "encoder_input_test = encoder_input[-n_of_val:]\n",
        "decoder_input_test = decoder_input[-n_of_val:]\n",
        "decoder_target_test = decoder_target[-n_of_val:]\n",
        "\n",
        "print(encoder_input_train.shape)\n",
        "print(decoder_input_train.shape)\n",
        "print(decoder_target_train.shape)\n",
        "print(encoder_input_test.shape)\n",
        "print(decoder_input_test.shape)\n",
        "print(decoder_target_test.shape)"
      ],
      "metadata": {
        "colab": {
          "base_uri": "https://localhost:8080/"
        },
        "id": "p1q5cz8kJ4mJ",
        "outputId": "66491de4-4fd5-4d89-f617-d02ddaaba2d7"
      },
      "execution_count": 16,
      "outputs": [
        {
          "output_type": "stream",
          "name": "stdout",
          "text": [
            "(30000, 10)\n",
            "(30000, 17)\n",
            "(30000, 17)\n",
            "(3000, 10)\n",
            "(3000, 17)\n",
            "(3000, 17)\n"
          ]
        }
      ]
    },
    {
      "cell_type": "markdown",
      "source": [
        "## 임베딩 층(Embedding layer) 사용하기"
      ],
      "metadata": {
        "id": "Gz-aE7vvJ8kO"
      }
    },
    {
      "cell_type": "markdown",
      "source": [
        "### 인코더"
      ],
      "metadata": {
        "id": "f2zheMLSJ9WA"
      }
    },
    {
      "cell_type": "code",
      "source": [
        "embedding_size = 512\n",
        "hidden_size = 512\n",
        "# 인코더에서 사용할 임베딩 층 사용 예시\n",
        "encoder_inputs = Input(shape=(None, ), name='encoder_input')\n",
        "enc_emb =  Embedding(eng_vocab_size, embedding_size,\n",
        "                    input_length=max_eng_seq_len)(encoder_inputs)\n",
        "enc_masking = Masking(mask_value=0.0)(enc_emb)\n",
        "encoder_lstm = LSTM(hidden_size, dropout = 0.5, return_state=True)\n",
        "encoder_outputs, state_h, state_c = encoder_lstm(enc_masking)\n",
        "encoder_states = [state_h, state_c]"
      ],
      "metadata": {
        "id": "D_79PRKrJ_iB"
      },
      "execution_count": 17,
      "outputs": []
    },
    {
      "cell_type": "markdown",
      "source": [
        "### 디코더"
      ],
      "metadata": {
        "id": "-ICghVHDKCkB"
      }
    },
    {
      "cell_type": "code",
      "source": [
        "decoder_inputs = Input(shape=(None, ), name='decoder_input')\n",
        "dec_emb =  Embedding(fra_vocab_size, embedding_size)(decoder_inputs)\n",
        "dec_masking = Masking(mask_value=0.0)(dec_emb)\n",
        "decoder_lstm = LSTM(hidden_size, dropout = 0.5, return_sequences = True, return_state=True)\n",
        "decoder_outputs, _, _ = decoder_lstm(dec_masking, initial_state = encoder_states)"
      ],
      "metadata": {
        "id": "ErrzQbdhKEh_"
      },
      "execution_count": 18,
      "outputs": []
    },
    {
      "cell_type": "code",
      "source": [
        "decoder_softmax_layer = Dense(fra_vocab_size, activation='softmax')\n",
        "decoder_outputs = decoder_softmax_layer(decoder_outputs)"
      ],
      "metadata": {
        "id": "rKm_qFuNKGvp"
      },
      "execution_count": 19,
      "outputs": []
    },
    {
      "cell_type": "code",
      "source": [
        "model = Model([encoder_inputs, decoder_inputs], decoder_outputs)\n",
        "model.compile(optimizer='rmsprop', loss='sparse_categorical_crossentropy')"
      ],
      "metadata": {
        "id": "yKlJnHgeKIK4"
      },
      "execution_count": 20,
      "outputs": []
    },
    {
      "cell_type": "code",
      "source": [
        "model.summary()"
      ],
      "metadata": {
        "colab": {
          "base_uri": "https://localhost:8080/"
        },
        "id": "RtvGaLfjKJhd",
        "outputId": "7951839c-9de2-4636-8c37-70e75c266e51"
      },
      "execution_count": 21,
      "outputs": [
        {
          "output_type": "stream",
          "name": "stdout",
          "text": [
            "Model: \"model\"\n",
            "__________________________________________________________________________________________________\n",
            " Layer (type)                   Output Shape         Param #     Connected to                     \n",
            "==================================================================================================\n",
            " encoder_input (InputLayer)     [(None, None)]       0           []                               \n",
            "                                                                                                  \n",
            " decoder_input (InputLayer)     [(None, None)]       0           []                               \n",
            "                                                                                                  \n",
            " embedding (Embedding)          (None, None, 512)    3059200     ['encoder_input[0][0]']          \n",
            "                                                                                                  \n",
            " embedding_1 (Embedding)        (None, None, 512)    4352512     ['decoder_input[0][0]']          \n",
            "                                                                                                  \n",
            " masking (Masking)              (None, None, 512)    0           ['embedding[0][0]']              \n",
            "                                                                                                  \n",
            " masking_1 (Masking)            (None, None, 512)    0           ['embedding_1[0][0]']            \n",
            "                                                                                                  \n",
            " lstm (LSTM)                    [(None, 512),        2099200     ['masking[0][0]']                \n",
            "                                 (None, 512),                                                     \n",
            "                                 (None, 512)]                                                     \n",
            "                                                                                                  \n",
            " lstm_1 (LSTM)                  [(None, None, 512),  2099200     ['masking_1[0][0]',              \n",
            "                                 (None, 512),                     'lstm[0][1]',                   \n",
            "                                 (None, 512)]                     'lstm[0][2]']                   \n",
            "                                                                                                  \n",
            " dense (Dense)                  (None, None, 8501)   4361013     ['lstm_1[0][0]']                 \n",
            "                                                                                                  \n",
            "==================================================================================================\n",
            "Total params: 15,971,125\n",
            "Trainable params: 15,971,125\n",
            "Non-trainable params: 0\n",
            "__________________________________________________________________________________________________\n"
          ]
        }
      ]
    },
    {
      "cell_type": "code",
      "source": [
        "model.fit(x=[encoder_input_train, decoder_input_train], \n",
        "          y=decoder_target_train, \n",
        "          validation_data = ([encoder_input_test, decoder_input_test], \n",
        "                             decoder_target_test),\n",
        "          batch_size=32, \n",
        "          epochs=50)"
      ],
      "metadata": {
        "colab": {
          "base_uri": "https://localhost:8080/"
        },
        "id": "ny4PRVdnKNcG",
        "outputId": "13219480-3ae4-4fc2-eedd-7f86ef94a299"
      },
      "execution_count": 22,
      "outputs": [
        {
          "output_type": "stream",
          "name": "stdout",
          "text": [
            "Epoch 1/50\n",
            "938/938 [==============================] - 33s 22ms/step - loss: 2.0065 - val_loss: 1.6640\n",
            "Epoch 2/50\n",
            "938/938 [==============================] - 18s 19ms/step - loss: 1.5139 - val_loss: 1.4295\n",
            "Epoch 3/50\n",
            "938/938 [==============================] - 18s 19ms/step - loss: 1.3135 - val_loss: 1.2842\n",
            "Epoch 4/50\n",
            "938/938 [==============================] - 18s 19ms/step - loss: 1.1745 - val_loss: 1.1958\n",
            "Epoch 5/50\n",
            "938/938 [==============================] - 18s 19ms/step - loss: 1.0676 - val_loss: 1.1341\n",
            "Epoch 6/50\n",
            "938/938 [==============================] - 18s 19ms/step - loss: 0.9853 - val_loss: 1.0896\n",
            "Epoch 7/50\n",
            "938/938 [==============================] - 18s 19ms/step - loss: 0.9179 - val_loss: 1.0604\n",
            "Epoch 8/50\n",
            "938/938 [==============================] - 18s 19ms/step - loss: 0.8638 - val_loss: 1.0412\n",
            "Epoch 9/50\n",
            "938/938 [==============================] - 18s 19ms/step - loss: 0.8217 - val_loss: 1.0312\n",
            "Epoch 10/50\n",
            "938/938 [==============================] - 18s 19ms/step - loss: 0.7856 - val_loss: 1.0264\n",
            "Epoch 11/50\n",
            "938/938 [==============================] - 18s 19ms/step - loss: 0.7602 - val_loss: 1.0354\n",
            "Epoch 12/50\n",
            "938/938 [==============================] - 18s 19ms/step - loss: 0.7455 - val_loss: 1.0328\n",
            "Epoch 13/50\n",
            "938/938 [==============================] - 18s 19ms/step - loss: 0.7315 - val_loss: 1.0404\n",
            "Epoch 14/50\n",
            "938/938 [==============================] - 18s 19ms/step - loss: 0.7195 - val_loss: 1.0424\n",
            "Epoch 15/50\n",
            "938/938 [==============================] - 18s 19ms/step - loss: 0.7006 - val_loss: 1.0321\n",
            "Epoch 16/50\n",
            "938/938 [==============================] - 18s 19ms/step - loss: 0.6889 - val_loss: 1.0366\n",
            "Epoch 17/50\n",
            "938/938 [==============================] - 18s 19ms/step - loss: 0.6723 - val_loss: 1.0267\n",
            "Epoch 18/50\n",
            "938/938 [==============================] - 18s 19ms/step - loss: 0.6564 - val_loss: 1.0330\n",
            "Epoch 19/50\n",
            "938/938 [==============================] - 18s 19ms/step - loss: 0.6427 - val_loss: 1.0197\n",
            "Epoch 20/50\n",
            "938/938 [==============================] - 18s 19ms/step - loss: 0.6301 - val_loss: 1.0285\n",
            "Epoch 21/50\n",
            "938/938 [==============================] - 18s 19ms/step - loss: 0.6241 - val_loss: 1.0234\n",
            "Epoch 22/50\n",
            "938/938 [==============================] - 18s 19ms/step - loss: 0.6085 - val_loss: 1.0218\n",
            "Epoch 23/50\n",
            "938/938 [==============================] - 18s 19ms/step - loss: 0.6042 - val_loss: 1.0281\n",
            "Epoch 24/50\n",
            "938/938 [==============================] - 18s 19ms/step - loss: 0.6028 - val_loss: 1.0281\n",
            "Epoch 25/50\n",
            "938/938 [==============================] - 18s 19ms/step - loss: 0.6007 - val_loss: 1.0275\n",
            "Epoch 26/50\n",
            "938/938 [==============================] - 18s 19ms/step - loss: 0.5987 - val_loss: 1.0307\n",
            "Epoch 27/50\n",
            "938/938 [==============================] - 18s 19ms/step - loss: 0.5948 - val_loss: 1.0290\n",
            "Epoch 28/50\n",
            "938/938 [==============================] - 18s 19ms/step - loss: 0.5897 - val_loss: 1.0294\n",
            "Epoch 29/50\n",
            "938/938 [==============================] - 18s 19ms/step - loss: 0.5867 - val_loss: 1.0253\n",
            "Epoch 30/50\n",
            "938/938 [==============================] - 18s 19ms/step - loss: 0.5797 - val_loss: 1.0248\n",
            "Epoch 31/50\n",
            "938/938 [==============================] - 18s 19ms/step - loss: 0.5736 - val_loss: 1.0213\n",
            "Epoch 32/50\n",
            "938/938 [==============================] - 18s 19ms/step - loss: 0.5699 - val_loss: 1.0171\n",
            "Epoch 33/50\n",
            "938/938 [==============================] - 18s 19ms/step - loss: 0.5635 - val_loss: 1.0192\n",
            "Epoch 34/50\n",
            "938/938 [==============================] - 18s 19ms/step - loss: 0.5588 - val_loss: 1.0156\n",
            "Epoch 35/50\n",
            "938/938 [==============================] - 18s 19ms/step - loss: 0.5535 - val_loss: 1.0154\n",
            "Epoch 36/50\n",
            "938/938 [==============================] - 18s 19ms/step - loss: 0.5487 - val_loss: 1.0101\n",
            "Epoch 37/50\n",
            "938/938 [==============================] - 18s 19ms/step - loss: 0.5437 - val_loss: 1.0101\n",
            "Epoch 38/50\n",
            "938/938 [==============================] - 18s 19ms/step - loss: 0.5381 - val_loss: 1.0098\n",
            "Epoch 39/50\n",
            "938/938 [==============================] - 18s 19ms/step - loss: 0.5331 - val_loss: 1.0084\n",
            "Epoch 40/50\n",
            "938/938 [==============================] - 18s 19ms/step - loss: 0.5292 - val_loss: 1.0080\n",
            "Epoch 41/50\n",
            "938/938 [==============================] - 18s 19ms/step - loss: 0.5256 - val_loss: 1.0080\n",
            "Epoch 42/50\n",
            "938/938 [==============================] - 18s 19ms/step - loss: 0.5224 - val_loss: 1.0071\n",
            "Epoch 43/50\n",
            "938/938 [==============================] - 18s 19ms/step - loss: 0.5182 - val_loss: 1.0094\n",
            "Epoch 44/50\n",
            "938/938 [==============================] - 18s 19ms/step - loss: 0.5154 - val_loss: 1.0080\n",
            "Epoch 45/50\n",
            "938/938 [==============================] - 18s 19ms/step - loss: 0.5144 - val_loss: 1.0052\n",
            "Epoch 46/50\n",
            "938/938 [==============================] - 18s 19ms/step - loss: 0.5124 - val_loss: 1.0082\n",
            "Epoch 47/50\n",
            "938/938 [==============================] - 18s 19ms/step - loss: 0.5106 - val_loss: 1.0059\n",
            "Epoch 48/50\n",
            "938/938 [==============================] - 18s 19ms/step - loss: 0.5094 - val_loss: 1.0141\n",
            "Epoch 49/50\n",
            "938/938 [==============================] - 18s 19ms/step - loss: 0.5067 - val_loss: 1.0130\n",
            "Epoch 50/50\n",
            "938/938 [==============================] - 18s 19ms/step - loss: 0.5060 - val_loss: 1.0179\n"
          ]
        },
        {
          "output_type": "execute_result",
          "data": {
            "text/plain": [
              "<keras.callbacks.History at 0x7f78e0468990>"
            ]
          },
          "metadata": {},
          "execution_count": 22
        }
      ]
    },
    {
      "cell_type": "markdown",
      "source": [
        "## 모델 구현하기"
      ],
      "metadata": {
        "id": "YxZhhvVDKvxN"
      }
    },
    {
      "cell_type": "markdown",
      "source": [
        "### 인코더"
      ],
      "metadata": {
        "id": "QxZ8yAScO6as"
      }
    },
    {
      "cell_type": "code",
      "source": [
        "encoder_model = Model(inputs = encoder_inputs, outputs = encoder_states)\n",
        "encoder_model.summary()"
      ],
      "metadata": {
        "colab": {
          "base_uri": "https://localhost:8080/"
        },
        "id": "bChHVHXzO8Vs",
        "outputId": "47309b12-116a-403b-98c4-ee0d3f9b9566"
      },
      "execution_count": 23,
      "outputs": [
        {
          "output_type": "stream",
          "name": "stdout",
          "text": [
            "Model: \"model_1\"\n",
            "_________________________________________________________________\n",
            " Layer (type)                Output Shape              Param #   \n",
            "=================================================================\n",
            " encoder_input (InputLayer)  [(None, None)]            0         \n",
            "                                                                 \n",
            " embedding (Embedding)       (None, None, 512)         3059200   \n",
            "                                                                 \n",
            " masking (Masking)           (None, None, 512)         0         \n",
            "                                                                 \n",
            " lstm (LSTM)                 [(None, 512),             2099200   \n",
            "                              (None, 512),                       \n",
            "                              (None, 512)]                       \n",
            "                                                                 \n",
            "=================================================================\n",
            "Total params: 5,158,400\n",
            "Trainable params: 5,158,400\n",
            "Non-trainable params: 0\n",
            "_________________________________________________________________\n"
          ]
        }
      ]
    },
    {
      "cell_type": "markdown",
      "source": [
        "### 디코더"
      ],
      "metadata": {
        "id": "2YcB2L2DO-Rr"
      }
    },
    {
      "cell_type": "code",
      "source": [
        "decoder_state_input_h = Input(shape=(embedding_size,))\n",
        "decoder_state_input_c = Input(shape=(embedding_size,))\n",
        "decoder_states_inputs = [decoder_state_input_h, decoder_state_input_c]\n",
        "\n",
        "dec_emb2 = Embedding(fra_vocab_size, embedding_size)(decoder_inputs)\n",
        "decoder_outputs2, state_h2, state_c2 = decoder_lstm(dec_emb2, initial_state = decoder_states_inputs)\n",
        "decoder_states2 = [state_h2, state_c2]\n",
        "\n",
        "decoder_outputs2 = decoder_softmax_layer(decoder_outputs2)"
      ],
      "metadata": {
        "id": "vrYP0WCCPAk8"
      },
      "execution_count": 24,
      "outputs": []
    },
    {
      "cell_type": "code",
      "source": [
        "eng2idx = eng_tokenizer.word_index\n",
        "fra2idx = fra_tokenizer.word_index\n",
        "idx2eng = eng_tokenizer.index_word\n",
        "idx2fra = fra_tokenizer.index_word"
      ],
      "metadata": {
        "id": "EqQAs2duPCQl"
      },
      "execution_count": 25,
      "outputs": []
    },
    {
      "cell_type": "code",
      "source": [
        "decoder_model = Model(inputs=[decoder_inputs] + decoder_states_inputs, outputs=[decoder_outputs2] + decoder_states2)\n",
        "decoder_model.summary()"
      ],
      "metadata": {
        "colab": {
          "base_uri": "https://localhost:8080/"
        },
        "id": "STD7ZKE0PING",
        "outputId": "960e8b8e-5556-4994-e405-28abdf524173"
      },
      "execution_count": 26,
      "outputs": [
        {
          "output_type": "stream",
          "name": "stdout",
          "text": [
            "Model: \"model_2\"\n",
            "__________________________________________________________________________________________________\n",
            " Layer (type)                   Output Shape         Param #     Connected to                     \n",
            "==================================================================================================\n",
            " decoder_input (InputLayer)     [(None, None)]       0           []                               \n",
            "                                                                                                  \n",
            " embedding_2 (Embedding)        (None, None, 512)    4352512     ['decoder_input[0][0]']          \n",
            "                                                                                                  \n",
            " input_1 (InputLayer)           [(None, 512)]        0           []                               \n",
            "                                                                                                  \n",
            " input_2 (InputLayer)           [(None, 512)]        0           []                               \n",
            "                                                                                                  \n",
            " lstm_1 (LSTM)                  [(None, None, 512),  2099200     ['embedding_2[0][0]',            \n",
            "                                 (None, 512),                     'input_1[0][0]',                \n",
            "                                 (None, 512)]                     'input_2[0][0]']                \n",
            "                                                                                                  \n",
            " dense (Dense)                  (None, None, 8501)   4361013     ['lstm_1[1][0]']                 \n",
            "                                                                                                  \n",
            "==================================================================================================\n",
            "Total params: 10,812,725\n",
            "Trainable params: 10,812,725\n",
            "Non-trainable params: 0\n",
            "__________________________________________________________________________________________________\n"
          ]
        }
      ]
    },
    {
      "cell_type": "code",
      "source": [
        "def decode_sequence(input_seq):\n",
        "    # 입력으로부터 인코더의 상태를 얻음\n",
        "    states_value = encoder_model.predict(input_seq)\n",
        "\n",
        "    # <start>에 해당하는 원-핫 벡터 생성\n",
        "    target_seq = np.zeros((1,1))\n",
        "    target_seq[0, 0] = fra2idx['<start>']\n",
        "    \n",
        "    stop_condition = False\n",
        "    decoded_sentence = \"\"\n",
        "\n",
        "    # stop_condition이 True가 될 때까지 루프 반복\n",
        "    while not stop_condition:\n",
        "        # 이점 시점의 상태 states_value를 현 시점의 초기 상태로 사용\n",
        "        output_tokens, h, c = decoder_model.predict([target_seq] + states_value)\n",
        "\n",
        "        # 예측 결과를 문자로 변환\n",
        "        sampled_token_index = np.argmax(output_tokens[0, -1, :])\n",
        "        sampled_char = idx2fra[sampled_token_index]\n",
        "\n",
        "        # 현재 시점의 예측 문자를 예측 문장에 추가\n",
        "        decoded_sentence += ' '+sampled_char\n",
        "\n",
        "        # <eos>에 도달하거나 최대 길이를 넘으면 중단.\n",
        "        if (sampled_char == '<end>' or\n",
        "           len(decoded_sentence) > max_fra_seq_len):\n",
        "            stop_condition = True\n",
        "\n",
        "        # 현재 시점의 예측 결과를 다음 시점의 입력으로 사용하기 위해 저장\n",
        "        target_seq = np.zeros((1, 1))\n",
        "        target_seq[0, 0] = sampled_token_index\n",
        "\n",
        "        # 현재 시점의 상태를 다음 시점의 상태로 사용하기 위해 저장\n",
        "        states_value = [h, c]\n",
        "\n",
        "    return decoded_sentence"
      ],
      "metadata": {
        "id": "IEz-zByXPLxo"
      },
      "execution_count": 27,
      "outputs": []
    },
    {
      "cell_type": "code",
      "source": [
        "# 원문의 정수 시퀀스를 텍스트 시퀀스로 변환\n",
        "def seq2src(input_seq):\n",
        "    temp=''\n",
        "    for i in input_seq:\n",
        "        if(i!=0):\n",
        "            temp = temp + idx2eng[i]+' '\n",
        "    return temp"
      ],
      "metadata": {
        "id": "1VuHfqkvPO-L"
      },
      "execution_count": 28,
      "outputs": []
    },
    {
      "cell_type": "code",
      "source": [
        "# 번역문의 정수 시퀀스를 텍스트 시퀀스로 변환\n",
        "def seq2tar(input_seq):\n",
        "    temp=''\n",
        "    for i in input_seq:\n",
        "        if((i!=0 and i!=fra2idx['<start>']) and i!=fra2idx['<end>']):\n",
        "            temp = temp + idx2fra[i] + ' '\n",
        "    return temp"
      ],
      "metadata": {
        "id": "KtoplFPHPRHc"
      },
      "execution_count": 29,
      "outputs": []
    },
    {
      "cell_type": "markdown",
      "source": [
        "## 모델 평가하기"
      ],
      "metadata": {
        "id": "jO4lfzRFPW8x"
      }
    },
    {
      "cell_type": "code",
      "source": [
        "for seq_index in [1,201,501,1004,2015]:\n",
        "    input_seq = encoder_input_test[seq_index: seq_index + 1]\n",
        "    decoded_sentence = decode_sequence(input_seq)\n",
        "    print(35 * \"-\")\n",
        "    print('입력 문장:', seq2src(encoder_input_test[seq_index]))\n",
        "    print('정답 문장:', seq2tar(decoder_input_test[seq_index]))\n",
        "    print('번역기가 번역한 문장:', decoded_sentence[:len(decoded_sentence)-1])"
      ],
      "metadata": {
        "colab": {
          "base_uri": "https://localhost:8080/"
        },
        "id": "erUUia-2PYvn",
        "outputId": "6c7f31d1-c1a2-417e-dcf5-5af1ac9af979"
      },
      "execution_count": 30,
      "outputs": [
        {
          "output_type": "stream",
          "name": "stdout",
          "text": [
            "1/1 [==============================] - 1s 1s/step\n",
            "1/1 [==============================] - 0s 408ms/step\n",
            "1/1 [==============================] - 0s 16ms/step\n",
            "1/1 [==============================] - 0s 16ms/step\n",
            "-----------------------------------\n",
            "입력 문장: i d like to take a walk . \n",
            "정답 문장: j aimerais faire une promenade . \n",
            "번역기가 번역한 문장:  je voudrais fair\n",
            "1/1 [==============================] - 0s 15ms/step\n",
            "1/1 [==============================] - 0s 15ms/step\n",
            "1/1 [==============================] - 0s 16ms/step\n",
            "1/1 [==============================] - 0s 16ms/step\n",
            "1/1 [==============================] - 0s 16ms/step\n",
            "1/1 [==============================] - 0s 15ms/step\n",
            "1/1 [==============================] - 0s 18ms/step\n",
            "1/1 [==============================] - 0s 15ms/step\n",
            "-----------------------------------\n",
            "입력 문장: who was here this morning ? \n",
            "정답 문장: qui tait l ce matin ? \n",
            "번역기가 번역한 문장:  qui tait l l l l \n",
            "1/1 [==============================] - 0s 14ms/step\n",
            "1/1 [==============================] - 0s 17ms/step\n",
            "1/1 [==============================] - 0s 16ms/step\n",
            "1/1 [==============================] - 0s 15ms/step\n",
            "1/1 [==============================] - 0s 16ms/step\n",
            "1/1 [==============================] - 0s 18ms/step\n",
            "1/1 [==============================] - 0s 15ms/step\n",
            "-----------------------------------\n",
            "입력 문장: that s all i can ask for . \n",
            "정답 문장: c est tout ce que je peux demander . \n",
            "번역기가 번역한 문장:  c me c je je pou\n",
            "1/1 [==============================] - 0s 15ms/step\n",
            "1/1 [==============================] - 0s 17ms/step\n",
            "1/1 [==============================] - 0s 16ms/step\n",
            "1/1 [==============================] - 0s 15ms/step\n",
            "1/1 [==============================] - 0s 17ms/step\n",
            "1/1 [==============================] - 0s 14ms/step\n",
            "1/1 [==============================] - 0s 14ms/step\n",
            "-----------------------------------\n",
            "입력 문장: your room number , please . \n",
            "정답 문장: voici votre num ro de chambre . \n",
            "번역기가 번역한 문장:  ta ta votre ta l \n",
            "1/1 [==============================] - 0s 15ms/step\n",
            "1/1 [==============================] - 0s 16ms/step\n",
            "1/1 [==============================] - 0s 16ms/step\n",
            "1/1 [==============================] - 0s 19ms/step\n",
            "1/1 [==============================] - 0s 18ms/step\n",
            "1/1 [==============================] - 0s 15ms/step\n",
            "1/1 [==============================] - 0s 15ms/step\n",
            "-----------------------------------\n",
            "입력 문장: i m tired of doing this . \n",
            "정답 문장: je suis fatigu de faire ceci . \n",
            "번역기가 번역한 문장:  je en d d faire fair\n"
          ]
        }
      ]
    },
    {
      "cell_type": "markdown",
      "source": [
        "회고\n",
        "\n",
        "-----------------------------------\n",
        "- 입력 문장: i d like to take a walk . \n",
        "- 정답 문장: j aimerais faire une promenade . \n",
        "- 번역기가 번역한 문장:  je voudrais fair\n",
        "-----------------------------------\n",
        "- 입력 문장: who was here this morning ? \n",
        "- 정답 문장: qui tait l ce matin ? \n",
        "- 번역기가 번역한 문장:  qui tait l l l l \n",
        "-----------------------------------\n",
        "- 입력 문장: that s all i can ask for . \n",
        "- 정답 문장: c est tout ce que je peux demander . \n",
        "- 번역기가 번역한 문장:  c me c je je pou\n",
        "-----------------------------------\n",
        "- 입력 문장: your room number , please . \n",
        "- 정답 문장: voici votre num ro de chambre . \n",
        "- 번역기가 번역한 문장:  ta ta votre ta l \n",
        "-----------------------------------\n",
        "- 입력 문장: i m tired of doing this . \n",
        "- 정답 문장: je suis fatigu de faire ceci . \n",
        "- 번역기가 번역한 문장:  je en d d faire fair\n",
        "-----------------------------------\n",
        "\n",
        "모델을 통해 뽑아낸 결과값들이다. 정답 문장과 변역기를 통한 문장이 완전히 동일하지는 않지만 어느정도 비슷한 부분을 볼 수가 있다.\n",
        "\n",
        "이는 세밀한 전처리와 많은 데이터들을 이용하면 커버 가능할 것으로 보여진다. "
      ],
      "metadata": {
        "id": "Z2IHMm51P4Ga"
      }
    },
    {
      "cell_type": "markdown",
      "source": [
        "루브릭\n",
        "\n",
        "아래의 기준을 바탕으로 프로젝트를 평가합니다.\n",
        "\n",
        "평가문항\t상세기준\n",
        "1. 번역기 모델 학습에 필요한 텍스트 데이터 전처리가 잘 이루어졌다.\n",
        "\n",
        "구두점, 대소문자, 띄어쓰기 등 번역기 모델에 요구되는 전처리가 정상적으로 진행되었다.\n",
        "\n",
        "2. seq2seq 기반의 번역기 모델이 정상적으로 구동된다.\n",
        "\n",
        "정상적으로 구동 되었다.\n",
        "\n",
        "3. 테스트 결과 의미가 통하는 수준의 번역문이 생성되었다.\n",
        "\n",
        "한글 번역까지는 하지 못하였지만 번역이 잘 된 모습이다."
      ],
      "metadata": {
        "id": "zg4XGLXnRBDy"
      }
    }
  ]
}