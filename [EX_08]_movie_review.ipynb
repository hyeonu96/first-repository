{
  "cells": [
    {
      "cell_type": "markdown",
      "metadata": {
        "id": "view-in-github",
        "colab_type": "text"
      },
      "source": [
        "<a href=\"https://colab.research.google.com/github/hyeonu96/first-repository/blob/main/%5BEX_08%5D_movie_review.ipynb\" target=\"_parent\"><img src=\"https://colab.research.google.com/assets/colab-badge.svg\" alt=\"Open In Colab\"/></a>"
      ]
    },
    {
      "cell_type": "code",
      "execution_count": null,
      "id": "da0f2faf",
      "metadata": {
        "id": "da0f2faf",
        "outputId": "79f991b2-ba60-4a3a-af5c-f0199498e861"
      },
      "outputs": [
        {
          "name": "stdout",
          "output_type": "stream",
          "text": [
            "1.3.3\n",
            "0.5.2\n",
            "4.1.2\n"
          ]
        }
      ],
      "source": [
        "import pandas\n",
        "import konlpy\n",
        "import gensim\n",
        "\n",
        "print(pandas.__version__)\n",
        "print(konlpy.__version__)\n",
        "print(gensim.__version__)"
      ]
    },
    {
      "cell_type": "code",
      "execution_count": null,
      "id": "18d11a5e",
      "metadata": {
        "id": "18d11a5e"
      },
      "outputs": [],
      "source": [
        "import pandas as pd\n",
        "import urllib.request\n",
        "%matplotlib inline\n",
        "import matplotlib.pyplot as plt\n",
        "import re\n",
        "from konlpy.tag import Okt\n",
        "from tensorflow import keras\n",
        "from tensorflow.keras.preprocessing.text import Tokenizer\n",
        "import numpy as np\n",
        "from tensorflow.keras.preprocessing.sequence import pad_sequences\n",
        "from collections import Counter"
      ]
    },
    {
      "cell_type": "code",
      "execution_count": null,
      "id": "ee9d90a8",
      "metadata": {
        "id": "ee9d90a8",
        "outputId": "f9738259-73e6-47eb-91f2-afbaabb230b7"
      },
      "outputs": [
        {
          "data": {
            "text/html": [
              "<div>\n",
              "<style scoped>\n",
              "    .dataframe tbody tr th:only-of-type {\n",
              "        vertical-align: middle;\n",
              "    }\n",
              "\n",
              "    .dataframe tbody tr th {\n",
              "        vertical-align: top;\n",
              "    }\n",
              "\n",
              "    .dataframe thead th {\n",
              "        text-align: right;\n",
              "    }\n",
              "</style>\n",
              "<table border=\"1\" class=\"dataframe\">\n",
              "  <thead>\n",
              "    <tr style=\"text-align: right;\">\n",
              "      <th></th>\n",
              "      <th>id</th>\n",
              "      <th>document</th>\n",
              "      <th>label</th>\n",
              "    </tr>\n",
              "  </thead>\n",
              "  <tbody>\n",
              "    <tr>\n",
              "      <th>0</th>\n",
              "      <td>9976970</td>\n",
              "      <td>아 더빙.. 진짜 짜증나네요 목소리</td>\n",
              "      <td>0</td>\n",
              "    </tr>\n",
              "    <tr>\n",
              "      <th>1</th>\n",
              "      <td>3819312</td>\n",
              "      <td>흠...포스터보고 초딩영화줄....오버연기조차 가볍지 않구나</td>\n",
              "      <td>1</td>\n",
              "    </tr>\n",
              "    <tr>\n",
              "      <th>2</th>\n",
              "      <td>10265843</td>\n",
              "      <td>너무재밓었다그래서보는것을추천한다</td>\n",
              "      <td>0</td>\n",
              "    </tr>\n",
              "    <tr>\n",
              "      <th>3</th>\n",
              "      <td>9045019</td>\n",
              "      <td>교도소 이야기구먼 ..솔직히 재미는 없다..평점 조정</td>\n",
              "      <td>0</td>\n",
              "    </tr>\n",
              "    <tr>\n",
              "      <th>4</th>\n",
              "      <td>6483659</td>\n",
              "      <td>사이몬페그의 익살스런 연기가 돋보였던 영화!스파이더맨에서 늙어보이기만 했던 커스틴 ...</td>\n",
              "      <td>1</td>\n",
              "    </tr>\n",
              "  </tbody>\n",
              "</table>\n",
              "</div>"
            ],
            "text/plain": [
              "         id                                           document  label\n",
              "0   9976970                                아 더빙.. 진짜 짜증나네요 목소리      0\n",
              "1   3819312                  흠...포스터보고 초딩영화줄....오버연기조차 가볍지 않구나      1\n",
              "2  10265843                                  너무재밓었다그래서보는것을추천한다      0\n",
              "3   9045019                      교도소 이야기구먼 ..솔직히 재미는 없다..평점 조정      0\n",
              "4   6483659  사이몬페그의 익살스런 연기가 돋보였던 영화!스파이더맨에서 늙어보이기만 했던 커스틴 ...      1"
            ]
          },
          "execution_count": 2,
          "metadata": {},
          "output_type": "execute_result"
        }
      ],
      "source": [
        "import pandas as pd\n",
        "\n",
        "# 데이터를 읽어봅시다. \n",
        "train_data = pd.read_table('~/data/ratings_train.txt')\n",
        "test_data = pd.read_table('~/data/ratings_test.txt')\n",
        "\n",
        "train_data.head()"
      ]
    },
    {
      "cell_type": "code",
      "execution_count": null,
      "id": "a988a548",
      "metadata": {
        "id": "a988a548"
      },
      "outputs": [],
      "source": [
        "데이터 전처리\n",
        "\n",
        "위에서 확인한 것처럼 데이터의 전처리가 필요해 보입니다.\n",
        "데이터 중복을 제거\n",
        "결측치 제거\n",
        "한국어 토크나이저로 토큰화\n",
        "불용어 제거\n",
        "사전 word_to_index 구성\n",
        "텍스트 스트링을 사전 인덱스 스트링으로 변환\n",
        "X_train, y_train, X_test, y_test 리턴"
      ]
    },
    {
      "cell_type": "code",
      "execution_count": null,
      "id": "90981310",
      "metadata": {
        "id": "90981310"
      },
      "outputs": [],
      "source": [
        "from konlpy.tag import Mecab\n",
        "import numpy as np\n",
        "from collections import Counter\n",
        "\n",
        "tokenizer = Mecab()\n",
        "stopwords = ['의','가','이','은','들','는','좀','잘','걍','과','도','를','으로','자','에','와','한','하다']\n",
        "\n",
        "def load_data(train_data, test_data, num_words=10000):\n",
        "    train_data.drop_duplicates(subset=['document'], inplace=True)\n",
        "    train_data = train_data.dropna(how = 'any') \n",
        "    test_data.drop_duplicates(subset=['document'], inplace=True)\n",
        "    test_data = test_data.dropna(how = 'any') \n",
        "    \n",
        "    X_train = []\n",
        "    for sentence in train_data['document']:\n",
        "        temp_X = tokenizer.morphs(sentence) # 토큰화\n",
        "        temp_X = [word for word in temp_X if not word in stopwords] # 불용어 제거\n",
        "        X_train.append(temp_X)\n",
        "\n",
        "    X_test = []\n",
        "    for sentence in test_data['document']:\n",
        "        temp_X = tokenizer.morphs(sentence) # 토큰화\n",
        "        temp_X = [word for word in temp_X if not word in stopwords] # 불용어 제거\n",
        "        X_test.append(temp_X)\n",
        "    \n",
        "    words = np.concatenate(X_train).tolist()\n",
        "    counter = Counter(words)\n",
        "    counter = counter.most_common(10000-4)\n",
        "    vocab = ['', '', '', ''] + [key for key, _ in counter]\n",
        "    word_to_index = {word:index for index, word in enumerate(vocab)}\n",
        "        \n",
        "    def wordlist_to_indexlist(wordlist):\n",
        "        return [word_to_index[word] if word in word_to_index else word_to_index[''] for word in wordlist]\n",
        "        \n",
        "    X_train = list(map(wordlist_to_indexlist, X_train))\n",
        "    X_test = list(map(wordlist_to_indexlist, X_test))\n",
        "        \n",
        "    return X_train, np.array(list(train_data['label'])), X_test, np.array(list(test_data['label'])), word_to_index\n",
        "    \n",
        "X_train, y_train, X_test, y_test, word_to_index = load_data(train_data, test_data) "
      ]
    },
    {
      "cell_type": "code",
      "execution_count": null,
      "id": "f4eb4ca6",
      "metadata": {
        "id": "f4eb4ca6"
      },
      "outputs": [],
      "source": [
        "문장의 길의 확인\n",
        "\n",
        "나중 전처리에 포함될 예정이지만 문장의 길이를 확인하는 이유는 나중에 문장길이를 동일하게 맞출 필요가 있습니다.\n",
        "토큰화 된 문장들에 빈자리는 0으로 채우는 것이지요!"
      ]
    },
    {
      "cell_type": "code",
      "execution_count": null,
      "id": "1a9eb244",
      "metadata": {
        "id": "1a9eb244",
        "outputId": "559f05f7-a87f-4bd9-e68a-bd66ee7b7856"
      },
      "outputs": [
        {
          "name": "stdout",
          "output_type": "stream",
          "text": [
            "[32, 74, 919, 4, 4, 39, 228, 20, 33, 748]\n",
            "라벨:  0\n",
            "1번째 리뷰 문장 길이:  10\n",
            "2번째 리뷰 문장 길이:  17\n"
          ]
        }
      ],
      "source": [
        "print(X_train[0])  # 1번째 리뷰데이터\n",
        "print('라벨: ', y_train[0])  # 1번째 리뷰데이터의 라벨\n",
        "print('1번째 리뷰 문장 길이: ', len(X_train[0]))\n",
        "print('2번째 리뷰 문장 길이: ', len(X_train[1]))"
      ]
    },
    {
      "cell_type": "code",
      "execution_count": null,
      "id": "46df2fb3",
      "metadata": {
        "id": "46df2fb3"
      },
      "outputs": [],
      "source": [
        "index to word와 word to index 딕셔너리를 생성합니다.\n",
        "단어들이 어떤식으로 토큰화가 되어있는지 확인하기 편리합니다. \n",
        "숫자를 문자로, 문자를 숫자로 확인하기 편리해 지는 것이지용!"
      ]
    },
    {
      "cell_type": "code",
      "execution_count": null,
      "id": "04c7bd25",
      "metadata": {
        "id": "04c7bd25"
      },
      "outputs": [],
      "source": [
        "index_to_word = {index:word for word, index in word_to_index.items()}"
      ]
    },
    {
      "cell_type": "code",
      "execution_count": null,
      "id": "863c068d",
      "metadata": {
        "id": "863c068d"
      },
      "outputs": [],
      "source": [
        "# 문장 1개를 활용할 딕셔너리와 함께 주면, 단어 인덱스 리스트 벡터로 변환해 주는 함수입니다. \n",
        "# 단, 모든 문장은 <BOS>로 시작하는 것으로 합니다. \n",
        "def get_encoded_sentence(sentence, word_to_index):\n",
        "    return [word_to_index['<BOS>']]+[word_to_index[word] if word in word_to_index else word_to_index['<UNK>'] for word in sentence.split()]\n",
        "\n",
        "# 여러 개의 문장 리스트를 한꺼번에 단어 인덱스 리스트 벡터로 encode해 주는 함수입니다. \n",
        "def get_encoded_sentences(sentences, word_to_index):\n",
        "    return [get_encoded_sentence(sentence, word_to_index) for sentence in sentences]\n",
        "\n",
        "# 숫자 벡터로 encode된 문장을 원래대로 decode하는 함수입니다. \n",
        "def get_decoded_sentence(encoded_sentence, index_to_word):\n",
        "    return ' '.join(index_to_word[index] if index in index_to_word else '<UNK>' for index in encoded_sentence[1:])  #[1:]를 통해 <BOS>를 제외\n",
        "\n",
        "# 여러 개의 숫자 벡터로 encode된 문장을 한꺼번에 원래대로 decode하는 함수입니다. \n",
        "def get_decoded_sentences(encoded_sentences, index_to_word):\n",
        "    return [get_decoded_sentence(encoded_sentence, index_to_word) for encoded_sentence in encoded_sentences]"
      ]
    },
    {
      "cell_type": "code",
      "execution_count": null,
      "id": "d9601560",
      "metadata": {
        "id": "d9601560"
      },
      "outputs": [],
      "source": [
        "토큰화해서 저장한 Train 데이터들을 decode해서 확인해보겠습니다.\n",
        "\n",
        "위에서 확인했듯 X_train은 토큰화된 숫자로 이뤄져있습니다.\n",
        "decode해주는 함수를 통해 문장을 확인할 수 있습니다."
      ]
    },
    {
      "cell_type": "code",
      "execution_count": null,
      "id": "6e680ca6",
      "metadata": {
        "id": "6e680ca6"
      },
      "outputs": [],
      "source": [
        "decoded_sentences = get_decoded_sentences(X_train, index_to_word)"
      ]
    },
    {
      "cell_type": "code",
      "execution_count": null,
      "id": "5c1849af",
      "metadata": {
        "id": "5c1849af",
        "outputId": "57adfece-ebf3-48bd-84d0-568a13a8a9d6"
      },
      "outputs": [
        {
          "name": "stdout",
          "output_type": "stream",
          "text": [
            "['더 빙 . . 진짜 짜증 나 네요 목소리', '. .. 포스터 보고 초딩 영화 줄 . ... 오버 연기 조차 가볍 지 않 구나', '재 ', '이야기 구먼 . . 솔직히 재미 없 다 . . 평점 조정', '익살 스런 연기 돋보였 던 영화 ! 스파이더맨 에서 늙 어 보이 기 만 했 던   너무나 이뻐 보였 다']\n"
          ]
        }
      ],
      "source": [
        "print(decoded_sentences[0:5])"
      ]
    },
    {
      "cell_type": "code",
      "execution_count": null,
      "id": "954a58e2",
      "metadata": {
        "id": "954a58e2"
      },
      "outputs": [],
      "source": [
        "PAD, BOS, UNK, UNUSED 를 추가하는 작업을 합니다.\n",
        "\n",
        "문장의 길이를 맞추면 부족한 부분은 0으로 채워지기 때문입니다."
      ]
    },
    {
      "cell_type": "code",
      "execution_count": null,
      "id": "305ae923",
      "metadata": {
        "id": "305ae923",
        "outputId": "e7040921-62f6-447a-b8f1-6e9c52ecfdd0"
      },
      "outputs": [
        {
          "name": "stdout",
          "output_type": "stream",
          "text": [
            "<BOS>\n"
          ]
        }
      ],
      "source": [
        "#실제 인코딩 인덱스는 제공된 word_to_index에서 index 기준으로 3씩 뒤로 밀려 있습니다.  \n",
        "word_to_index = {k:(v+1) for k,v in word_to_index.items()}\n",
        "\n",
        "# 처음 몇 개 인덱스는 사전에 정의되어 있습니다\n",
        "word_to_index[\"<PAD>\"] = 0\n",
        "word_to_index[\"<BOS>\"] = 1\n",
        "word_to_index[\"<UNK>\"] = 2  # unknown\n",
        "word_to_index[\"<UNUSED>\"] = 3\n",
        "\n",
        "index_to_word[0] = \"<PAD>\"\n",
        "index_to_word[1] = \"<BOS>\"\n",
        "index_to_word[2] = \"<UNK>\"\n",
        "index_to_word[3] = \"<UNUSED>\"\n",
        "\n",
        "index_to_word = {index:word for word, index in word_to_index.items()}\n",
        "\n",
        "print(index_to_word[1])     # '<BOS>' 가 출력됩니다."
      ]
    },
    {
      "cell_type": "code",
      "execution_count": null,
      "id": "1709fd01",
      "metadata": {
        "id": "1709fd01"
      },
      "outputs": [],
      "source": [
        "적절한 문장길이 찾기 - 최대 길이를 평균+2X표준편차 의 사이즈로 하겠습니다."
      ]
    },
    {
      "cell_type": "code",
      "execution_count": null,
      "id": "91179829",
      "metadata": {
        "id": "91179829",
        "outputId": "627ed8dc-62a8-43a7-9623-3a72aaf12fc5"
      },
      "outputs": [
        {
          "name": "stdout",
          "output_type": "stream",
          "text": [
            "문장길이 평균 :  15.96940191154864\n",
            "문장길이 최대 :  116\n",
            "문장길이 표준편차 :  12.843571191092\n",
            "pad_sequences maxlen :  41\n",
            "전체 문장의 0.9342988343341575%가 maxlen 설정값 이내에 포함됩니다. \n"
          ]
        }
      ],
      "source": [
        "total_data_text = list(X_train) + list(X_test)\n",
        "# 텍스트데이터 문장길이의 리스트를 생성한 후\n",
        "num_tokens = [len(tokens) for tokens in total_data_text]\n",
        "num_tokens = np.array(num_tokens)\n",
        "# 문장길이의 평균값, 최대값, 표준편차를 계산해 본다. \n",
        "print('문장길이 평균 : ', np.mean(num_tokens))\n",
        "print('문장길이 최대 : ', np.max(num_tokens))\n",
        "print('문장길이 표준편차 : ', np.std(num_tokens))\n",
        "\n",
        "# 예를들어, 최대 길이를 (평균 + 2*표준편차)로 한다면,  \n",
        "max_tokens = np.mean(num_tokens) + 2 * np.std(num_tokens)\n",
        "maxlen = int(max_tokens)\n",
        "print('pad_sequences maxlen : ', maxlen)\n",
        "print('전체 문장의 {}%가 maxlen 설정값 이내에 포함됩니다. '.format(np.sum(num_tokens < max_tokens) / len(num_tokens)))"
      ]
    },
    {
      "cell_type": "code",
      "execution_count": null,
      "id": "1d7556e0",
      "metadata": {
        "id": "1d7556e0"
      },
      "outputs": [],
      "source": [
        "문장에 앞에 0을 채워 넣는것이 더 좋은 분석이 된다고 해서 앞에 0을 채웁니다.\n",
        "\n",
        "그 이유는 RNN 특성상 분석을 하다가 마지막에 답을 호출하기 때문입니다. \n",
        "문장을 맞추기 위해 뒤에 0을 채우면 문장마다 다 0으로 끝나버리기 때문에 RNN이 조금 이상하겠죠,,,?"
      ]
    },
    {
      "cell_type": "code",
      "execution_count": null,
      "id": "7f32c7ca",
      "metadata": {
        "id": "7f32c7ca",
        "outputId": "bc85169f-ead6-408e-ed7d-9dd6986349a8"
      },
      "outputs": [
        {
          "name": "stdout",
          "output_type": "stream",
          "text": [
            "(146182, 41)\n"
          ]
        },
        {
          "data": {
            "text/plain": [
              "array([  0,   0,   0,   0,   0,   0,   0,   0,   0,   0,   0,   0,   0,\n",
              "         0,   0,   0,   0,   0,   0,   0,   0,   0,   0,   0,   0,   0,\n",
              "         0,   0,   0,   0,   0,  32,  74, 919,   4,   4,  39, 228,  20,\n",
              "        33, 748], dtype=int32)"
            ]
          },
          "execution_count": 12,
          "metadata": {},
          "output_type": "execute_result"
        }
      ],
      "source": [
        "X_train = keras.preprocessing.sequence.pad_sequences(X_train,\n",
        "                                                        value=word_to_index[\"<PAD>\"],\n",
        "                                                        padding='pre', # 혹은 'pre'\n",
        "                                                        maxlen=maxlen)\n",
        "\n",
        "X_test = keras.preprocessing.sequence.pad_sequences(X_test,\n",
        "                                                       value=word_to_index[\"<PAD>\"],\n",
        "                                                       padding='pre', # 혹은 'pre'\n",
        "                                                       maxlen=maxlen)\n",
        "\n",
        "print(X_train.shape)\n",
        "X_train[0]"
      ]
    },
    {
      "cell_type": "code",
      "execution_count": null,
      "id": "884ea73c",
      "metadata": {
        "id": "884ea73c"
      },
      "outputs": [],
      "source": [
        "train의 일부를 validation으로 나누자\n",
        "\n",
        "train, validation을 80:20으로 나누겠습니다"
      ]
    },
    {
      "cell_type": "code",
      "execution_count": null,
      "id": "ea6feef5",
      "metadata": {
        "id": "ea6feef5"
      },
      "outputs": [],
      "source": [
        "from sklearn.model_selection import train_test_split\n",
        "X_train, X_val, y_train, y_val = train_test_split(X_train, \n",
        "                                                          y_train,\n",
        "                                                          test_size=0.2,\n",
        "                                                          shuffle=True, \n",
        "                                                          random_state=34)"
      ]
    },
    {
      "cell_type": "code",
      "execution_count": null,
      "id": "46c5d0f4",
      "metadata": {
        "id": "46c5d0f4"
      },
      "outputs": [],
      "source": [
        "LSTM모델에 넣어 분석해보자"
      ]
    },
    {
      "cell_type": "code",
      "execution_count": null,
      "id": "3a3cb2bd",
      "metadata": {
        "id": "3a3cb2bd",
        "outputId": "77318147-8ff4-4089-d7c7-13e0f37ecee4"
      },
      "outputs": [
        {
          "name": "stdout",
          "output_type": "stream",
          "text": [
            "Model: \"sequential\"\n",
            "_________________________________________________________________\n",
            "Layer (type)                 Output Shape              Param #   \n",
            "=================================================================\n",
            "embedding (Embedding)        (None, None, 41)          410000    \n",
            "_________________________________________________________________\n",
            "lstm (LSTM)                  (None, 512)               1134592   \n",
            "_________________________________________________________________\n",
            "dense (Dense)                (None, 8)                 4104      \n",
            "_________________________________________________________________\n",
            "dense_1 (Dense)              (None, 1)                 9         \n",
            "=================================================================\n",
            "Total params: 1,548,705\n",
            "Trainable params: 1,548,705\n",
            "Non-trainable params: 0\n",
            "_________________________________________________________________\n"
          ]
        }
      ],
      "source": [
        "vocab_size = 10000    # 어휘 사전의 크기입니다(10,000개의 단어)\n",
        "word_vector_dim = 41  # 워드 벡터의 차원 수 (변경 가능한 하이퍼파라미터)\n",
        "\n",
        "# model 설계 - 딥러닝 모델 코드를 직접 작성해 주세요.\n",
        "model = keras.Sequential()\n",
        "model.add(keras.layers.Embedding(vocab_size, word_vector_dim, input_shape=(None,)))\n",
        "model.add(keras.layers.LSTM(512))   # 가장 널리 쓰이는 RNN인 LSTM 레이어를 사용하였습니다. 이때 LSTM state 벡터의 차원수는 8로 하였습니다. (변경 가능)\n",
        "model.add(keras.layers.Dense(8, activation='relu'))\n",
        "model.add(keras.layers.Dense(1, activation='sigmoid'))  # 최종 출력은 긍정/부정을 나타내는 1dim 입니다.\n",
        "\n",
        "model.summary()"
      ]
    },
    {
      "cell_type": "code",
      "execution_count": null,
      "id": "0831b9cb",
      "metadata": {
        "id": "0831b9cb"
      },
      "outputs": [],
      "source": [
        "model.compile(optimizer='adam',\n",
        "              loss='binary_crossentropy',\n",
        "              metrics=['accuracy'])"
      ]
    },
    {
      "cell_type": "code",
      "execution_count": null,
      "id": "fdfe7c48",
      "metadata": {
        "id": "fdfe7c48"
      },
      "outputs": [],
      "source": [
        "earlystopping을 이용해서 과적합을 방지합니다!"
      ]
    },
    {
      "cell_type": "code",
      "execution_count": null,
      "id": "d5e323fe",
      "metadata": {
        "id": "d5e323fe"
      },
      "outputs": [],
      "source": [
        "from keras.callbacks import EarlyStopping\n",
        "es=EarlyStopping(monitor='val_loss',mode='min',verbose=1,patience=10)"
      ]
    },
    {
      "cell_type": "code",
      "execution_count": null,
      "id": "8778f4b4",
      "metadata": {
        "id": "8778f4b4",
        "outputId": "32e44e87-cdf8-4b78-94b7-7901f5bdbd25"
      },
      "outputs": [
        {
          "name": "stdout",
          "output_type": "stream",
          "text": [
            "Epoch 1/20\n",
            "229/229 [==============================] - 19s 51ms/step - loss: 0.5573 - accuracy: 0.7750 - val_loss: 0.4947 - val_accuracy: 0.8331\n",
            "Epoch 2/20\n",
            "229/229 [==============================] - 11s 49ms/step - loss: 0.4568 - accuracy: 0.8518 - val_loss: 0.4624 - val_accuracy: 0.8388\n",
            "Epoch 3/20\n",
            "229/229 [==============================] - 11s 50ms/step - loss: 0.4138 - accuracy: 0.8646 - val_loss: 0.4390 - val_accuracy: 0.8400\n",
            "Epoch 4/20\n",
            "229/229 [==============================] - 12s 50ms/step - loss: 0.3807 - accuracy: 0.8735 - val_loss: 0.4371 - val_accuracy: 0.8397\n",
            "Epoch 5/20\n",
            "229/229 [==============================] - 12s 51ms/step - loss: 0.3509 - accuracy: 0.8833 - val_loss: 0.4177 - val_accuracy: 0.8463\n",
            "Epoch 6/20\n",
            "229/229 [==============================] - 12s 52ms/step - loss: 0.3212 - accuracy: 0.8945 - val_loss: 0.4063 - val_accuracy: 0.8451\n",
            "Epoch 7/20\n",
            "229/229 [==============================] - 12s 53ms/step - loss: 0.2942 - accuracy: 0.9028 - val_loss: 0.4195 - val_accuracy: 0.8486\n",
            "Epoch 8/20\n",
            "229/229 [==============================] - 12s 53ms/step - loss: 0.2708 - accuracy: 0.9115 - val_loss: 0.4368 - val_accuracy: 0.8459\n",
            "Epoch 9/20\n",
            "229/229 [==============================] - 12s 54ms/step - loss: 0.2506 - accuracy: 0.9189 - val_loss: 0.4565 - val_accuracy: 0.8427\n",
            "Epoch 10/20\n",
            "229/229 [==============================] - 13s 55ms/step - loss: 0.2330 - accuracy: 0.9255 - val_loss: 0.4299 - val_accuracy: 0.8455\n",
            "Epoch 11/20\n",
            "229/229 [==============================] - 12s 54ms/step - loss: 0.2167 - accuracy: 0.9318 - val_loss: 0.4663 - val_accuracy: 0.8418\n",
            "Epoch 12/20\n",
            "229/229 [==============================] - 12s 54ms/step - loss: 0.2038 - accuracy: 0.9363 - val_loss: 0.5004 - val_accuracy: 0.8412\n",
            "Epoch 13/20\n",
            "229/229 [==============================] - 12s 53ms/step - loss: 0.1911 - accuracy: 0.9403 - val_loss: 0.5193 - val_accuracy: 0.8395\n",
            "Epoch 14/20\n",
            "229/229 [==============================] - 12s 53ms/step - loss: 0.1810 - accuracy: 0.9446 - val_loss: 0.5530 - val_accuracy: 0.8398\n",
            "Epoch 15/20\n",
            "229/229 [==============================] - 12s 53ms/step - loss: 0.1720 - accuracy: 0.9475 - val_loss: 0.5582 - val_accuracy: 0.8402\n",
            "Epoch 16/20\n",
            "229/229 [==============================] - 12s 54ms/step - loss: 0.1660 - accuracy: 0.9497 - val_loss: 0.5800 - val_accuracy: 0.8427\n",
            "Epoch 00016: early stopping\n"
          ]
        }
      ],
      "source": [
        "history = model.fit(X_train,\n",
        "                    y_train,\n",
        "                    epochs=20,\n",
        "                    batch_size=512,callbacks=[es],\n",
        "                    validation_data=(X_val, y_val),\n",
        "                    verbose=1)"
      ]
    },
    {
      "cell_type": "code",
      "execution_count": null,
      "id": "2e75f0c5",
      "metadata": {
        "id": "2e75f0c5"
      },
      "outputs": [],
      "source": [
        "결과를 보니 85%에는 아직 모자릅니다"
      ]
    },
    {
      "cell_type": "code",
      "execution_count": null,
      "id": "1580aa0a",
      "metadata": {
        "id": "1580aa0a",
        "outputId": "893d6c1d-6dc7-47f8-ccb8-b92a143f4957"
      },
      "outputs": [
        {
          "name": "stdout",
          "output_type": "stream",
          "text": [
            "1537/1537 - 5s - loss: 0.5809 - accuracy: 0.8399\n",
            "[0.580918550491333, 0.8399413824081421]\n"
          ]
        }
      ],
      "source": [
        "results = model.evaluate(X_test,  y_test, verbose=2)\n",
        "\n",
        "print(results)"
      ]
    },
    {
      "cell_type": "code",
      "execution_count": null,
      "id": "4c56a3bd",
      "metadata": {
        "id": "4c56a3bd"
      },
      "outputs": [],
      "source": [
        "LSTM모델 그래프로 그려보기"
      ]
    },
    {
      "cell_type": "code",
      "execution_count": null,
      "id": "ee2bf738",
      "metadata": {
        "id": "ee2bf738",
        "outputId": "8095403e-b9ab-4aa5-95e3-bde562f81850"
      },
      "outputs": [
        {
          "name": "stdout",
          "output_type": "stream",
          "text": [
            "dict_keys(['loss', 'accuracy', 'val_loss', 'val_accuracy'])\n"
          ]
        }
      ],
      "source": [
        "history_dict = history.history\n",
        "print(history_dict.keys())"
      ]
    },
    {
      "cell_type": "code",
      "execution_count": null,
      "id": "8d7322ad",
      "metadata": {
        "id": "8d7322ad",
        "outputId": "569c2031-33b8-4a94-bda3-7d3c8a8cd3c9"
      },
      "outputs": [
        {
          "data": {
            "image/png": "[encoded data removed]",
            "text/plain": [
              "<Figure size 432x288 with 1 Axes>"
            ]
          },
          "metadata": {
            "needs_background": "light"
          },
          "output_type": "display_data"
        }
      ],
      "source": [
        "import matplotlib.pyplot as plt\n",
        "\n",
        "acc = history_dict['accuracy']\n",
        "val_acc = history_dict['val_accuracy']\n",
        "loss = history_dict['loss']\n",
        "val_loss = history_dict['val_loss']\n",
        "\n",
        "epochs = range(1, len(acc) + 1)\n",
        "\n",
        "# \"bo\"는 \"파란색 점\"입니다\n",
        "plt.plot(epochs, loss, 'bo', label='Training loss')\n",
        "# b는 \"파란 실선\"입니다\n",
        "plt.plot(epochs, val_loss, 'b', label='Validation loss')\n",
        "plt.title('Training and validation loss')\n",
        "plt.xlabel('Epochs')\n",
        "plt.ylabel('Loss')\n",
        "plt.legend()\n",
        "\n",
        "plt.show()"
      ]
    },
    {
      "cell_type": "code",
      "execution_count": null,
      "id": "40e93e6f",
      "metadata": {
        "id": "40e93e6f"
      },
      "outputs": [],
      "source": [
        "그래프를 보니 Training의 loss는 점점 줄었지만 validation은 늘었습니다. 과적합이 되면서 점점 못맞추게 되는 걸까요,,?"
      ]
    },
    {
      "cell_type": "code",
      "execution_count": null,
      "id": "3d1ea245",
      "metadata": {
        "id": "3d1ea245",
        "outputId": "9e6bbe66-8d2c-495e-f0e8-d9a98b01ff42"
      },
      "outputs": [
        {
          "data": {
            "image/png": "[encoded data removed]",
            "text/plain": [
              "<Figure size 432x288 with 1 Axes>"
            ]
          },
          "metadata": {
            "needs_background": "light"
          },
          "output_type": "display_data"
        }
      ],
      "source": [
        "plt.clf()   # 그림을 초기화합니다\n",
        "\n",
        "plt.plot(epochs, acc, 'bo', label='Training acc')\n",
        "plt.plot(epochs, val_acc, 'b', label='Validation acc')\n",
        "plt.title('Training and validation accuracy')\n",
        "plt.xlabel('Epochs')\n",
        "plt.ylabel('Accuracy')\n",
        "plt.legend()\n",
        "\n",
        "plt.show()"
      ]
    },
    {
      "cell_type": "code",
      "execution_count": null,
      "id": "edcc2ea1",
      "metadata": {
        "id": "edcc2ea1"
      },
      "outputs": [],
      "source": [
        "정확도도 train은 점점 잘 맞추는 반면 validation은 고만고만 합니다!"
      ]
    },
    {
      "cell_type": "code",
      "execution_count": null,
      "id": "a9084453",
      "metadata": {
        "id": "a9084453"
      },
      "outputs": [],
      "source": [
        "1-D CNN 적용하기"
      ]
    },
    {
      "cell_type": "code",
      "execution_count": null,
      "id": "f5b2b1aa",
      "metadata": {
        "id": "f5b2b1aa",
        "outputId": "03f90651-2ab0-4847-9f5d-87760744cf0e"
      },
      "outputs": [
        {
          "name": "stdout",
          "output_type": "stream",
          "text": [
            "Model: \"sequential_1\"\n",
            "_________________________________________________________________\n",
            "Layer (type)                 Output Shape              Param #   \n",
            "=================================================================\n",
            "embedding_1 (Embedding)      (None, None, 41)          410000    \n",
            "_________________________________________________________________\n",
            "conv1d (Conv1D)              (None, None, 16)          4608      \n",
            "_________________________________________________________________\n",
            "max_pooling1d (MaxPooling1D) (None, None, 16)          0         \n",
            "_________________________________________________________________\n",
            "conv1d_1 (Conv1D)            (None, None, 16)          1808      \n",
            "_________________________________________________________________\n",
            "global_max_pooling1d (Global (None, 16)                0         \n",
            "_________________________________________________________________\n",
            "dense_2 (Dense)              (None, 8)                 136       \n",
            "_________________________________________________________________\n",
            "dense_3 (Dense)              (None, 1)                 9         \n",
            "=================================================================\n",
            "Total params: 416,561\n",
            "Trainable params: 416,561\n",
            "Non-trainable params: 0\n",
            "_________________________________________________________________\n"
          ]
        }
      ],
      "source": [
        "model = keras.Sequential()\n",
        "model.add(keras.layers.Embedding(vocab_size, word_vector_dim, input_shape=(None,)))\n",
        "model.add(keras.layers.Conv1D(16, 7, activation='relu'))\n",
        "model.add(keras.layers.MaxPooling1D(5))\n",
        "model.add(keras.layers.Conv1D(16, 7, activation='relu'))\n",
        "model.add(keras.layers.GlobalMaxPooling1D())\n",
        "model.add(keras.layers.Dense(8, activation='relu'))\n",
        "model.add(keras.layers.Dense(1, activation='sigmoid'))  # 최종 출력은 긍정/부정을 나타내는 1dim 입니다.\n",
        "\n",
        "model.summary()"
      ]
    },
    {
      "cell_type": "code",
      "execution_count": null,
      "id": "de2aa77b",
      "metadata": {
        "id": "de2aa77b"
      },
      "outputs": [],
      "source": [
        "model.compile(optimizer='adam',\n",
        "              loss='binary_crossentropy',\n",
        "              metrics=['accuracy'])"
      ]
    },
    {
      "cell_type": "code",
      "execution_count": null,
      "id": "4e29dba1",
      "metadata": {
        "id": "4e29dba1",
        "outputId": "72853927-eba2-4134-83eb-a6911e0b77ed"
      },
      "outputs": [
        {
          "name": "stdout",
          "output_type": "stream",
          "text": [
            "Epoch 1/20\n",
            "229/229 [==============================] - 3s 6ms/step - loss: 0.4684 - accuracy: 0.7791 - val_loss: 0.3549 - val_accuracy: 0.8461\n",
            "Epoch 2/20\n",
            "229/229 [==============================] - 1s 5ms/step - loss: 0.3119 - accuracy: 0.8676 - val_loss: 0.3437 - val_accuracy: 0.8510\n",
            "Epoch 3/20\n",
            "229/229 [==============================] - 1s 5ms/step - loss: 0.2668 - accuracy: 0.8908 - val_loss: 0.3449 - val_accuracy: 0.8554\n",
            "Epoch 4/20\n",
            "229/229 [==============================] - 1s 5ms/step - loss: 0.2213 - accuracy: 0.9139 - val_loss: 0.3648 - val_accuracy: 0.8527\n",
            "Epoch 5/20\n",
            "229/229 [==============================] - 1s 5ms/step - loss: 0.1698 - accuracy: 0.9387 - val_loss: 0.4090 - val_accuracy: 0.8471\n",
            "Epoch 6/20\n",
            "229/229 [==============================] - 1s 5ms/step - loss: 0.1250 - accuracy: 0.9577 - val_loss: 0.4597 - val_accuracy: 0.8401\n",
            "Epoch 7/20\n",
            "229/229 [==============================] - 1s 5ms/step - loss: 0.0907 - accuracy: 0.9708 - val_loss: 0.5104 - val_accuracy: 0.8350\n",
            "Epoch 8/20\n",
            "229/229 [==============================] - 1s 5ms/step - loss: 0.0661 - accuracy: 0.9798 - val_loss: 0.5840 - val_accuracy: 0.8326\n",
            "Epoch 9/20\n",
            "229/229 [==============================] - 1s 5ms/step - loss: 0.0505 - accuracy: 0.9852 - val_loss: 0.6621 - val_accuracy: 0.8295\n",
            "Epoch 10/20\n",
            "229/229 [==============================] - 1s 5ms/step - loss: 0.0396 - accuracy: 0.9888 - val_loss: 0.7044 - val_accuracy: 0.8287\n",
            "Epoch 11/20\n",
            "229/229 [==============================] - 1s 5ms/step - loss: 0.0317 - accuracy: 0.9907 - val_loss: 0.7796 - val_accuracy: 0.8268\n",
            "Epoch 12/20\n",
            "229/229 [==============================] - 1s 5ms/step - loss: 0.0265 - accuracy: 0.9926 - val_loss: 0.8400 - val_accuracy: 0.8236\n",
            "Epoch 00012: early stopping\n"
          ]
        }
      ],
      "source": [
        "history = model.fit(X_train,\n",
        "                    y_train,\n",
        "                    epochs=20,\n",
        "                    batch_size=512,callbacks=[es],\n",
        "                    validation_data=(X_val, y_val),\n",
        "                    verbose=1)"
      ]
    },
    {
      "cell_type": "code",
      "execution_count": null,
      "id": "c7613549",
      "metadata": {
        "id": "c7613549",
        "outputId": "3b9d66f5-26cf-48a8-b081-cba48c98d1db"
      },
      "outputs": [
        {
          "name": "stdout",
          "output_type": "stream",
          "text": [
            "1537/1537 - 3s - loss: 0.8383 - accuracy: 0.8236\n",
            "[0.838267982006073, 0.8236466646194458]\n"
          ]
        }
      ],
      "source": [
        "results = model.evaluate(X_test,  y_test, verbose=2)\n",
        "\n",
        "print(results)"
      ]
    },
    {
      "cell_type": "code",
      "execution_count": null,
      "id": "e824804f",
      "metadata": {
        "id": "e824804f"
      },
      "outputs": [],
      "source": [
        "1-D CNN 그래프로 그려보기"
      ]
    },
    {
      "cell_type": "code",
      "execution_count": null,
      "id": "a32d1941",
      "metadata": {
        "id": "a32d1941",
        "outputId": "a6c5915f-8ba1-4161-e918-233964a1e621"
      },
      "outputs": [
        {
          "name": "stdout",
          "output_type": "stream",
          "text": [
            "dict_keys(['loss', 'accuracy', 'val_loss', 'val_accuracy'])\n"
          ]
        }
      ],
      "source": [
        "history_dict = history.history\n",
        "print(history_dict.keys())"
      ]
    },
    {
      "cell_type": "code",
      "execution_count": null,
      "id": "8556d22b",
      "metadata": {
        "id": "8556d22b",
        "outputId": "b70eda4e-1395-4ace-fbd3-6e6d5a69664c"
      },
      "outputs": [
        {
          "data": {
            "image/png": "[encoded data removed]",
            "text/plain": [
              "<Figure size 432x288 with 1 Axes>"
            ]
          },
          "metadata": {
            "needs_background": "light"
          },
          "output_type": "display_data"
        }
      ],
      "source": [
        "import matplotlib.pyplot as plt\n",
        "\n",
        "acc = history_dict['accuracy']\n",
        "val_acc = history_dict['val_accuracy']\n",
        "loss = history_dict['loss']\n",
        "val_loss = history_dict['val_loss']\n",
        "\n",
        "epochs = range(1, len(acc) + 1)\n",
        "\n",
        "# \"bo\"는 \"파란색 점\"입니다\n",
        "plt.plot(epochs, loss, 'bo', label='Training loss')\n",
        "# b는 \"파란 실선\"입니다\n",
        "plt.plot(epochs, val_loss, 'b', label='Validation loss')\n",
        "plt.title('Training and validation loss')\n",
        "plt.xlabel('Epochs')\n",
        "plt.ylabel('Loss')\n",
        "plt.legend()\n",
        "\n",
        "plt.show()"
      ]
    },
    {
      "cell_type": "code",
      "execution_count": null,
      "id": "fa2a8e73",
      "metadata": {
        "id": "fa2a8e73",
        "outputId": "182cbb5f-8555-413d-c9ac-dd2e4fe8445a"
      },
      "outputs": [
        {
          "data": {
            "image/png": "[encoded data removed]",
            "text/plain": [
              "<Figure size 432x288 with 1 Axes>"
            ]
          },
          "metadata": {
            "needs_background": "light"
          },
          "output_type": "display_data"
        }
      ],
      "source": [
        "plt.clf()   # 그림을 초기화합니다\n",
        "\n",
        "plt.plot(epochs, acc, 'bo', label='Training acc')\n",
        "plt.plot(epochs, val_acc, 'b', label='Validation acc')\n",
        "plt.title('Training and validation accuracy')\n",
        "plt.xlabel('Epochs')\n",
        "plt.ylabel('Accuracy')\n",
        "plt.legend()\n",
        "\n",
        "plt.show()"
      ]
    },
    {
      "cell_type": "code",
      "execution_count": null,
      "id": "02368cb4",
      "metadata": {
        "id": "02368cb4"
      },
      "outputs": [],
      "source": [
        "1-D CNN도 LSTM과 비슷한 그래프 모양을 하고 있습니다."
      ]
    },
    {
      "cell_type": "code",
      "execution_count": null,
      "id": "7abee643",
      "metadata": {
        "id": "7abee643"
      },
      "outputs": [],
      "source": [
        "더 많은 것들은 학습하였지만 2022-10-18 pm10:00 경에 노선 연결이 끊겨작업한 데이터가 모두 날아갔습니다.\n",
        "    이번것은 제출용으로만 두고 이번 익스가 끝난 후 복습해야함."
      ]
    }
  ],
  "metadata": {
    "kernelspec": {
      "display_name": "Python 3 (ipykernel)",
      "language": "python",
      "name": "python3"
    },
    "language_info": {
      "codemirror_mode": {
        "name": "ipython",
        "version": 3
      },
      "file_extension": ".py",
      "mimetype": "text/x-python",
      "name": "python",
      "nbconvert_exporter": "python",
      "pygments_lexer": "ipython3",
      "version": "3.9.7"
    },
    "colab": {
      "provenance": [],
      "include_colab_link": true
    }
  },
  "nbformat": 4,
  "nbformat_minor": 5
}